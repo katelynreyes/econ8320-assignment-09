{
 "cells": [
  {
   "cell_type": "markdown",
   "id": "ae46a534-3fb2-431b-9a2e-aced08023ac0",
   "metadata": {},
   "source": [
    "## Web APIs - The Alternative to Scraping"
   ]
  },
  {
   "cell_type": "markdown",
   "id": "2a5393a0-6934-4189-8d87-090f7feea125",
   "metadata": {},
   "source": [
    "Web scraping doesn't always work. Many modern websites are built in a way that makes it particularly hard to scrape. They may do one of the following:\n",
    "\n",
    "- Incorporate \"infinite scrolling\", so that the page that is loaded is not the same as the content you want to scrape\n",
    "- Block scraping through bot detection\n",
    "- Have a website sufficiently complex that scraping is too hard to implement\n",
    "\n",
    "Why would websites actively discourage or even make scraping impossible? For the most part, we can imagine websites as a storefront. The website is designed to provide some good or service in exchange for either money (through purchases) or in exchange for the consumption of advertisements or other forms of compensation. Although these \"storefronts\" are online, they are not costless. \n",
    "\n",
    "Every time a website is requested, the server must send that information to the person/computer/bot that has requested it. This might be very cheap for a single request, but these costs add up when hundreds, thousands, or even millions of requests must be processed. When we scrape a website, we are in essence trying to collect a good (data) without compensating the group who maintains the website. For this reason, many websites will seek to block web scraping whenever they detect it, and will include a statement to this effect in their terms of service.\n",
    "\n",
    "In cases where scraping is not feasible for one reason or another, we will need an alternative way to collect data. Web APIs will be our key to data collection in these situations.\n"
   ]
  },
  {
   "cell_type": "markdown",
   "id": "23fbaebd-86ae-4280-85d3-103a06e42686",
   "metadata": {},
   "source": [
    "## What are web APIs?\n",
    "\n",
    "The acronym **API** stands for **Application Programming Interface**, and is the name for the way in which a program or user may communicate with another program. Using an API enables the creation of explicit mechanisms for input and output of data.\n",
    "\n",
    "A **web API** is simply the API that allows users and programs to interact with a website or web service, so that we can automate or streamline online interactions. APIs are used for the following (and much more!):\n",
    "\n",
    "- 3rd party social media apps\n",
    "- Map interfaces on business websites\n",
    "- Data collection\n",
    "\n",
    "\n",
    "### Comparing APIs to Scraping\n",
    "\n",
    "When using a web API, our process is very different than when we scrape. As discussed earlier, scraping typically occurs at the expense of the service provider, making many websites averse to allowing scraping to take place. On the other hand, when using an API, there is an explicit agreement between the provider of data and the consumer. In many cases, APIs cost money to use, and are designed to compensate the service provider in a transaction reflecting the fact that the consumer no longer seeks to buy a good/service on the website or view advertisements. Instead, the data being transferred is the product to be consumed.\n",
    "\n",
    "While we will use a free and open API to learn during this class, bear in mind that many (if not most) APIs will require the user to register before making requests, and may also require payment. This arrangement allows both users and providers to benefit from the exchange of data.\n"
   ]
  },
  {
   "cell_type": "markdown",
   "id": "77c5c1ae-1764-4b51-bd36-5f5a3ce156cc",
   "metadata": {},
   "source": [
    "## Using a web API\n",
    "\n",
    "To learn about using web APIs, we will experiment with the free location API provided by [zippopotam.us](http://www.zippopotam.us/). We will learn the basics of API use with the simple examples that can be implemented through the Zippopotamus API, and hopefully make some fun graphs while we are at it!\n",
    "\n",
    "Most web APIs are accessed through the use of a URL, just like any other website. We then use the various extensions of the URL to make a request for an API call, rather than to request a specific website. Let's give this a try with the `requests` library, and see what we get back as we request various URLs from Zippopotamus:"
   ]
  },
  {
   "cell_type": "code",
   "execution_count": 16,
   "id": "46fe937a-474d-40e8-8a46-f63f73fa00dd",
   "metadata": {},
   "outputs": [
    {
     "data": {
      "text/plain": [
       "'{\"country\": \"United States\", \"country abbreviation\": \"US\", \"post code\": \"68022\", \"places\": [{\"place name\": \"Elkhorn\", \"longitude\": \"-96.2431\", \"latitude\": \"41.2756\", \"state\": \"Nebraska\", \"state abbreviation\": \"NE\"}]}'"
      ]
     },
     "execution_count": 16,
     "metadata": {},
     "output_type": "execute_result"
    }
   ],
   "source": [
    "import requests\n",
    "\n",
    "requests.get(\"https://api.zippopotam.us/us/68022\").text"
   ]
  },
  {
   "cell_type": "markdown",
   "id": "107b08c6-3ae5-4cfb-98aa-e253d5068529",
   "metadata": {},
   "source": [
    "    '{\"post code\": \"68022\", \"country\": \"United States\", \"country abbreviation\": \"US\", \"places\": [{\"place name\": \"Elkhorn\", \"longitude\": \"-96.2431\", \"state\": \"Nebraska\", \"state abbreviation\": \"NE\", \"latitude\": \"41.2756\"}]}'"
   ]
  },
  {
   "cell_type": "markdown",
   "id": "bdb7f50b-427c-42b5-a43e-566b2cc0823b",
   "metadata": {},
   "source": [
    "Cool! We got some random stuff when we requested a random page from Zippopotamus... What is this? Let's break down our URL to learn more about what is going on:\n",
    "\n",
    " - `https://api.zippopotam.us` is the URL that we will always call when making requests to or from Zippopotamus\n",
    " - `/us` tells Zippopotamus that the location we are referencing is in the United States\n",
    " - `/68022` is the postal code for which we want to extract information from Zippopotamus\n",
    " \n",
    "The data that we receive back from our request is information about the postal code that we want to examine. Before we start learning how to work with our results, let's try another API call:"
   ]
  },
  {
   "cell_type": "markdown",
   "id": "04922d3f-5031-4014-8d45-c5890a32fc14",
   "metadata": {},
   "source": [
    "requests.get(\"https://api.zippopotam.us/us/wa/redmond\").text"
   ]
  },
  {
   "cell_type": "markdown",
   "id": "d01a5dfa-49ee-4835-a3d6-c5e5992a7139",
   "metadata": {},
   "source": [
    "    '{\"country abbreviation\": \"US\", \"places\": [{\"place name\": \"Redmond\", \"longitude\": \"-122.1232\", \"post code\": \"98052\", \"latitude\": \"47.6718\"}, {\"place name\": \"Redmond\", \"longitude\": \"-122.0386\", \"post code\": \"98053\", \"latitude\": \"47.6462\"}, {\"place name\": \"Redmond\", \"longitude\": \"-121.8034\", \"post code\": \"98073\", \"latitude\": \"47.4323\"}], \"country\": \"United States\", \"place name\": \"Redmond\", \"state\": \"Washington\", \"state abbreviation\": \"WA\"}'\n",
    "\n",
    "\n",
    "\n",
    "In this new request, we have the following:\n",
    "\n",
    "- `https://api.zippopotam.us` is the URL that we will always call when making requests to or from Zippopotamus\n",
    "- `/us` tells Zippopotamus that the location we are referencing is in the United States\n",
    "- `/wa` tells Zippopotamus that the location is in Washington state\n",
    "- `/redmond` is the city for which we would like to extract information\n",
    "\n",
    "As might be evident from the differences between the two requests we have made, many APIs are able to access different kinds of information depending on the different requests that we make. We can find information on the city in which a postal code is located, or we can find postal codes within a city of interest! This will allow us to make requests that will generate a map of places that I have lived during my life. Let's try it out."
   ]
  },
  {
   "cell_type": "code",
   "execution_count": 17,
   "id": "03c15d92-7c94-4b38-9ee8-5e595353086f",
   "metadata": {},
   "outputs": [],
   "source": [
    "livedThere = [\n",
    "    {\"country\": \"/us\", \"postal_code\": \"/92056\"},\n",
    "    {\"country\": \"/us\", \"postal_code\": \"/98052\"},\n",
    "    {\"country\": \"/us\", \"postal_code\": \"/84602\"},\n",
    "    {\"country\": \"/br\", \"postal_code\": \"/96225-000\"},\n",
    "    {\"country\": \"/br\", \"postal_code\": \"/96600-000\"},\n",
    "    {\"country\": \"/us\", \"postal_code\": \"/99163\"},\n",
    "    {\"country\": \"/us\", \"postal_code\": \"/68022\"},\n",
    "    {\"country\": \"/us\", \"postal_code\": \"/84102\"},\n",
    "]"
   ]
  },
  {
   "cell_type": "markdown",
   "id": "986d91f3-cd63-4dcc-acdb-b0656a169619",
   "metadata": {},
   "source": [
    "The cell above contains a list of dictionaries. I will iterate over this list to create my API calls:"
   ]
  },
  {
   "cell_type": "code",
   "execution_count": 18,
   "id": "8df503a9-dbad-43c2-ba76-b39fb64ec383",
   "metadata": {},
   "outputs": [
    {
     "name": "stdout",
     "output_type": "stream",
     "text": [
      "https://api.zippopotam.us/us/92056\n",
      "https://api.zippopotam.us/us/98052\n",
      "https://api.zippopotam.us/us/84602\n",
      "https://api.zippopotam.us/br/96225-000\n",
      "https://api.zippopotam.us/br/96600-000\n",
      "https://api.zippopotam.us/us/99163\n",
      "https://api.zippopotam.us/us/68022\n",
      "https://api.zippopotam.us/us/84102\n"
     ]
    }
   ],
   "source": [
    "for i in livedThere:\n",
    "    call = \"https://api.zippopotam.us{0}{1}\".format(i[\"country\"],i[\"postal_code\"])\n",
    "    print(call)"
   ]
  },
  {
   "cell_type": "markdown",
   "id": "054691ba-437e-443e-8b06-a123b9bfb9dd",
   "metadata": {},
   "source": [
    "    https://api.zippopotam.us/us/92056\n",
    "    https://api.zippopotam.us/us/98052\n",
    "    https://api.zippopotam.us/us/84602\n",
    "    https://api.zippopotam.us/br/96225-000\n",
    "    https://api.zippopotam.us/br/96600-000\n",
    "    https://api.zippopotam.us/us/99163\n",
    "    https://api.zippopotam.us/us/68022\n",
    "    https://api.zippopotam.us/us/84102\n",
    "\n",
    "\n",
    "The above code combines my country codes for each location with the postal code and the base-URL to provide my API call. Now it is time to write some code to retrieve each request and store the results in a new list:"
   ]
  },
  {
   "cell_type": "code",
   "execution_count": 46,
   "id": "da4d6a90-afef-45a0-b031-1f69a75c24f5",
   "metadata": {},
   "outputs": [
    {
     "name": "stdout",
     "output_type": "stream",
     "text": [
      "https://api.zippopotam.us/us/92056\n",
      "https://api.zippopotam.us/us/98052\n",
      "https://api.zippopotam.us/us/84602\n",
      "https://api.zippopotam.us/br/96225-000\n",
      "https://api.zippopotam.us/br/96600-000\n",
      "https://api.zippopotam.us/us/99163\n",
      "https://api.zippopotam.us/us/68022\n",
      "https://api.zippopotam.us/us/84102\n",
      "<class 'str'>\n"
     ]
    }
   ],
   "source": [
    "locales = []\n",
    "\n",
    "for i in livedThere:\n",
    "    call = \"https://api.zippopotam.us{0}{1}\".format(i[\"country\"],i[\"postal_code\"])\n",
    "    print(call)\n",
    "    locales.append(requests.get(call).text)\n",
    "    \n",
    "print(type(locales[0]))"
   ]
  },
  {
   "cell_type": "markdown",
   "id": "41cf6d1b-5b6b-4ed2-bc43-abc4a516e10b",
   "metadata": {},
   "source": [
    "    ['{\"post code\": \"92056\", \"country\": \"United States\", \"country abbreviation\": \"US\", \"places\": [{\"place name\": \"Oceanside\", \"longitude\": \"-117.2831\", \"state\": \"California\", \"state abbreviation\": \"CA\", \"latitude\": \"33.1968\"}]}',\n",
    "     '{\"post code\": \"98052\", \"country\": \"United States\", \"country abbreviation\": \"US\", \"places\": [{\"place name\": \"Redmond\", \"longitude\": \"-122.1232\", \"state\": \"Washington\", \"state abbreviation\": \"WA\", \"latitude\": \"47.6718\"}]}',\n",
    "     '{\"post code\": \"84602\", \"country\": \"United States\", \"country abbreviation\": \"US\", \"places\": [{\"place name\": \"Provo\", \"longitude\": \"-111.7325\", \"state\": \"Utah\", \"state abbreviation\": \"UT\", \"latitude\": \"40.3563\"}]}',\n",
    "     '{\"post code\": \"96225-000\", \"country\": \"Brazil\", \"country abbreviation\": \"BR\", \"places\": [{\"place name\": \"S\\\\u00e3o Jos\\\\u00e9 do Norte\", \"longitude\": \"-51.762\", \"state\": \"Rio Grande do Sul\", \"state abbreviation\": \"23\", \"latitude\": \"-31.8009\"}]}',\n",
    "     '{\"post code\": \"96600-000\", \"country\": \"Brazil\", \"country abbreviation\": \"BR\", \"places\": [{\"place name\": \"Cangu\\\\u00e7u\", \"longitude\": \"-52.6682\", \"state\": \"Rio Grande do Sul\", \"state abbreviation\": \"23\", \"latitude\": \"-31.2117\"}]}',\n",
    "     '{\"post code\": \"99163\", \"country\": \"United States\", \"country abbreviation\": \"US\", \"places\": [{\"place name\": \"Pullman\", \"longitude\": \"-117.1729\", \"state\": \"Washington\", \"state abbreviation\": \"WA\", \"latitude\": \"46.7352\"}]}',\n",
    "     '{\"post code\": \"68022\", \"country\": \"United States\", \"country abbreviation\": \"US\", \"places\": [{\"place name\": \"Elkhorn\", \"longitude\": \"-96.2431\", \"state\": \"Nebraska\", \"state abbreviation\": \"NE\", \"latitude\": \"41.2756\"}]}',\n",
    "     '{\"post code\": \"84102\", \"country\": \"United States\", \"country abbreviation\": \"US\", \"places\": [{\"place name\": \"Salt Lake City\", \"longitude\": \"-111.8627\", \"state\": \"Utah\", \"state abbreviation\": \"UT\", \"latitude\": \"40.76\"}]}']\n",
    "\n",
    "\n",
    "\n",
    "Awesome! We have the results! Except, they are really garbled....now we need to take these results and clean them up into a useable format. Let's figure out how."
   ]
  },
  {
   "cell_type": "markdown",
   "id": "aedce013-e281-4f9d-8166-c2f4de568f13",
   "metadata": {},
   "source": [
    "## Processing `requests` results\n",
    "\n",
    "Each response from a web API will typically be returned in a **JSON** object. **JSON** stands for **Java Script Object Notation**, and is the standard format for transmitting information on the internet. While this may sound confusing, JSON is actually very easy for us to handle in Python, because it is structured EXACTLY like a Python dictionary. All we need is a way to take a JSON object and translate it into an official `dict` object.\n",
    "\n",
    "Lucky for us, the `json` library (built right into Python itself!) will make this an easy exercise."
   ]
  },
  {
   "cell_type": "code",
   "execution_count": null,
   "id": "203ef0b1-794d-49f5-9638-b0add95b9f00",
   "metadata": {},
   "outputs": [],
   "source": [
    "import json\n",
    "\n",
    "locales = [json.loads(i) for i in locales]\n",
    "\n",
    "locales"
   ]
  },
  {
   "cell_type": "markdown",
   "id": "64c1b15a-db6e-47e7-abbd-da78c543aa7f",
   "metadata": {},
   "source": [
    "    [{'post code': '92056',\n",
    "      'country': 'United States',\n",
    "      'country abbreviation': 'US',\n",
    "      'places': [{'place name': 'Oceanside',\n",
    "        'longitude': '-117.2831',\n",
    "        'state': 'California',\n",
    "        'state abbreviation': 'CA',\n",
    "        'latitude': '33.1968'}]},\n",
    "     {'post code': '98052',\n",
    "      'country': 'United States',\n",
    "      'country abbreviation': 'US',\n",
    "      'places': [{'place name': 'Redmond',\n",
    "        'longitude': '-122.1232',\n",
    "        'state': 'Washington',\n",
    "        'state abbreviation': 'WA',\n",
    "        'latitude': '47.6718'}]},\n",
    "     {'post code': '84602',\n",
    "      'country': 'United States',\n",
    "      'country abbreviation': 'US',\n",
    "      'places': [{'place name': 'Provo',\n",
    "        'longitude': '-111.7325',\n",
    "        'state': 'Utah',\n",
    "        'state abbreviation': 'UT',\n",
    "        'latitude': '40.3563'}]},\n",
    "     {'post code': '96225-000',\n",
    "      'country': 'Brazil',\n",
    "      'country abbreviation': 'BR',\n",
    "      'places': [{'place name': 'São José do Norte',\n",
    "        'longitude': '-51.762',\n",
    "        'state': 'Rio Grande do Sul',\n",
    "        'state abbreviation': '23',\n",
    "        'latitude': '-31.8009'}]},\n",
    "     {'post code': '96600-000',\n",
    "      'country': 'Brazil',\n",
    "      'country abbreviation': 'BR',\n",
    "      'places': [{'place name': 'Canguçu',\n",
    "        'longitude': '-52.6682',\n",
    "        'state': 'Rio Grande do Sul',\n",
    "        'state abbreviation': '23',\n",
    "        'latitude': '-31.2117'}]},\n",
    "     {'post code': '99163',\n",
    "      'country': 'United States',\n",
    "      'country abbreviation': 'US',\n",
    "      'places': [{'place name': 'Pullman',\n",
    "        'longitude': '-117.1729',\n",
    "        'state': 'Washington',\n",
    "        'state abbreviation': 'WA',\n",
    "        'latitude': '46.7352'}]},\n",
    "     {'post code': '68022',\n",
    "      'country': 'United States',\n",
    "      'country abbreviation': 'US',\n",
    "      'places': [{'place name': 'Elkhorn',\n",
    "        'longitude': '-96.2431',\n",
    "        'state': 'Nebraska',\n",
    "        'state abbreviation': 'NE',\n",
    "        'latitude': '41.2756'}]},\n",
    "     {'post code': '84102',\n",
    "      'country': 'United States',\n",
    "      'country abbreviation': 'US',\n",
    "      'places': [{'place name': 'Salt Lake City',\n",
    "        'longitude': '-111.8627',\n",
    "        'state': 'Utah',\n",
    "        'state abbreviation': 'UT',\n",
    "        'latitude': '40.76'}]}]\n",
    "\n",
    "\n",
    "\n",
    "And we are done making our data into Python data! That was easy! Next, let's just take this list of dictionaries, and make it into a Data Frame. It turns out that we can write a little bit of code to make Data Frames out of our API results through `pandas`:"
   ]
  },
  {
   "cell_type": "code",
   "execution_count": null,
   "id": "760cbf52-b40e-4ef9-84bd-c962495b2347",
   "metadata": {},
   "outputs": [],
   "source": [
    "import pandas as pd\n",
    "\n",
    "locales = pd.DataFrame(locales)\n",
    "\n",
    "data = []\n",
    "for i in locales.index:\n",
    "    temp = pd.DataFrame(locales.loc[i, 'places'])\n",
    "    temp['post_code'] = locales.loc[i, 'post code']\n",
    "    temp['country'] = locales.loc[i, 'country']\n",
    "    temp['country_code'] = locales.loc[i, 'country abbreviation']\n",
    "    data.append(temp)\n",
    "    \n",
    "data = pd.concat(data, axis=0).reset_index(drop=True)\n",
    "\n",
    "data"
   ]
  },
  {
   "cell_type": "markdown",
   "id": "db9476f8-83df-44b1-ab91-7b9abea70544",
   "metadata": {},
   "source": [
    "<div>\n",
    "<style scoped>\n",
    "    .dataframe tbody tr th:only-of-type {\n",
    "        vertical-align: middle;\n",
    "    }\n",
    "\n",
    "    .dataframe tbody tr th {\n",
    "        vertical-align: top;\n",
    "    }\n",
    "\n",
    "    .dataframe thead th {\n",
    "        text-align: right;\n",
    "    }\n",
    "</style>\n",
    "<table border=\"1\" class=\"dataframe\">\n",
    "  <thead>\n",
    "    <tr style=\"text-align: right;\">\n",
    "      <th></th>\n",
    "      <th>place name</th>\n",
    "      <th>longitude</th>\n",
    "      <th>state</th>\n",
    "      <th>state abbreviation</th>\n",
    "      <th>latitude</th>\n",
    "      <th>post_code</th>\n",
    "      <th>country</th>\n",
    "      <th>country_code</th>\n",
    "    </tr>\n",
    "  </thead>\n",
    "  <tbody>\n",
    "    <tr>\n",
    "      <th>0</th>\n",
    "      <td>Oceanside</td>\n",
    "      <td>-117.2831</td>\n",
    "      <td>California</td>\n",
    "      <td>CA</td>\n",
    "      <td>33.1968</td>\n",
    "      <td>92056</td>\n",
    "      <td>United States</td>\n",
    "      <td>US</td>\n",
    "    </tr>\n",
    "    <tr>\n",
    "      <th>1</th>\n",
    "      <td>Redmond</td>\n",
    "      <td>-122.1232</td>\n",
    "      <td>Washington</td>\n",
    "      <td>WA</td>\n",
    "      <td>47.6718</td>\n",
    "      <td>98052</td>\n",
    "      <td>United States</td>\n",
    "      <td>US</td>\n",
    "    </tr>\n",
    "    <tr>\n",
    "      <th>2</th>\n",
    "      <td>Provo</td>\n",
    "      <td>-111.7325</td>\n",
    "      <td>Utah</td>\n",
    "      <td>UT</td>\n",
    "      <td>40.3563</td>\n",
    "      <td>84602</td>\n",
    "      <td>United States</td>\n",
    "      <td>US</td>\n",
    "    </tr>\n",
    "    <tr>\n",
    "      <th>3</th>\n",
    "      <td>São José do Norte</td>\n",
    "      <td>-51.762</td>\n",
    "      <td>Rio Grande do Sul</td>\n",
    "      <td>23</td>\n",
    "      <td>-31.8009</td>\n",
    "      <td>96225-000</td>\n",
    "      <td>Brazil</td>\n",
    "      <td>BR</td>\n",
    "    </tr>\n",
    "    <tr>\n",
    "      <th>4</th>\n",
    "      <td>Canguçu</td>\n",
    "      <td>-52.6682</td>\n",
    "      <td>Rio Grande do Sul</td>\n",
    "      <td>23</td>\n",
    "      <td>-31.2117</td>\n",
    "      <td>96600-000</td>\n",
    "      <td>Brazil</td>\n",
    "      <td>BR</td>\n",
    "    </tr>\n",
    "    <tr>\n",
    "      <th>5</th>\n",
    "      <td>Pullman</td>\n",
    "      <td>-117.1729</td>\n",
    "      <td>Washington</td>\n",
    "      <td>WA</td>\n",
    "      <td>46.7352</td>\n",
    "      <td>99163</td>\n",
    "      <td>United States</td>\n",
    "      <td>US</td>\n",
    "    </tr>\n",
    "    <tr>\n",
    "      <th>6</th>\n",
    "      <td>Elkhorn</td>\n",
    "      <td>-96.2431</td>\n",
    "      <td>Nebraska</td>\n",
    "      <td>NE</td>\n",
    "      <td>41.2756</td>\n",
    "      <td>68022</td>\n",
    "      <td>United States</td>\n",
    "      <td>US</td>\n",
    "    </tr>\n",
    "    <tr>\n",
    "      <th>7</th>\n",
    "      <td>Salt Lake City</td>\n",
    "      <td>-111.8627</td>\n",
    "      <td>Utah</td>\n",
    "      <td>UT</td>\n",
    "      <td>40.76</td>\n",
    "      <td>84102</td>\n",
    "      <td>United States</td>\n",
    "      <td>US</td>\n",
    "    </tr>\n",
    "  </tbody>\n",
    "</table>\n",
    "</div>\n",
    "\n",
    "\n",
    "\n",
    "Now that we have a nice, clean Data Frame containing the information on different locations, we can make a map out of it (we will cover mapping later in this course):"
   ]
  },
  {
   "cell_type": "code",
   "execution_count": null,
   "id": "1027c7a1-d70f-4477-845c-75f637a746bf",
   "metadata": {},
   "outputs": [],
   "source": [
    "import plotly.express as px\n",
    "\n",
    "px.scatter_geo(data, 'latitude', 'longitude', \n",
    "               hover_data=['place name', 'state', 'country'], \n",
    "               color='country', \n",
    "               projection = 'natural earth',\n",
    "               width = 900,\n",
    "               height = 600,\n",
    "               )"
   ]
  },
  {
   "cell_type": "markdown",
   "id": "90377ded-981a-416c-9aa2-20f46a279466",
   "metadata": {},
   "source": [
    "And there you have it! A map of places that I have lived!\n",
    "\n",
    "![](newplot.png)\n",
    "\n",
    "It really looks a lot less impressive on a world map...\n",
    "\n",
    "APIs will allow us to do all sorts of amazing work. Some APIs that are awesome but require accounts are listed below:\n",
    "\n",
    "- [Twitter Realtime Tweet Filter](https://developer.twitter.com/en/docs/tweets/filter-realtime/overview)\n",
    "- [Tracker.gg](https://tracker.gg/)\n",
    "- [Google Maps Distance Matrix](https://developers.google.com/maps/documentation/distance-matrix/intro)\n",
    "\n",
    "With web scraping and APIs at our fingertips, our ability to gather and investigate data is limited only by our ability to come up with interesting research questions."
   ]
  },
  {
   "cell_type": "markdown",
   "id": "61705461-c2bf-46c9-9ed4-d741093b565d",
   "metadata": {},
   "source": [
    "**Solve-it!**\n",
    "\n",
    "In the cell commented with `#si-exercise` is a Data Frame called `capitals` containing capital cities in states across the United States. Use the [Zippopotam.us](https://api.zippopotam.us) API to gather latitude and longitude information on each city, and add columns named `lat` and `lon` containing the latitude and longitude data for each city, respectively. Once you have done that, map all of the cities using their latitude and longitude data on a map with `scope=usa`. Store the map as a variable called `fig`.\n",
    "\n",
    "*Hints:* \n",
    "1. If you use my code from the notes above, you can't use the projection that I used with `scope=\"usa\"`. Get rid of the `projection` argument and replace it with the scope argument.\n",
    "2. You just need to grab a single latitude and longitude for the cities. I recommend using the first one in the list.\n",
    "\n",
    "You will be graded on the following:\n",
    "- Created columns named `lat` and `lon` in the `capitals` Data Frame [1 point]\n",
    "- `lat` contains correct latitude for the city [1 point]\n",
    "- `lon` contains correct longitude for the city [1 point]\n",
    "- Map (store as `fig`) displays capitals based on latitude and longitude values [1 point]"
   ]
  },
  {
   "cell_type": "code",
   "execution_count": 112,
   "id": "a0d72710-b6ed-4b30-83c1-3ae157bbda5e",
   "metadata": {},
   "outputs": [
    {
     "name": "stdout",
     "output_type": "stream",
     "text": [
      "Index(['place name', 'longitude', 'latitude', 'post code', 'state', 'capital',\n",
      "       'abbrev'],\n",
      "      dtype='object')\n"
     ]
    },
    {
     "ename": "ValueError",
     "evalue": "Mime type rendering requires nbformat>=4.2.0 but it is not installed",
     "output_type": "error",
     "traceback": [
      "\u001b[31m---------------------------------------------------------------------------\u001b[39m",
      "\u001b[31mValueError\u001b[39m                                Traceback (most recent call last)",
      "\u001b[36mFile \u001b[39m\u001b[32m~\\AppData\\Roaming\\Python\\Python313\\site-packages\\IPython\\core\\formatters.py:984\u001b[39m, in \u001b[36mIPythonDisplayFormatter.__call__\u001b[39m\u001b[34m(self, obj)\u001b[39m\n\u001b[32m    982\u001b[39m method = get_real_method(obj, \u001b[38;5;28mself\u001b[39m.print_method)\n\u001b[32m    983\u001b[39m \u001b[38;5;28;01mif\u001b[39;00m method \u001b[38;5;129;01mis\u001b[39;00m \u001b[38;5;129;01mnot\u001b[39;00m \u001b[38;5;28;01mNone\u001b[39;00m:\n\u001b[32m--> \u001b[39m\u001b[32m984\u001b[39m     \u001b[43mmethod\u001b[49m\u001b[43m(\u001b[49m\u001b[43m)\u001b[49m\n\u001b[32m    985\u001b[39m     \u001b[38;5;28;01mreturn\u001b[39;00m \u001b[38;5;28;01mTrue\u001b[39;00m\n",
      "\u001b[36mFile \u001b[39m\u001b[32mc:\\Users\\katel\\AppData\\Local\\Programs\\Python\\Python313\\Lib\\site-packages\\plotly\\basedatatypes.py:850\u001b[39m, in \u001b[36mBaseFigure._ipython_display_\u001b[39m\u001b[34m(self)\u001b[39m\n\u001b[32m    847\u001b[39m \u001b[38;5;28;01mimport\u001b[39;00m\u001b[38;5;250m \u001b[39m\u001b[34;01mplotly\u001b[39;00m\u001b[34;01m.\u001b[39;00m\u001b[34;01mio\u001b[39;00m\u001b[38;5;250m \u001b[39m\u001b[38;5;28;01mas\u001b[39;00m\u001b[38;5;250m \u001b[39m\u001b[34;01mpio\u001b[39;00m\n\u001b[32m    849\u001b[39m \u001b[38;5;28;01mif\u001b[39;00m pio.renderers.render_on_display \u001b[38;5;129;01mand\u001b[39;00m pio.renderers.default:\n\u001b[32m--> \u001b[39m\u001b[32m850\u001b[39m     \u001b[43mpio\u001b[49m\u001b[43m.\u001b[49m\u001b[43mshow\u001b[49m\u001b[43m(\u001b[49m\u001b[38;5;28;43mself\u001b[39;49m\u001b[43m)\u001b[49m\n\u001b[32m    851\u001b[39m \u001b[38;5;28;01melse\u001b[39;00m:\n\u001b[32m    852\u001b[39m     \u001b[38;5;28mprint\u001b[39m(\u001b[38;5;28mrepr\u001b[39m(\u001b[38;5;28mself\u001b[39m))\n",
      "\u001b[36mFile \u001b[39m\u001b[32mc:\\Users\\katel\\AppData\\Local\\Programs\\Python\\Python313\\Lib\\site-packages\\plotly\\io\\_renderers.py:415\u001b[39m, in \u001b[36mshow\u001b[39m\u001b[34m(fig, renderer, validate, **kwargs)\u001b[39m\n\u001b[32m    410\u001b[39m     \u001b[38;5;28;01mraise\u001b[39;00m \u001b[38;5;167;01mValueError\u001b[39;00m(\n\u001b[32m    411\u001b[39m         \u001b[33m\"\u001b[39m\u001b[33mMime type rendering requires ipython but it is not installed\u001b[39m\u001b[33m\"\u001b[39m\n\u001b[32m    412\u001b[39m     )\n\u001b[32m    414\u001b[39m \u001b[38;5;28;01mif\u001b[39;00m \u001b[38;5;129;01mnot\u001b[39;00m nbformat \u001b[38;5;129;01mor\u001b[39;00m Version(nbformat.__version__) < Version(\u001b[33m\"\u001b[39m\u001b[33m4.2.0\u001b[39m\u001b[33m\"\u001b[39m):\n\u001b[32m--> \u001b[39m\u001b[32m415\u001b[39m     \u001b[38;5;28;01mraise\u001b[39;00m \u001b[38;5;167;01mValueError\u001b[39;00m(\n\u001b[32m    416\u001b[39m         \u001b[33m\"\u001b[39m\u001b[33mMime type rendering requires nbformat>=4.2.0 but it is not installed\u001b[39m\u001b[33m\"\u001b[39m\n\u001b[32m    417\u001b[39m     )\n\u001b[32m    419\u001b[39m display_jupyter_version_warnings()\n\u001b[32m    421\u001b[39m ipython_display.display(bundle, raw=\u001b[38;5;28;01mTrue\u001b[39;00m)\n",
      "\u001b[31mValueError\u001b[39m: Mime type rendering requires nbformat>=4.2.0 but it is not installed"
     ]
    },
    {
     "data": {
      "application/vnd.plotly.v1+json": {
       "config": {
        "plotlyServerURL": "https://plot.ly"
       },
       "data": [
        {
         "customdata": [
          [
           "Montgomery",
           "Alabama"
          ]
         ],
         "geo": "geo",
         "hovertemplate": "state=%{customdata[1]}<br>latitude=%{lat}<br>longitude=%{lon}<br>place name=%{customdata[0]}<extra></extra>",
         "lat": [
          "32.357"
         ],
         "legendgroup": "Alabama",
         "lon": [
          "-86.2578"
         ],
         "marker": {
          "color": "#636efa",
          "symbol": "circle"
         },
         "mode": "markers",
         "name": "Alabama",
         "showlegend": true,
         "type": "scattergeo"
        },
        {
         "customdata": [
          [
           "Juneau",
           "Alaska"
          ]
         ],
         "geo": "geo",
         "hovertemplate": "state=%{customdata[1]}<br>latitude=%{lat}<br>longitude=%{lon}<br>place name=%{customdata[0]}<extra></extra>",
         "lat": [
          "58.3628"
         ],
         "legendgroup": "Alaska",
         "lon": [
          "-134.5294"
         ],
         "marker": {
          "color": "#EF553B",
          "symbol": "circle"
         },
         "mode": "markers",
         "name": "Alaska",
         "showlegend": true,
         "type": "scattergeo"
        },
        {
         "customdata": [
          [
           "Phoenix",
           "Arizona"
          ]
         ],
         "geo": "geo",
         "hovertemplate": "state=%{customdata[1]}<br>latitude=%{lat}<br>longitude=%{lon}<br>place name=%{customdata[0]}<extra></extra>",
         "lat": [
          "33.704"
         ],
         "legendgroup": "Arizona",
         "lon": [
          "-112.3518"
         ],
         "marker": {
          "color": "#00cc96",
          "symbol": "circle"
         },
         "mode": "markers",
         "name": "Arizona",
         "showlegend": true,
         "type": "scattergeo"
        },
        {
         "customdata": [
          [
           "Little Rock Air Force Base",
           "Arkansas"
          ]
         ],
         "geo": "geo",
         "hovertemplate": "state=%{customdata[1]}<br>latitude=%{lat}<br>longitude=%{lon}<br>place name=%{customdata[0]}<extra></extra>",
         "lat": [
          "34.9074"
         ],
         "legendgroup": "Arkansas",
         "lon": [
          "-92.1397"
         ],
         "marker": {
          "color": "#ab63fa",
          "symbol": "circle"
         },
         "mode": "markers",
         "name": "Arkansas",
         "showlegend": true,
         "type": "scattergeo"
        },
        {
         "customdata": [
          [
           "Sacramento",
           "California"
          ]
         ],
         "geo": "geo",
         "hovertemplate": "state=%{customdata[1]}<br>latitude=%{lat}<br>longitude=%{lon}<br>place name=%{customdata[0]}<extra></extra>",
         "lat": [
          "38.3805"
         ],
         "legendgroup": "California",
         "lon": [
          "-121.5554"
         ],
         "marker": {
          "color": "#FFA15A",
          "symbol": "circle"
         },
         "mode": "markers",
         "name": "California",
         "showlegend": true,
         "type": "scattergeo"
        },
        {
         "customdata": [
          [
           "Denver",
           "Colorado"
          ]
         ],
         "geo": "geo",
         "hovertemplate": "state=%{customdata[1]}<br>latitude=%{lat}<br>longitude=%{lon}<br>place name=%{customdata[0]}<extra></extra>",
         "lat": [
          "39.7263"
         ],
         "legendgroup": "Colorado",
         "lon": [
          "-104.8568"
         ],
         "marker": {
          "color": "#19d3f3",
          "symbol": "circle"
         },
         "mode": "markers",
         "name": "Colorado",
         "showlegend": true,
         "type": "scattergeo"
        },
        {
         "customdata": [
          [
           "New Hartford",
           "Connecticut"
          ]
         ],
         "geo": "geo",
         "hovertemplate": "state=%{customdata[1]}<br>latitude=%{lat}<br>longitude=%{lon}<br>place name=%{customdata[0]}<extra></extra>",
         "lat": [
          "41.8468"
         ],
         "legendgroup": "Connecticut",
         "lon": [
          "-73.0104"
         ],
         "marker": {
          "color": "#FF6692",
          "symbol": "circle"
         },
         "mode": "markers",
         "name": "Connecticut",
         "showlegend": true,
         "type": "scattergeo"
        },
        {
         "customdata": [
          [
           "Dover",
           "Delaware"
          ]
         ],
         "geo": "geo",
         "hovertemplate": "state=%{customdata[1]}<br>latitude=%{lat}<br>longitude=%{lon}<br>place name=%{customdata[0]}<extra></extra>",
         "lat": [
          "39.1564"
         ],
         "legendgroup": "Delaware",
         "lon": [
          "-75.4955"
         ],
         "marker": {
          "color": "#B6E880",
          "symbol": "circle"
         },
         "mode": "markers",
         "name": "Delaware",
         "showlegend": true,
         "type": "scattergeo"
        },
        {
         "customdata": [
          [
           "Tallahassee",
           "Florida"
          ]
         ],
         "geo": "geo",
         "hovertemplate": "state=%{customdata[1]}<br>latitude=%{lat}<br>longitude=%{lon}<br>place name=%{customdata[0]}<extra></extra>",
         "lat": [
          "30.4286"
         ],
         "legendgroup": "Florida",
         "lon": [
          "-84.2593"
         ],
         "marker": {
          "color": "#FF97FF",
          "symbol": "circle"
         },
         "mode": "markers",
         "name": "Florida",
         "showlegend": true,
         "type": "scattergeo"
        },
        {
         "customdata": [
          [
           "Atlanta",
           "Georgia"
          ]
         ],
         "geo": "geo",
         "hovertemplate": "state=%{customdata[1]}<br>latitude=%{lat}<br>longitude=%{lon}<br>place name=%{customdata[0]}<extra></extra>",
         "lat": [
          "33.8444"
         ],
         "legendgroup": "Georgia",
         "lon": [
          "-84.474"
         ],
         "marker": {
          "color": "#FECB52",
          "symbol": "circle"
         },
         "mode": "markers",
         "name": "Georgia",
         "showlegend": true,
         "type": "scattergeo"
        },
        {
         "customdata": [
          [
           "Honolulu",
           "Hawaii"
          ]
         ],
         "geo": "geo",
         "hovertemplate": "state=%{customdata[1]}<br>latitude=%{lat}<br>longitude=%{lon}<br>place name=%{customdata[0]}<extra></extra>",
         "lat": [
          "24.8598"
         ],
         "legendgroup": "Hawaii",
         "lon": [
          "-168.0218"
         ],
         "marker": {
          "color": "#636efa",
          "symbol": "circle"
         },
         "mode": "markers",
         "name": "Hawaii",
         "showlegend": true,
         "type": "scattergeo"
        },
        {
         "customdata": [
          [
           "Boise",
           "Idaho"
          ]
         ],
         "geo": "geo",
         "hovertemplate": "state=%{customdata[1]}<br>latitude=%{lat}<br>longitude=%{lon}<br>place name=%{customdata[0]}<extra></extra>",
         "lat": [
          "43.6038"
         ],
         "legendgroup": "Idaho",
         "lon": [
          "-116.2729"
         ],
         "marker": {
          "color": "#EF553B",
          "symbol": "circle"
         },
         "mode": "markers",
         "name": "Idaho",
         "showlegend": true,
         "type": "scattergeo"
        },
        {
         "customdata": [
          [
           "Springfield",
           "Illinois"
          ]
         ],
         "geo": "geo",
         "hovertemplate": "state=%{customdata[1]}<br>latitude=%{lat}<br>longitude=%{lon}<br>place name=%{customdata[0]}<extra></extra>",
         "lat": [
          "39.8"
         ],
         "legendgroup": "Illinois",
         "lon": [
          "-89.6495"
         ],
         "marker": {
          "color": "#00cc96",
          "symbol": "circle"
         },
         "mode": "markers",
         "name": "Illinois",
         "showlegend": true,
         "type": "scattergeo"
        },
        {
         "customdata": [
          [
           "Indianapolis",
           "Indiana"
          ]
         ],
         "geo": "geo",
         "hovertemplate": "state=%{customdata[1]}<br>latitude=%{lat}<br>longitude=%{lon}<br>place name=%{customdata[0]}<extra></extra>",
         "lat": [
          "39.775"
         ],
         "legendgroup": "Indiana",
         "lon": [
          "-86.1093"
         ],
         "marker": {
          "color": "#ab63fa",
          "symbol": "circle"
         },
         "mode": "markers",
         "name": "Indiana",
         "showlegend": true,
         "type": "scattergeo"
        },
        {
         "customdata": [
          [
           "West Des Moines",
           "Iowa"
          ]
         ],
         "geo": "geo",
         "hovertemplate": "state=%{customdata[1]}<br>latitude=%{lat}<br>longitude=%{lon}<br>place name=%{customdata[0]}<extra></extra>",
         "lat": [
          "41.5805"
         ],
         "legendgroup": "Iowa",
         "lon": [
          "-93.7447"
         ],
         "marker": {
          "color": "#FFA15A",
          "symbol": "circle"
         },
         "mode": "markers",
         "name": "Iowa",
         "showlegend": true,
         "type": "scattergeo"
        },
        {
         "customdata": [
          [
           "Topeka",
           "Kansas"
          ]
         ],
         "geo": "geo",
         "hovertemplate": "state=%{customdata[1]}<br>latitude=%{lat}<br>longitude=%{lon}<br>place name=%{customdata[0]}<extra></extra>",
         "lat": [
          "38.9881"
         ],
         "legendgroup": "Kansas",
         "lon": [
          "-95.7807"
         ],
         "marker": {
          "color": "#19d3f3",
          "symbol": "circle"
         },
         "mode": "markers",
         "name": "Kansas",
         "showlegend": true,
         "type": "scattergeo"
        },
        {
         "customdata": [
          [
           "Frankfort",
           "Kentucky"
          ]
         ],
         "geo": "geo",
         "hovertemplate": "state=%{customdata[1]}<br>latitude=%{lat}<br>longitude=%{lon}<br>place name=%{customdata[0]}<extra></extra>",
         "lat": [
          "38.2281"
         ],
         "legendgroup": "Kentucky",
         "lon": [
          "-84.8697"
         ],
         "marker": {
          "color": "#FF6692",
          "symbol": "circle"
         },
         "mode": "markers",
         "name": "Kentucky",
         "showlegend": true,
         "type": "scattergeo"
        },
        {
         "customdata": [
          [
           "Baton Rouge",
           "Louisiana"
          ]
         ],
         "geo": "geo",
         "hovertemplate": "state=%{customdata[1]}<br>latitude=%{lat}<br>longitude=%{lon}<br>place name=%{customdata[0]}<extra></extra>",
         "lat": [
          "30.4492"
         ],
         "legendgroup": "Louisiana",
         "lon": [
          "-91.1856"
         ],
         "marker": {
          "color": "#B6E880",
          "symbol": "circle"
         },
         "mode": "markers",
         "name": "Louisiana",
         "showlegend": true,
         "type": "scattergeo"
        },
        {
         "customdata": [
          [
           "Augusta",
           "Maine"
          ]
         ],
         "geo": "geo",
         "hovertemplate": "state=%{customdata[1]}<br>latitude=%{lat}<br>longitude=%{lon}<br>place name=%{customdata[0]}<extra></extra>",
         "lat": [
          "44.3232"
         ],
         "legendgroup": "Maine",
         "lon": [
          "-69.7665"
         ],
         "marker": {
          "color": "#FF97FF",
          "symbol": "circle"
         },
         "mode": "markers",
         "name": "Maine",
         "showlegend": true,
         "type": "scattergeo"
        },
        {
         "customdata": [
          [
           "Annapolis Junction",
           "Maryland"
          ]
         ],
         "geo": "geo",
         "hovertemplate": "state=%{customdata[1]}<br>latitude=%{lat}<br>longitude=%{lon}<br>place name=%{customdata[0]}<extra></extra>",
         "lat": [
          "39.1332"
         ],
         "legendgroup": "Maryland",
         "lon": [
          "-76.7988"
         ],
         "marker": {
          "color": "#FECB52",
          "symbol": "circle"
         },
         "mode": "markers",
         "name": "Maryland",
         "showlegend": true,
         "type": "scattergeo"
        },
        {
         "customdata": [
          [
           "Boston",
           "Massachusetts"
          ]
         ],
         "geo": "geo",
         "hovertemplate": "state=%{customdata[1]}<br>latitude=%{lat}<br>longitude=%{lon}<br>place name=%{customdata[0]}<extra></extra>",
         "lat": [
          "42.3706"
         ],
         "legendgroup": "Massachusetts",
         "lon": [
          "-71.027"
         ],
         "marker": {
          "color": "#636efa",
          "symbol": "circle"
         },
         "mode": "markers",
         "name": "Massachusetts",
         "showlegend": true,
         "type": "scattergeo"
        },
        {
         "customdata": [
          [
           "East Lansing",
           "Michigan"
          ]
         ],
         "geo": "geo",
         "hovertemplate": "state=%{customdata[1]}<br>latitude=%{lat}<br>longitude=%{lon}<br>place name=%{customdata[0]}<extra></extra>",
         "lat": [
          "42.7388"
         ],
         "legendgroup": "Michigan",
         "lon": [
          "-84.4764"
         ],
         "marker": {
          "color": "#EF553B",
          "symbol": "circle"
         },
         "mode": "markers",
         "name": "Michigan",
         "showlegend": true,
         "type": "scattergeo"
        },
        {
         "customdata": [
          [
           "Saint Paul Park",
           "Minnesota"
          ]
         ],
         "geo": "geo",
         "hovertemplate": "state=%{customdata[1]}<br>latitude=%{lat}<br>longitude=%{lon}<br>place name=%{customdata[0]}<extra></extra>",
         "lat": [
          "44.8344"
         ],
         "legendgroup": "Minnesota",
         "lon": [
          "-92.9873"
         ],
         "marker": {
          "color": "#00cc96",
          "symbol": "circle"
         },
         "mode": "markers",
         "name": "Minnesota",
         "showlegend": true,
         "type": "scattergeo"
        },
        {
         "customdata": [
          [
           "Jackson",
           "Mississippi"
          ]
         ],
         "geo": "geo",
         "hovertemplate": "state=%{customdata[1]}<br>latitude=%{lat}<br>longitude=%{lon}<br>place name=%{customdata[0]}<extra></extra>",
         "lat": [
          "32.3205"
         ],
         "legendgroup": "Mississippi",
         "lon": [
          "-90.2076"
         ],
         "marker": {
          "color": "#ab63fa",
          "symbol": "circle"
         },
         "mode": "markers",
         "name": "Mississippi",
         "showlegend": true,
         "type": "scattergeo"
        },
        {
         "customdata": [
          [
           "Jefferson City",
           "Missouri"
          ]
         ],
         "geo": "geo",
         "hovertemplate": "state=%{customdata[1]}<br>latitude=%{lat}<br>longitude=%{lon}<br>place name=%{customdata[0]}<extra></extra>",
         "lat": [
          "38.5462"
         ],
         "legendgroup": "Missouri",
         "lon": [
          "-92.1525"
         ],
         "marker": {
          "color": "#FFA15A",
          "symbol": "circle"
         },
         "mode": "markers",
         "name": "Missouri",
         "showlegend": true,
         "type": "scattergeo"
        },
        {
         "customdata": [
          [
           "Helena",
           "Montana"
          ]
         ],
         "geo": "geo",
         "hovertemplate": "state=%{customdata[1]}<br>latitude=%{lat}<br>longitude=%{lon}<br>place name=%{customdata[0]}<extra></extra>",
         "lat": [
          "46.6131"
         ],
         "legendgroup": "Montana",
         "lon": [
          "-112.0213"
         ],
         "marker": {
          "color": "#19d3f3",
          "symbol": "circle"
         },
         "mode": "markers",
         "name": "Montana",
         "showlegend": true,
         "type": "scattergeo"
        },
        {
         "customdata": [
          [
           "Lincoln",
           "Nebraska"
          ]
         ],
         "geo": "geo",
         "hovertemplate": "state=%{customdata[1]}<br>latitude=%{lat}<br>longitude=%{lon}<br>place name=%{customdata[0]}<extra></extra>",
         "lat": [
          "40.8651"
         ],
         "legendgroup": "Nebraska",
         "lon": [
          "-96.8231"
         ],
         "marker": {
          "color": "#FF6692",
          "symbol": "circle"
         },
         "mode": "markers",
         "name": "Nebraska",
         "showlegend": true,
         "type": "scattergeo"
        },
        {
         "customdata": [
          [
           "Carson City",
           "Nevada"
          ]
         ],
         "geo": "geo",
         "hovertemplate": "state=%{customdata[1]}<br>latitude=%{lat}<br>longitude=%{lon}<br>place name=%{customdata[0]}<extra></extra>",
         "lat": [
          "39.1507"
         ],
         "legendgroup": "Nevada",
         "lon": [
          "-119.7459"
         ],
         "marker": {
          "color": "#B6E880",
          "symbol": "circle"
         },
         "mode": "markers",
         "name": "Nevada",
         "showlegend": true,
         "type": "scattergeo"
        },
        {
         "customdata": [
          [
           "Concord",
           "New Hampshire"
          ]
         ],
         "geo": "geo",
         "hovertemplate": "state=%{customdata[1]}<br>latitude=%{lat}<br>longitude=%{lon}<br>place name=%{customdata[0]}<extra></extra>",
         "lat": [
          "43.2185"
         ],
         "legendgroup": "New Hampshire",
         "lon": [
          "-71.5277"
         ],
         "marker": {
          "color": "#FF97FF",
          "symbol": "circle"
         },
         "mode": "markers",
         "name": "New Hampshire",
         "showlegend": true,
         "type": "scattergeo"
        },
        {
         "customdata": [
          [
           "Trenton",
           "New Jersey"
          ]
         ],
         "geo": "geo",
         "hovertemplate": "state=%{customdata[1]}<br>latitude=%{lat}<br>longitude=%{lon}<br>place name=%{customdata[0]}<extra></extra>",
         "lat": [
          "40.2805"
         ],
         "legendgroup": "New Jersey",
         "lon": [
          "-74.712"
         ],
         "marker": {
          "color": "#FECB52",
          "symbol": "circle"
         },
         "mode": "markers",
         "name": "New Jersey",
         "showlegend": true,
         "type": "scattergeo"
        },
        {
         "customdata": [
          [
           "Santa Fe",
           "New Mexico"
          ]
         ],
         "geo": "geo",
         "hovertemplate": "state=%{customdata[1]}<br>latitude=%{lat}<br>longitude=%{lon}<br>place name=%{customdata[0]}<extra></extra>",
         "lat": [
          "35.6975"
         ],
         "legendgroup": "New Mexico",
         "lon": [
          "-105.9821"
         ],
         "marker": {
          "color": "#636efa",
          "symbol": "circle"
         },
         "mode": "markers",
         "name": "New Mexico",
         "showlegend": true,
         "type": "scattergeo"
        },
        {
         "customdata": [
          [
           "Albany",
           "New York"
          ]
         ],
         "geo": "geo",
         "hovertemplate": "state=%{customdata[1]}<br>latitude=%{lat}<br>longitude=%{lon}<br>place name=%{customdata[0]}<extra></extra>",
         "lat": [
          "42.6149"
         ],
         "legendgroup": "New York",
         "lon": [
          "-73.9708"
         ],
         "marker": {
          "color": "#EF553B",
          "symbol": "circle"
         },
         "mode": "markers",
         "name": "New York",
         "showlegend": true,
         "type": "scattergeo"
        },
        {
         "customdata": [
          [
           "Raleigh",
           "North Carolina"
          ]
         ],
         "geo": "geo",
         "hovertemplate": "state=%{customdata[1]}<br>latitude=%{lat}<br>longitude=%{lon}<br>place name=%{customdata[0]}<extra></extra>",
         "lat": [
          "35.7727"
         ],
         "legendgroup": "North Carolina",
         "lon": [
          "-78.6324"
         ],
         "marker": {
          "color": "#00cc96",
          "symbol": "circle"
         },
         "mode": "markers",
         "name": "North Carolina",
         "showlegend": true,
         "type": "scattergeo"
        },
        {
         "customdata": [
          [
           "Bismarck",
           "North Dakota"
          ]
         ],
         "geo": "geo",
         "hovertemplate": "state=%{customdata[1]}<br>latitude=%{lat}<br>longitude=%{lon}<br>place name=%{customdata[0]}<extra></extra>",
         "lat": [
          "46.8234"
         ],
         "legendgroup": "North Dakota",
         "lon": [
          "-100.7748"
         ],
         "marker": {
          "color": "#ab63fa",
          "symbol": "circle"
         },
         "mode": "markers",
         "name": "North Dakota",
         "showlegend": true,
         "type": "scattergeo"
        },
        {
         "customdata": [
          [
           "Columbus",
           "Ohio"
          ]
         ],
         "geo": "geo",
         "hovertemplate": "state=%{customdata[1]}<br>latitude=%{lat}<br>longitude=%{lon}<br>place name=%{customdata[0]}<extra></extra>",
         "lat": [
          "40.0999"
         ],
         "legendgroup": "Ohio",
         "lon": [
          "-83.0157"
         ],
         "marker": {
          "color": "#FFA15A",
          "symbol": "circle"
         },
         "mode": "markers",
         "name": "Ohio",
         "showlegend": true,
         "type": "scattergeo"
        },
        {
         "customdata": [
          [
           "Oklahoma City",
           "Oklahoma"
          ]
         ],
         "geo": "geo",
         "hovertemplate": "state=%{customdata[1]}<br>latitude=%{lat}<br>longitude=%{lon}<br>place name=%{customdata[0]}<extra></extra>",
         "lat": [
          "35.3513"
         ],
         "legendgroup": "Oklahoma",
         "lon": [
          "-97.4953"
         ],
         "marker": {
          "color": "#19d3f3",
          "symbol": "circle"
         },
         "mode": "markers",
         "name": "Oklahoma",
         "showlegend": true,
         "type": "scattergeo"
        },
        {
         "customdata": [
          [
           "Salem",
           "Oregon"
          ]
         ],
         "geo": "geo",
         "hovertemplate": "state=%{customdata[1]}<br>latitude=%{lat}<br>longitude=%{lon}<br>place name=%{customdata[0]}<extra></extra>",
         "lat": [
          "44.949"
         ],
         "legendgroup": "Oregon",
         "lon": [
          "-123.004"
         ],
         "marker": {
          "color": "#FF6692",
          "symbol": "circle"
         },
         "mode": "markers",
         "name": "Oregon",
         "showlegend": true,
         "type": "scattergeo"
        },
        {
         "customdata": [
          [
           "Harrisburg",
           "Pennsylvania"
          ]
         ],
         "geo": "geo",
         "hovertemplate": "state=%{customdata[1]}<br>latitude=%{lat}<br>longitude=%{lon}<br>place name=%{customdata[0]}<extra></extra>",
         "lat": [
          "40.2618"
         ],
         "legendgroup": "Pennsylvania",
         "lon": [
          "-76.8831"
         ],
         "marker": {
          "color": "#B6E880",
          "symbol": "circle"
         },
         "mode": "markers",
         "name": "Pennsylvania",
         "showlegend": true,
         "type": "scattergeo"
        },
        {
         "customdata": [
          [
           "Providence",
           "Rhode Island"
          ]
         ],
         "geo": "geo",
         "hovertemplate": "state=%{customdata[1]}<br>latitude=%{lat}<br>longitude=%{lon}<br>place name=%{customdata[0]}<extra></extra>",
         "lat": [
          "41.8228"
         ],
         "legendgroup": "Rhode Island",
         "lon": [
          "-71.4145"
         ],
         "marker": {
          "color": "#FF97FF",
          "symbol": "circle"
         },
         "mode": "markers",
         "name": "Rhode Island",
         "showlegend": true,
         "type": "scattergeo"
        },
        {
         "customdata": [
          [
           "West Columbia",
           "South Carolina"
          ]
         ],
         "geo": "geo",
         "hovertemplate": "state=%{customdata[1]}<br>latitude=%{lat}<br>longitude=%{lon}<br>place name=%{customdata[0]}<extra></extra>",
         "lat": [
          "33.995"
         ],
         "legendgroup": "South Carolina",
         "lon": [
          "-81.0888"
         ],
         "marker": {
          "color": "#FECB52",
          "symbol": "circle"
         },
         "mode": "markers",
         "name": "South Carolina",
         "showlegend": true,
         "type": "scattergeo"
        },
        {
         "customdata": [
          [
           "Pierre",
           "South Dakota"
          ]
         ],
         "geo": "geo",
         "hovertemplate": "state=%{customdata[1]}<br>latitude=%{lat}<br>longitude=%{lon}<br>place name=%{customdata[0]}<extra></extra>",
         "lat": [
          "44.3695"
         ],
         "legendgroup": "South Dakota",
         "lon": [
          "-100.3211"
         ],
         "marker": {
          "color": "#636efa",
          "symbol": "circle"
         },
         "mode": "markers",
         "name": "South Dakota",
         "showlegend": true,
         "type": "scattergeo"
        },
        {
         "customdata": [
          [
           "Nashville",
           "Tennessee"
          ]
         ],
         "geo": "geo",
         "hovertemplate": "state=%{customdata[1]}<br>latitude=%{lat}<br>longitude=%{lon}<br>place name=%{customdata[0]}<extra></extra>",
         "lat": [
          "36.1657"
         ],
         "legendgroup": "Tennessee",
         "lon": [
          "-86.7781"
         ],
         "marker": {
          "color": "#EF553B",
          "symbol": "circle"
         },
         "mode": "markers",
         "name": "Tennessee",
         "showlegend": true,
         "type": "scattergeo"
        },
        {
         "customdata": [
          [
           "Austin",
           "Texas"
          ]
         ],
         "geo": "geo",
         "hovertemplate": "state=%{customdata[1]}<br>latitude=%{lat}<br>longitude=%{lon}<br>place name=%{customdata[0]}<extra></extra>",
         "lat": [
          "30.3264"
         ],
         "legendgroup": "Texas",
         "lon": [
          "-97.7713"
         ],
         "marker": {
          "color": "#00cc96",
          "symbol": "circle"
         },
         "mode": "markers",
         "name": "Texas",
         "showlegend": true,
         "type": "scattergeo"
        },
        {
         "customdata": [
          [
           "Salt Lake City",
           "Utah"
          ]
         ],
         "geo": "geo",
         "hovertemplate": "state=%{customdata[1]}<br>latitude=%{lat}<br>longitude=%{lon}<br>place name=%{customdata[0]}<extra></extra>",
         "lat": [
          "40.7559"
         ],
         "legendgroup": "Utah",
         "lon": [
          "-111.8967"
         ],
         "marker": {
          "color": "#ab63fa",
          "symbol": "circle"
         },
         "mode": "markers",
         "name": "Utah",
         "showlegend": true,
         "type": "scattergeo"
        },
        {
         "customdata": [
          [
           "Montpelier",
           "Vermont"
          ]
         ],
         "geo": "geo",
         "hovertemplate": "state=%{customdata[1]}<br>latitude=%{lat}<br>longitude=%{lon}<br>place name=%{customdata[0]}<extra></extra>",
         "lat": [
          "44.1991"
         ],
         "legendgroup": "Vermont",
         "lon": [
          "-72.5596"
         ],
         "marker": {
          "color": "#FFA15A",
          "symbol": "circle"
         },
         "mode": "markers",
         "name": "Vermont",
         "showlegend": true,
         "type": "scattergeo"
        },
        {
         "customdata": [
          [
           "University Of Richmond",
           "Virginia"
          ]
         ],
         "geo": "geo",
         "hovertemplate": "state=%{customdata[1]}<br>latitude=%{lat}<br>longitude=%{lon}<br>place name=%{customdata[0]}<extra></extra>",
         "lat": [
          "37.5242"
         ],
         "legendgroup": "Virginia",
         "lon": [
          "-77.4932"
         ],
         "marker": {
          "color": "#19d3f3",
          "symbol": "circle"
         },
         "mode": "markers",
         "name": "Virginia",
         "showlegend": true,
         "type": "scattergeo"
        },
        {
         "customdata": [
          [
           "Olympia",
           "Washington"
          ]
         ],
         "geo": "geo",
         "hovertemplate": "state=%{customdata[1]}<br>latitude=%{lat}<br>longitude=%{lon}<br>place name=%{customdata[0]}<extra></extra>",
         "lat": [
          "47.0129"
         ],
         "legendgroup": "Washington",
         "lon": [
          "-122.8763"
         ],
         "marker": {
          "color": "#FF6692",
          "symbol": "circle"
         },
         "mode": "markers",
         "name": "Washington",
         "showlegend": true,
         "type": "scattergeo"
        },
        {
         "customdata": [
          [
           "Charleston",
           "West Virginia"
          ]
         ],
         "geo": "geo",
         "hovertemplate": "state=%{customdata[1]}<br>latitude=%{lat}<br>longitude=%{lon}<br>place name=%{customdata[0]}<extra></extra>",
         "lat": [
          "38.349"
         ],
         "legendgroup": "West Virginia",
         "lon": [
          "-81.6306"
         ],
         "marker": {
          "color": "#B6E880",
          "symbol": "circle"
         },
         "mode": "markers",
         "name": "West Virginia",
         "showlegend": true,
         "type": "scattergeo"
        },
        {
         "customdata": [
          [
           "Madison",
           "Wisconsin"
          ]
         ],
         "geo": "geo",
         "hovertemplate": "state=%{customdata[1]}<br>latitude=%{lat}<br>longitude=%{lon}<br>place name=%{customdata[0]}<extra></extra>",
         "lat": [
          "43.0696"
         ],
         "legendgroup": "Wisconsin",
         "lon": [
          "-89.4239"
         ],
         "marker": {
          "color": "#FF97FF",
          "symbol": "circle"
         },
         "mode": "markers",
         "name": "Wisconsin",
         "showlegend": true,
         "type": "scattergeo"
        },
        {
         "customdata": [
          [
           "Cheyenne",
           "Wyoming"
          ]
         ],
         "geo": "geo",
         "hovertemplate": "state=%{customdata[1]}<br>latitude=%{lat}<br>longitude=%{lon}<br>place name=%{customdata[0]}<extra></extra>",
         "lat": [
          "41.1437"
         ],
         "legendgroup": "Wyoming",
         "lon": [
          "-104.7962"
         ],
         "marker": {
          "color": "#FECB52",
          "symbol": "circle"
         },
         "mode": "markers",
         "name": "Wyoming",
         "showlegend": true,
         "type": "scattergeo"
        }
       ],
       "layout": {
        "geo": {
         "center": {},
         "domain": {
          "x": [
           0,
           1
          ],
          "y": [
           0,
           1
          ]
         },
         "projection": {
          "type": "natural earth"
         }
        },
        "height": 600,
        "legend": {
         "title": {
          "text": "state"
         },
         "tracegroupgap": 0
        },
        "margin": {
         "t": 60
        },
        "template": {
         "data": {
          "bar": [
           {
            "error_x": {
             "color": "#2a3f5f"
            },
            "error_y": {
             "color": "#2a3f5f"
            },
            "marker": {
             "line": {
              "color": "#E5ECF6",
              "width": 0.5
             },
             "pattern": {
              "fillmode": "overlay",
              "size": 10,
              "solidity": 0.2
             }
            },
            "type": "bar"
           }
          ],
          "barpolar": [
           {
            "marker": {
             "line": {
              "color": "#E5ECF6",
              "width": 0.5
             },
             "pattern": {
              "fillmode": "overlay",
              "size": 10,
              "solidity": 0.2
             }
            },
            "type": "barpolar"
           }
          ],
          "carpet": [
           {
            "aaxis": {
             "endlinecolor": "#2a3f5f",
             "gridcolor": "white",
             "linecolor": "white",
             "minorgridcolor": "white",
             "startlinecolor": "#2a3f5f"
            },
            "baxis": {
             "endlinecolor": "#2a3f5f",
             "gridcolor": "white",
             "linecolor": "white",
             "minorgridcolor": "white",
             "startlinecolor": "#2a3f5f"
            },
            "type": "carpet"
           }
          ],
          "choropleth": [
           {
            "colorbar": {
             "outlinewidth": 0,
             "ticks": ""
            },
            "type": "choropleth"
           }
          ],
          "contour": [
           {
            "colorbar": {
             "outlinewidth": 0,
             "ticks": ""
            },
            "colorscale": [
             [
              0,
              "#0d0887"
             ],
             [
              0.1111111111111111,
              "#46039f"
             ],
             [
              0.2222222222222222,
              "#7201a8"
             ],
             [
              0.3333333333333333,
              "#9c179e"
             ],
             [
              0.4444444444444444,
              "#bd3786"
             ],
             [
              0.5555555555555556,
              "#d8576b"
             ],
             [
              0.6666666666666666,
              "#ed7953"
             ],
             [
              0.7777777777777778,
              "#fb9f3a"
             ],
             [
              0.8888888888888888,
              "#fdca26"
             ],
             [
              1,
              "#f0f921"
             ]
            ],
            "type": "contour"
           }
          ],
          "contourcarpet": [
           {
            "colorbar": {
             "outlinewidth": 0,
             "ticks": ""
            },
            "type": "contourcarpet"
           }
          ],
          "heatmap": [
           {
            "colorbar": {
             "outlinewidth": 0,
             "ticks": ""
            },
            "colorscale": [
             [
              0,
              "#0d0887"
             ],
             [
              0.1111111111111111,
              "#46039f"
             ],
             [
              0.2222222222222222,
              "#7201a8"
             ],
             [
              0.3333333333333333,
              "#9c179e"
             ],
             [
              0.4444444444444444,
              "#bd3786"
             ],
             [
              0.5555555555555556,
              "#d8576b"
             ],
             [
              0.6666666666666666,
              "#ed7953"
             ],
             [
              0.7777777777777778,
              "#fb9f3a"
             ],
             [
              0.8888888888888888,
              "#fdca26"
             ],
             [
              1,
              "#f0f921"
             ]
            ],
            "type": "heatmap"
           }
          ],
          "histogram": [
           {
            "marker": {
             "pattern": {
              "fillmode": "overlay",
              "size": 10,
              "solidity": 0.2
             }
            },
            "type": "histogram"
           }
          ],
          "histogram2d": [
           {
            "colorbar": {
             "outlinewidth": 0,
             "ticks": ""
            },
            "colorscale": [
             [
              0,
              "#0d0887"
             ],
             [
              0.1111111111111111,
              "#46039f"
             ],
             [
              0.2222222222222222,
              "#7201a8"
             ],
             [
              0.3333333333333333,
              "#9c179e"
             ],
             [
              0.4444444444444444,
              "#bd3786"
             ],
             [
              0.5555555555555556,
              "#d8576b"
             ],
             [
              0.6666666666666666,
              "#ed7953"
             ],
             [
              0.7777777777777778,
              "#fb9f3a"
             ],
             [
              0.8888888888888888,
              "#fdca26"
             ],
             [
              1,
              "#f0f921"
             ]
            ],
            "type": "histogram2d"
           }
          ],
          "histogram2dcontour": [
           {
            "colorbar": {
             "outlinewidth": 0,
             "ticks": ""
            },
            "colorscale": [
             [
              0,
              "#0d0887"
             ],
             [
              0.1111111111111111,
              "#46039f"
             ],
             [
              0.2222222222222222,
              "#7201a8"
             ],
             [
              0.3333333333333333,
              "#9c179e"
             ],
             [
              0.4444444444444444,
              "#bd3786"
             ],
             [
              0.5555555555555556,
              "#d8576b"
             ],
             [
              0.6666666666666666,
              "#ed7953"
             ],
             [
              0.7777777777777778,
              "#fb9f3a"
             ],
             [
              0.8888888888888888,
              "#fdca26"
             ],
             [
              1,
              "#f0f921"
             ]
            ],
            "type": "histogram2dcontour"
           }
          ],
          "mesh3d": [
           {
            "colorbar": {
             "outlinewidth": 0,
             "ticks": ""
            },
            "type": "mesh3d"
           }
          ],
          "parcoords": [
           {
            "line": {
             "colorbar": {
              "outlinewidth": 0,
              "ticks": ""
             }
            },
            "type": "parcoords"
           }
          ],
          "pie": [
           {
            "automargin": true,
            "type": "pie"
           }
          ],
          "scatter": [
           {
            "fillpattern": {
             "fillmode": "overlay",
             "size": 10,
             "solidity": 0.2
            },
            "type": "scatter"
           }
          ],
          "scatter3d": [
           {
            "line": {
             "colorbar": {
              "outlinewidth": 0,
              "ticks": ""
             }
            },
            "marker": {
             "colorbar": {
              "outlinewidth": 0,
              "ticks": ""
             }
            },
            "type": "scatter3d"
           }
          ],
          "scattercarpet": [
           {
            "marker": {
             "colorbar": {
              "outlinewidth": 0,
              "ticks": ""
             }
            },
            "type": "scattercarpet"
           }
          ],
          "scattergeo": [
           {
            "marker": {
             "colorbar": {
              "outlinewidth": 0,
              "ticks": ""
             }
            },
            "type": "scattergeo"
           }
          ],
          "scattergl": [
           {
            "marker": {
             "colorbar": {
              "outlinewidth": 0,
              "ticks": ""
             }
            },
            "type": "scattergl"
           }
          ],
          "scattermap": [
           {
            "marker": {
             "colorbar": {
              "outlinewidth": 0,
              "ticks": ""
             }
            },
            "type": "scattermap"
           }
          ],
          "scattermapbox": [
           {
            "marker": {
             "colorbar": {
              "outlinewidth": 0,
              "ticks": ""
             }
            },
            "type": "scattermapbox"
           }
          ],
          "scatterpolar": [
           {
            "marker": {
             "colorbar": {
              "outlinewidth": 0,
              "ticks": ""
             }
            },
            "type": "scatterpolar"
           }
          ],
          "scatterpolargl": [
           {
            "marker": {
             "colorbar": {
              "outlinewidth": 0,
              "ticks": ""
             }
            },
            "type": "scatterpolargl"
           }
          ],
          "scatterternary": [
           {
            "marker": {
             "colorbar": {
              "outlinewidth": 0,
              "ticks": ""
             }
            },
            "type": "scatterternary"
           }
          ],
          "surface": [
           {
            "colorbar": {
             "outlinewidth": 0,
             "ticks": ""
            },
            "colorscale": [
             [
              0,
              "#0d0887"
             ],
             [
              0.1111111111111111,
              "#46039f"
             ],
             [
              0.2222222222222222,
              "#7201a8"
             ],
             [
              0.3333333333333333,
              "#9c179e"
             ],
             [
              0.4444444444444444,
              "#bd3786"
             ],
             [
              0.5555555555555556,
              "#d8576b"
             ],
             [
              0.6666666666666666,
              "#ed7953"
             ],
             [
              0.7777777777777778,
              "#fb9f3a"
             ],
             [
              0.8888888888888888,
              "#fdca26"
             ],
             [
              1,
              "#f0f921"
             ]
            ],
            "type": "surface"
           }
          ],
          "table": [
           {
            "cells": {
             "fill": {
              "color": "#EBF0F8"
             },
             "line": {
              "color": "white"
             }
            },
            "header": {
             "fill": {
              "color": "#C8D4E3"
             },
             "line": {
              "color": "white"
             }
            },
            "type": "table"
           }
          ]
         },
         "layout": {
          "annotationdefaults": {
           "arrowcolor": "#2a3f5f",
           "arrowhead": 0,
           "arrowwidth": 1
          },
          "autotypenumbers": "strict",
          "coloraxis": {
           "colorbar": {
            "outlinewidth": 0,
            "ticks": ""
           }
          },
          "colorscale": {
           "diverging": [
            [
             0,
             "#8e0152"
            ],
            [
             0.1,
             "#c51b7d"
            ],
            [
             0.2,
             "#de77ae"
            ],
            [
             0.3,
             "#f1b6da"
            ],
            [
             0.4,
             "#fde0ef"
            ],
            [
             0.5,
             "#f7f7f7"
            ],
            [
             0.6,
             "#e6f5d0"
            ],
            [
             0.7,
             "#b8e186"
            ],
            [
             0.8,
             "#7fbc41"
            ],
            [
             0.9,
             "#4d9221"
            ],
            [
             1,
             "#276419"
            ]
           ],
           "sequential": [
            [
             0,
             "#0d0887"
            ],
            [
             0.1111111111111111,
             "#46039f"
            ],
            [
             0.2222222222222222,
             "#7201a8"
            ],
            [
             0.3333333333333333,
             "#9c179e"
            ],
            [
             0.4444444444444444,
             "#bd3786"
            ],
            [
             0.5555555555555556,
             "#d8576b"
            ],
            [
             0.6666666666666666,
             "#ed7953"
            ],
            [
             0.7777777777777778,
             "#fb9f3a"
            ],
            [
             0.8888888888888888,
             "#fdca26"
            ],
            [
             1,
             "#f0f921"
            ]
           ],
           "sequentialminus": [
            [
             0,
             "#0d0887"
            ],
            [
             0.1111111111111111,
             "#46039f"
            ],
            [
             0.2222222222222222,
             "#7201a8"
            ],
            [
             0.3333333333333333,
             "#9c179e"
            ],
            [
             0.4444444444444444,
             "#bd3786"
            ],
            [
             0.5555555555555556,
             "#d8576b"
            ],
            [
             0.6666666666666666,
             "#ed7953"
            ],
            [
             0.7777777777777778,
             "#fb9f3a"
            ],
            [
             0.8888888888888888,
             "#fdca26"
            ],
            [
             1,
             "#f0f921"
            ]
           ]
          },
          "colorway": [
           "#636efa",
           "#EF553B",
           "#00cc96",
           "#ab63fa",
           "#FFA15A",
           "#19d3f3",
           "#FF6692",
           "#B6E880",
           "#FF97FF",
           "#FECB52"
          ],
          "font": {
           "color": "#2a3f5f"
          },
          "geo": {
           "bgcolor": "white",
           "lakecolor": "white",
           "landcolor": "#E5ECF6",
           "showlakes": true,
           "showland": true,
           "subunitcolor": "white"
          },
          "hoverlabel": {
           "align": "left"
          },
          "hovermode": "closest",
          "mapbox": {
           "style": "light"
          },
          "paper_bgcolor": "white",
          "plot_bgcolor": "#E5ECF6",
          "polar": {
           "angularaxis": {
            "gridcolor": "white",
            "linecolor": "white",
            "ticks": ""
           },
           "bgcolor": "#E5ECF6",
           "radialaxis": {
            "gridcolor": "white",
            "linecolor": "white",
            "ticks": ""
           }
          },
          "scene": {
           "xaxis": {
            "backgroundcolor": "#E5ECF6",
            "gridcolor": "white",
            "gridwidth": 2,
            "linecolor": "white",
            "showbackground": true,
            "ticks": "",
            "zerolinecolor": "white"
           },
           "yaxis": {
            "backgroundcolor": "#E5ECF6",
            "gridcolor": "white",
            "gridwidth": 2,
            "linecolor": "white",
            "showbackground": true,
            "ticks": "",
            "zerolinecolor": "white"
           },
           "zaxis": {
            "backgroundcolor": "#E5ECF6",
            "gridcolor": "white",
            "gridwidth": 2,
            "linecolor": "white",
            "showbackground": true,
            "ticks": "",
            "zerolinecolor": "white"
           }
          },
          "shapedefaults": {
           "line": {
            "color": "#2a3f5f"
           }
          },
          "ternary": {
           "aaxis": {
            "gridcolor": "white",
            "linecolor": "white",
            "ticks": ""
           },
           "baxis": {
            "gridcolor": "white",
            "linecolor": "white",
            "ticks": ""
           },
           "bgcolor": "#E5ECF6",
           "caxis": {
            "gridcolor": "white",
            "linecolor": "white",
            "ticks": ""
           }
          },
          "title": {
           "x": 0.05
          },
          "xaxis": {
           "automargin": true,
           "gridcolor": "white",
           "linecolor": "white",
           "ticks": "",
           "title": {
            "standoff": 15
           },
           "zerolinecolor": "white",
           "zerolinewidth": 2
          },
          "yaxis": {
           "automargin": true,
           "gridcolor": "white",
           "linecolor": "white",
           "ticks": "",
           "title": {
            "standoff": 15
           },
           "zerolinecolor": "white",
           "zerolinewidth": 2
          }
         }
        },
        "width": 900
       }
      },
      "text/html": [
       "<div>                        <script type=\"text/javascript\">window.PlotlyConfig = {MathJaxConfig: 'local'};</script>\n",
       "        <script charset=\"utf-8\" src=\"https://cdn.plot.ly/plotly-3.1.1.min.js\" integrity=\"sha256-HUEFyfiTnZJxCxur99FjbKYTvKSzwDaD3/x5TqHpFu4=\" crossorigin=\"anonymous\"></script>                <div id=\"4d4bc9c6-b74a-47b4-b8b1-c98ec60d438f\" class=\"plotly-graph-div\" style=\"height:600px; width:900px;\"></div>            <script type=\"text/javascript\">                window.PLOTLYENV=window.PLOTLYENV || {};                                if (document.getElementById(\"4d4bc9c6-b74a-47b4-b8b1-c98ec60d438f\")) {                    Plotly.newPlot(                        \"4d4bc9c6-b74a-47b4-b8b1-c98ec60d438f\",                        [{\"customdata\":[[\"Montgomery\",\"Alabama\"]],\"geo\":\"geo\",\"hovertemplate\":\"state=%{customdata[1]}\\u003cbr\\u003elatitude=%{lat}\\u003cbr\\u003elongitude=%{lon}\\u003cbr\\u003eplace name=%{customdata[0]}\\u003cextra\\u003e\\u003c\\u002fextra\\u003e\",\"lat\":[\"32.357\"],\"legendgroup\":\"Alabama\",\"lon\":[\"-86.2578\"],\"marker\":{\"color\":\"#636efa\",\"symbol\":\"circle\"},\"mode\":\"markers\",\"name\":\"Alabama\",\"showlegend\":true,\"type\":\"scattergeo\"},{\"customdata\":[[\"Juneau\",\"Alaska\"]],\"geo\":\"geo\",\"hovertemplate\":\"state=%{customdata[1]}\\u003cbr\\u003elatitude=%{lat}\\u003cbr\\u003elongitude=%{lon}\\u003cbr\\u003eplace name=%{customdata[0]}\\u003cextra\\u003e\\u003c\\u002fextra\\u003e\",\"lat\":[\"58.3628\"],\"legendgroup\":\"Alaska\",\"lon\":[\"-134.5294\"],\"marker\":{\"color\":\"#EF553B\",\"symbol\":\"circle\"},\"mode\":\"markers\",\"name\":\"Alaska\",\"showlegend\":true,\"type\":\"scattergeo\"},{\"customdata\":[[\"Phoenix\",\"Arizona\"]],\"geo\":\"geo\",\"hovertemplate\":\"state=%{customdata[1]}\\u003cbr\\u003elatitude=%{lat}\\u003cbr\\u003elongitude=%{lon}\\u003cbr\\u003eplace name=%{customdata[0]}\\u003cextra\\u003e\\u003c\\u002fextra\\u003e\",\"lat\":[\"33.704\"],\"legendgroup\":\"Arizona\",\"lon\":[\"-112.3518\"],\"marker\":{\"color\":\"#00cc96\",\"symbol\":\"circle\"},\"mode\":\"markers\",\"name\":\"Arizona\",\"showlegend\":true,\"type\":\"scattergeo\"},{\"customdata\":[[\"Little Rock Air Force Base\",\"Arkansas\"]],\"geo\":\"geo\",\"hovertemplate\":\"state=%{customdata[1]}\\u003cbr\\u003elatitude=%{lat}\\u003cbr\\u003elongitude=%{lon}\\u003cbr\\u003eplace name=%{customdata[0]}\\u003cextra\\u003e\\u003c\\u002fextra\\u003e\",\"lat\":[\"34.9074\"],\"legendgroup\":\"Arkansas\",\"lon\":[\"-92.1397\"],\"marker\":{\"color\":\"#ab63fa\",\"symbol\":\"circle\"},\"mode\":\"markers\",\"name\":\"Arkansas\",\"showlegend\":true,\"type\":\"scattergeo\"},{\"customdata\":[[\"Sacramento\",\"California\"]],\"geo\":\"geo\",\"hovertemplate\":\"state=%{customdata[1]}\\u003cbr\\u003elatitude=%{lat}\\u003cbr\\u003elongitude=%{lon}\\u003cbr\\u003eplace name=%{customdata[0]}\\u003cextra\\u003e\\u003c\\u002fextra\\u003e\",\"lat\":[\"38.3805\"],\"legendgroup\":\"California\",\"lon\":[\"-121.5554\"],\"marker\":{\"color\":\"#FFA15A\",\"symbol\":\"circle\"},\"mode\":\"markers\",\"name\":\"California\",\"showlegend\":true,\"type\":\"scattergeo\"},{\"customdata\":[[\"Denver\",\"Colorado\"]],\"geo\":\"geo\",\"hovertemplate\":\"state=%{customdata[1]}\\u003cbr\\u003elatitude=%{lat}\\u003cbr\\u003elongitude=%{lon}\\u003cbr\\u003eplace name=%{customdata[0]}\\u003cextra\\u003e\\u003c\\u002fextra\\u003e\",\"lat\":[\"39.7263\"],\"legendgroup\":\"Colorado\",\"lon\":[\"-104.8568\"],\"marker\":{\"color\":\"#19d3f3\",\"symbol\":\"circle\"},\"mode\":\"markers\",\"name\":\"Colorado\",\"showlegend\":true,\"type\":\"scattergeo\"},{\"customdata\":[[\"New Hartford\",\"Connecticut\"]],\"geo\":\"geo\",\"hovertemplate\":\"state=%{customdata[1]}\\u003cbr\\u003elatitude=%{lat}\\u003cbr\\u003elongitude=%{lon}\\u003cbr\\u003eplace name=%{customdata[0]}\\u003cextra\\u003e\\u003c\\u002fextra\\u003e\",\"lat\":[\"41.8468\"],\"legendgroup\":\"Connecticut\",\"lon\":[\"-73.0104\"],\"marker\":{\"color\":\"#FF6692\",\"symbol\":\"circle\"},\"mode\":\"markers\",\"name\":\"Connecticut\",\"showlegend\":true,\"type\":\"scattergeo\"},{\"customdata\":[[\"Dover\",\"Delaware\"]],\"geo\":\"geo\",\"hovertemplate\":\"state=%{customdata[1]}\\u003cbr\\u003elatitude=%{lat}\\u003cbr\\u003elongitude=%{lon}\\u003cbr\\u003eplace name=%{customdata[0]}\\u003cextra\\u003e\\u003c\\u002fextra\\u003e\",\"lat\":[\"39.1564\"],\"legendgroup\":\"Delaware\",\"lon\":[\"-75.4955\"],\"marker\":{\"color\":\"#B6E880\",\"symbol\":\"circle\"},\"mode\":\"markers\",\"name\":\"Delaware\",\"showlegend\":true,\"type\":\"scattergeo\"},{\"customdata\":[[\"Tallahassee\",\"Florida\"]],\"geo\":\"geo\",\"hovertemplate\":\"state=%{customdata[1]}\\u003cbr\\u003elatitude=%{lat}\\u003cbr\\u003elongitude=%{lon}\\u003cbr\\u003eplace name=%{customdata[0]}\\u003cextra\\u003e\\u003c\\u002fextra\\u003e\",\"lat\":[\"30.4286\"],\"legendgroup\":\"Florida\",\"lon\":[\"-84.2593\"],\"marker\":{\"color\":\"#FF97FF\",\"symbol\":\"circle\"},\"mode\":\"markers\",\"name\":\"Florida\",\"showlegend\":true,\"type\":\"scattergeo\"},{\"customdata\":[[\"Atlanta\",\"Georgia\"]],\"geo\":\"geo\",\"hovertemplate\":\"state=%{customdata[1]}\\u003cbr\\u003elatitude=%{lat}\\u003cbr\\u003elongitude=%{lon}\\u003cbr\\u003eplace name=%{customdata[0]}\\u003cextra\\u003e\\u003c\\u002fextra\\u003e\",\"lat\":[\"33.8444\"],\"legendgroup\":\"Georgia\",\"lon\":[\"-84.474\"],\"marker\":{\"color\":\"#FECB52\",\"symbol\":\"circle\"},\"mode\":\"markers\",\"name\":\"Georgia\",\"showlegend\":true,\"type\":\"scattergeo\"},{\"customdata\":[[\"Honolulu\",\"Hawaii\"]],\"geo\":\"geo\",\"hovertemplate\":\"state=%{customdata[1]}\\u003cbr\\u003elatitude=%{lat}\\u003cbr\\u003elongitude=%{lon}\\u003cbr\\u003eplace name=%{customdata[0]}\\u003cextra\\u003e\\u003c\\u002fextra\\u003e\",\"lat\":[\"24.8598\"],\"legendgroup\":\"Hawaii\",\"lon\":[\"-168.0218\"],\"marker\":{\"color\":\"#636efa\",\"symbol\":\"circle\"},\"mode\":\"markers\",\"name\":\"Hawaii\",\"showlegend\":true,\"type\":\"scattergeo\"},{\"customdata\":[[\"Boise\",\"Idaho\"]],\"geo\":\"geo\",\"hovertemplate\":\"state=%{customdata[1]}\\u003cbr\\u003elatitude=%{lat}\\u003cbr\\u003elongitude=%{lon}\\u003cbr\\u003eplace name=%{customdata[0]}\\u003cextra\\u003e\\u003c\\u002fextra\\u003e\",\"lat\":[\"43.6038\"],\"legendgroup\":\"Idaho\",\"lon\":[\"-116.2729\"],\"marker\":{\"color\":\"#EF553B\",\"symbol\":\"circle\"},\"mode\":\"markers\",\"name\":\"Idaho\",\"showlegend\":true,\"type\":\"scattergeo\"},{\"customdata\":[[\"Springfield\",\"Illinois\"]],\"geo\":\"geo\",\"hovertemplate\":\"state=%{customdata[1]}\\u003cbr\\u003elatitude=%{lat}\\u003cbr\\u003elongitude=%{lon}\\u003cbr\\u003eplace name=%{customdata[0]}\\u003cextra\\u003e\\u003c\\u002fextra\\u003e\",\"lat\":[\"39.8\"],\"legendgroup\":\"Illinois\",\"lon\":[\"-89.6495\"],\"marker\":{\"color\":\"#00cc96\",\"symbol\":\"circle\"},\"mode\":\"markers\",\"name\":\"Illinois\",\"showlegend\":true,\"type\":\"scattergeo\"},{\"customdata\":[[\"Indianapolis\",\"Indiana\"]],\"geo\":\"geo\",\"hovertemplate\":\"state=%{customdata[1]}\\u003cbr\\u003elatitude=%{lat}\\u003cbr\\u003elongitude=%{lon}\\u003cbr\\u003eplace name=%{customdata[0]}\\u003cextra\\u003e\\u003c\\u002fextra\\u003e\",\"lat\":[\"39.775\"],\"legendgroup\":\"Indiana\",\"lon\":[\"-86.1093\"],\"marker\":{\"color\":\"#ab63fa\",\"symbol\":\"circle\"},\"mode\":\"markers\",\"name\":\"Indiana\",\"showlegend\":true,\"type\":\"scattergeo\"},{\"customdata\":[[\"West Des Moines\",\"Iowa\"]],\"geo\":\"geo\",\"hovertemplate\":\"state=%{customdata[1]}\\u003cbr\\u003elatitude=%{lat}\\u003cbr\\u003elongitude=%{lon}\\u003cbr\\u003eplace name=%{customdata[0]}\\u003cextra\\u003e\\u003c\\u002fextra\\u003e\",\"lat\":[\"41.5805\"],\"legendgroup\":\"Iowa\",\"lon\":[\"-93.7447\"],\"marker\":{\"color\":\"#FFA15A\",\"symbol\":\"circle\"},\"mode\":\"markers\",\"name\":\"Iowa\",\"showlegend\":true,\"type\":\"scattergeo\"},{\"customdata\":[[\"Topeka\",\"Kansas\"]],\"geo\":\"geo\",\"hovertemplate\":\"state=%{customdata[1]}\\u003cbr\\u003elatitude=%{lat}\\u003cbr\\u003elongitude=%{lon}\\u003cbr\\u003eplace name=%{customdata[0]}\\u003cextra\\u003e\\u003c\\u002fextra\\u003e\",\"lat\":[\"38.9881\"],\"legendgroup\":\"Kansas\",\"lon\":[\"-95.7807\"],\"marker\":{\"color\":\"#19d3f3\",\"symbol\":\"circle\"},\"mode\":\"markers\",\"name\":\"Kansas\",\"showlegend\":true,\"type\":\"scattergeo\"},{\"customdata\":[[\"Frankfort\",\"Kentucky\"]],\"geo\":\"geo\",\"hovertemplate\":\"state=%{customdata[1]}\\u003cbr\\u003elatitude=%{lat}\\u003cbr\\u003elongitude=%{lon}\\u003cbr\\u003eplace name=%{customdata[0]}\\u003cextra\\u003e\\u003c\\u002fextra\\u003e\",\"lat\":[\"38.2281\"],\"legendgroup\":\"Kentucky\",\"lon\":[\"-84.8697\"],\"marker\":{\"color\":\"#FF6692\",\"symbol\":\"circle\"},\"mode\":\"markers\",\"name\":\"Kentucky\",\"showlegend\":true,\"type\":\"scattergeo\"},{\"customdata\":[[\"Baton Rouge\",\"Louisiana\"]],\"geo\":\"geo\",\"hovertemplate\":\"state=%{customdata[1]}\\u003cbr\\u003elatitude=%{lat}\\u003cbr\\u003elongitude=%{lon}\\u003cbr\\u003eplace name=%{customdata[0]}\\u003cextra\\u003e\\u003c\\u002fextra\\u003e\",\"lat\":[\"30.4492\"],\"legendgroup\":\"Louisiana\",\"lon\":[\"-91.1856\"],\"marker\":{\"color\":\"#B6E880\",\"symbol\":\"circle\"},\"mode\":\"markers\",\"name\":\"Louisiana\",\"showlegend\":true,\"type\":\"scattergeo\"},{\"customdata\":[[\"Augusta\",\"Maine\"]],\"geo\":\"geo\",\"hovertemplate\":\"state=%{customdata[1]}\\u003cbr\\u003elatitude=%{lat}\\u003cbr\\u003elongitude=%{lon}\\u003cbr\\u003eplace name=%{customdata[0]}\\u003cextra\\u003e\\u003c\\u002fextra\\u003e\",\"lat\":[\"44.3232\"],\"legendgroup\":\"Maine\",\"lon\":[\"-69.7665\"],\"marker\":{\"color\":\"#FF97FF\",\"symbol\":\"circle\"},\"mode\":\"markers\",\"name\":\"Maine\",\"showlegend\":true,\"type\":\"scattergeo\"},{\"customdata\":[[\"Annapolis Junction\",\"Maryland\"]],\"geo\":\"geo\",\"hovertemplate\":\"state=%{customdata[1]}\\u003cbr\\u003elatitude=%{lat}\\u003cbr\\u003elongitude=%{lon}\\u003cbr\\u003eplace name=%{customdata[0]}\\u003cextra\\u003e\\u003c\\u002fextra\\u003e\",\"lat\":[\"39.1332\"],\"legendgroup\":\"Maryland\",\"lon\":[\"-76.7988\"],\"marker\":{\"color\":\"#FECB52\",\"symbol\":\"circle\"},\"mode\":\"markers\",\"name\":\"Maryland\",\"showlegend\":true,\"type\":\"scattergeo\"},{\"customdata\":[[\"Boston\",\"Massachusetts\"]],\"geo\":\"geo\",\"hovertemplate\":\"state=%{customdata[1]}\\u003cbr\\u003elatitude=%{lat}\\u003cbr\\u003elongitude=%{lon}\\u003cbr\\u003eplace name=%{customdata[0]}\\u003cextra\\u003e\\u003c\\u002fextra\\u003e\",\"lat\":[\"42.3706\"],\"legendgroup\":\"Massachusetts\",\"lon\":[\"-71.027\"],\"marker\":{\"color\":\"#636efa\",\"symbol\":\"circle\"},\"mode\":\"markers\",\"name\":\"Massachusetts\",\"showlegend\":true,\"type\":\"scattergeo\"},{\"customdata\":[[\"East Lansing\",\"Michigan\"]],\"geo\":\"geo\",\"hovertemplate\":\"state=%{customdata[1]}\\u003cbr\\u003elatitude=%{lat}\\u003cbr\\u003elongitude=%{lon}\\u003cbr\\u003eplace name=%{customdata[0]}\\u003cextra\\u003e\\u003c\\u002fextra\\u003e\",\"lat\":[\"42.7388\"],\"legendgroup\":\"Michigan\",\"lon\":[\"-84.4764\"],\"marker\":{\"color\":\"#EF553B\",\"symbol\":\"circle\"},\"mode\":\"markers\",\"name\":\"Michigan\",\"showlegend\":true,\"type\":\"scattergeo\"},{\"customdata\":[[\"Saint Paul Park\",\"Minnesota\"]],\"geo\":\"geo\",\"hovertemplate\":\"state=%{customdata[1]}\\u003cbr\\u003elatitude=%{lat}\\u003cbr\\u003elongitude=%{lon}\\u003cbr\\u003eplace name=%{customdata[0]}\\u003cextra\\u003e\\u003c\\u002fextra\\u003e\",\"lat\":[\"44.8344\"],\"legendgroup\":\"Minnesota\",\"lon\":[\"-92.9873\"],\"marker\":{\"color\":\"#00cc96\",\"symbol\":\"circle\"},\"mode\":\"markers\",\"name\":\"Minnesota\",\"showlegend\":true,\"type\":\"scattergeo\"},{\"customdata\":[[\"Jackson\",\"Mississippi\"]],\"geo\":\"geo\",\"hovertemplate\":\"state=%{customdata[1]}\\u003cbr\\u003elatitude=%{lat}\\u003cbr\\u003elongitude=%{lon}\\u003cbr\\u003eplace name=%{customdata[0]}\\u003cextra\\u003e\\u003c\\u002fextra\\u003e\",\"lat\":[\"32.3205\"],\"legendgroup\":\"Mississippi\",\"lon\":[\"-90.2076\"],\"marker\":{\"color\":\"#ab63fa\",\"symbol\":\"circle\"},\"mode\":\"markers\",\"name\":\"Mississippi\",\"showlegend\":true,\"type\":\"scattergeo\"},{\"customdata\":[[\"Jefferson City\",\"Missouri\"]],\"geo\":\"geo\",\"hovertemplate\":\"state=%{customdata[1]}\\u003cbr\\u003elatitude=%{lat}\\u003cbr\\u003elongitude=%{lon}\\u003cbr\\u003eplace name=%{customdata[0]}\\u003cextra\\u003e\\u003c\\u002fextra\\u003e\",\"lat\":[\"38.5462\"],\"legendgroup\":\"Missouri\",\"lon\":[\"-92.1525\"],\"marker\":{\"color\":\"#FFA15A\",\"symbol\":\"circle\"},\"mode\":\"markers\",\"name\":\"Missouri\",\"showlegend\":true,\"type\":\"scattergeo\"},{\"customdata\":[[\"Helena\",\"Montana\"]],\"geo\":\"geo\",\"hovertemplate\":\"state=%{customdata[1]}\\u003cbr\\u003elatitude=%{lat}\\u003cbr\\u003elongitude=%{lon}\\u003cbr\\u003eplace name=%{customdata[0]}\\u003cextra\\u003e\\u003c\\u002fextra\\u003e\",\"lat\":[\"46.6131\"],\"legendgroup\":\"Montana\",\"lon\":[\"-112.0213\"],\"marker\":{\"color\":\"#19d3f3\",\"symbol\":\"circle\"},\"mode\":\"markers\",\"name\":\"Montana\",\"showlegend\":true,\"type\":\"scattergeo\"},{\"customdata\":[[\"Lincoln\",\"Nebraska\"]],\"geo\":\"geo\",\"hovertemplate\":\"state=%{customdata[1]}\\u003cbr\\u003elatitude=%{lat}\\u003cbr\\u003elongitude=%{lon}\\u003cbr\\u003eplace name=%{customdata[0]}\\u003cextra\\u003e\\u003c\\u002fextra\\u003e\",\"lat\":[\"40.8651\"],\"legendgroup\":\"Nebraska\",\"lon\":[\"-96.8231\"],\"marker\":{\"color\":\"#FF6692\",\"symbol\":\"circle\"},\"mode\":\"markers\",\"name\":\"Nebraska\",\"showlegend\":true,\"type\":\"scattergeo\"},{\"customdata\":[[\"Carson City\",\"Nevada\"]],\"geo\":\"geo\",\"hovertemplate\":\"state=%{customdata[1]}\\u003cbr\\u003elatitude=%{lat}\\u003cbr\\u003elongitude=%{lon}\\u003cbr\\u003eplace name=%{customdata[0]}\\u003cextra\\u003e\\u003c\\u002fextra\\u003e\",\"lat\":[\"39.1507\"],\"legendgroup\":\"Nevada\",\"lon\":[\"-119.7459\"],\"marker\":{\"color\":\"#B6E880\",\"symbol\":\"circle\"},\"mode\":\"markers\",\"name\":\"Nevada\",\"showlegend\":true,\"type\":\"scattergeo\"},{\"customdata\":[[\"Concord\",\"New Hampshire\"]],\"geo\":\"geo\",\"hovertemplate\":\"state=%{customdata[1]}\\u003cbr\\u003elatitude=%{lat}\\u003cbr\\u003elongitude=%{lon}\\u003cbr\\u003eplace name=%{customdata[0]}\\u003cextra\\u003e\\u003c\\u002fextra\\u003e\",\"lat\":[\"43.2185\"],\"legendgroup\":\"New Hampshire\",\"lon\":[\"-71.5277\"],\"marker\":{\"color\":\"#FF97FF\",\"symbol\":\"circle\"},\"mode\":\"markers\",\"name\":\"New Hampshire\",\"showlegend\":true,\"type\":\"scattergeo\"},{\"customdata\":[[\"Trenton\",\"New Jersey\"]],\"geo\":\"geo\",\"hovertemplate\":\"state=%{customdata[1]}\\u003cbr\\u003elatitude=%{lat}\\u003cbr\\u003elongitude=%{lon}\\u003cbr\\u003eplace name=%{customdata[0]}\\u003cextra\\u003e\\u003c\\u002fextra\\u003e\",\"lat\":[\"40.2805\"],\"legendgroup\":\"New Jersey\",\"lon\":[\"-74.712\"],\"marker\":{\"color\":\"#FECB52\",\"symbol\":\"circle\"},\"mode\":\"markers\",\"name\":\"New Jersey\",\"showlegend\":true,\"type\":\"scattergeo\"},{\"customdata\":[[\"Santa Fe\",\"New Mexico\"]],\"geo\":\"geo\",\"hovertemplate\":\"state=%{customdata[1]}\\u003cbr\\u003elatitude=%{lat}\\u003cbr\\u003elongitude=%{lon}\\u003cbr\\u003eplace name=%{customdata[0]}\\u003cextra\\u003e\\u003c\\u002fextra\\u003e\",\"lat\":[\"35.6975\"],\"legendgroup\":\"New Mexico\",\"lon\":[\"-105.9821\"],\"marker\":{\"color\":\"#636efa\",\"symbol\":\"circle\"},\"mode\":\"markers\",\"name\":\"New Mexico\",\"showlegend\":true,\"type\":\"scattergeo\"},{\"customdata\":[[\"Albany\",\"New York\"]],\"geo\":\"geo\",\"hovertemplate\":\"state=%{customdata[1]}\\u003cbr\\u003elatitude=%{lat}\\u003cbr\\u003elongitude=%{lon}\\u003cbr\\u003eplace name=%{customdata[0]}\\u003cextra\\u003e\\u003c\\u002fextra\\u003e\",\"lat\":[\"42.6149\"],\"legendgroup\":\"New York\",\"lon\":[\"-73.9708\"],\"marker\":{\"color\":\"#EF553B\",\"symbol\":\"circle\"},\"mode\":\"markers\",\"name\":\"New York\",\"showlegend\":true,\"type\":\"scattergeo\"},{\"customdata\":[[\"Raleigh\",\"North Carolina\"]],\"geo\":\"geo\",\"hovertemplate\":\"state=%{customdata[1]}\\u003cbr\\u003elatitude=%{lat}\\u003cbr\\u003elongitude=%{lon}\\u003cbr\\u003eplace name=%{customdata[0]}\\u003cextra\\u003e\\u003c\\u002fextra\\u003e\",\"lat\":[\"35.7727\"],\"legendgroup\":\"North Carolina\",\"lon\":[\"-78.6324\"],\"marker\":{\"color\":\"#00cc96\",\"symbol\":\"circle\"},\"mode\":\"markers\",\"name\":\"North Carolina\",\"showlegend\":true,\"type\":\"scattergeo\"},{\"customdata\":[[\"Bismarck\",\"North Dakota\"]],\"geo\":\"geo\",\"hovertemplate\":\"state=%{customdata[1]}\\u003cbr\\u003elatitude=%{lat}\\u003cbr\\u003elongitude=%{lon}\\u003cbr\\u003eplace name=%{customdata[0]}\\u003cextra\\u003e\\u003c\\u002fextra\\u003e\",\"lat\":[\"46.8234\"],\"legendgroup\":\"North Dakota\",\"lon\":[\"-100.7748\"],\"marker\":{\"color\":\"#ab63fa\",\"symbol\":\"circle\"},\"mode\":\"markers\",\"name\":\"North Dakota\",\"showlegend\":true,\"type\":\"scattergeo\"},{\"customdata\":[[\"Columbus\",\"Ohio\"]],\"geo\":\"geo\",\"hovertemplate\":\"state=%{customdata[1]}\\u003cbr\\u003elatitude=%{lat}\\u003cbr\\u003elongitude=%{lon}\\u003cbr\\u003eplace name=%{customdata[0]}\\u003cextra\\u003e\\u003c\\u002fextra\\u003e\",\"lat\":[\"40.0999\"],\"legendgroup\":\"Ohio\",\"lon\":[\"-83.0157\"],\"marker\":{\"color\":\"#FFA15A\",\"symbol\":\"circle\"},\"mode\":\"markers\",\"name\":\"Ohio\",\"showlegend\":true,\"type\":\"scattergeo\"},{\"customdata\":[[\"Oklahoma City\",\"Oklahoma\"]],\"geo\":\"geo\",\"hovertemplate\":\"state=%{customdata[1]}\\u003cbr\\u003elatitude=%{lat}\\u003cbr\\u003elongitude=%{lon}\\u003cbr\\u003eplace name=%{customdata[0]}\\u003cextra\\u003e\\u003c\\u002fextra\\u003e\",\"lat\":[\"35.3513\"],\"legendgroup\":\"Oklahoma\",\"lon\":[\"-97.4953\"],\"marker\":{\"color\":\"#19d3f3\",\"symbol\":\"circle\"},\"mode\":\"markers\",\"name\":\"Oklahoma\",\"showlegend\":true,\"type\":\"scattergeo\"},{\"customdata\":[[\"Salem\",\"Oregon\"]],\"geo\":\"geo\",\"hovertemplate\":\"state=%{customdata[1]}\\u003cbr\\u003elatitude=%{lat}\\u003cbr\\u003elongitude=%{lon}\\u003cbr\\u003eplace name=%{customdata[0]}\\u003cextra\\u003e\\u003c\\u002fextra\\u003e\",\"lat\":[\"44.949\"],\"legendgroup\":\"Oregon\",\"lon\":[\"-123.004\"],\"marker\":{\"color\":\"#FF6692\",\"symbol\":\"circle\"},\"mode\":\"markers\",\"name\":\"Oregon\",\"showlegend\":true,\"type\":\"scattergeo\"},{\"customdata\":[[\"Harrisburg\",\"Pennsylvania\"]],\"geo\":\"geo\",\"hovertemplate\":\"state=%{customdata[1]}\\u003cbr\\u003elatitude=%{lat}\\u003cbr\\u003elongitude=%{lon}\\u003cbr\\u003eplace name=%{customdata[0]}\\u003cextra\\u003e\\u003c\\u002fextra\\u003e\",\"lat\":[\"40.2618\"],\"legendgroup\":\"Pennsylvania\",\"lon\":[\"-76.8831\"],\"marker\":{\"color\":\"#B6E880\",\"symbol\":\"circle\"},\"mode\":\"markers\",\"name\":\"Pennsylvania\",\"showlegend\":true,\"type\":\"scattergeo\"},{\"customdata\":[[\"Providence\",\"Rhode Island\"]],\"geo\":\"geo\",\"hovertemplate\":\"state=%{customdata[1]}\\u003cbr\\u003elatitude=%{lat}\\u003cbr\\u003elongitude=%{lon}\\u003cbr\\u003eplace name=%{customdata[0]}\\u003cextra\\u003e\\u003c\\u002fextra\\u003e\",\"lat\":[\"41.8228\"],\"legendgroup\":\"Rhode Island\",\"lon\":[\"-71.4145\"],\"marker\":{\"color\":\"#FF97FF\",\"symbol\":\"circle\"},\"mode\":\"markers\",\"name\":\"Rhode Island\",\"showlegend\":true,\"type\":\"scattergeo\"},{\"customdata\":[[\"West Columbia\",\"South Carolina\"]],\"geo\":\"geo\",\"hovertemplate\":\"state=%{customdata[1]}\\u003cbr\\u003elatitude=%{lat}\\u003cbr\\u003elongitude=%{lon}\\u003cbr\\u003eplace name=%{customdata[0]}\\u003cextra\\u003e\\u003c\\u002fextra\\u003e\",\"lat\":[\"33.995\"],\"legendgroup\":\"South Carolina\",\"lon\":[\"-81.0888\"],\"marker\":{\"color\":\"#FECB52\",\"symbol\":\"circle\"},\"mode\":\"markers\",\"name\":\"South Carolina\",\"showlegend\":true,\"type\":\"scattergeo\"},{\"customdata\":[[\"Pierre\",\"South Dakota\"]],\"geo\":\"geo\",\"hovertemplate\":\"state=%{customdata[1]}\\u003cbr\\u003elatitude=%{lat}\\u003cbr\\u003elongitude=%{lon}\\u003cbr\\u003eplace name=%{customdata[0]}\\u003cextra\\u003e\\u003c\\u002fextra\\u003e\",\"lat\":[\"44.3695\"],\"legendgroup\":\"South Dakota\",\"lon\":[\"-100.3211\"],\"marker\":{\"color\":\"#636efa\",\"symbol\":\"circle\"},\"mode\":\"markers\",\"name\":\"South Dakota\",\"showlegend\":true,\"type\":\"scattergeo\"},{\"customdata\":[[\"Nashville\",\"Tennessee\"]],\"geo\":\"geo\",\"hovertemplate\":\"state=%{customdata[1]}\\u003cbr\\u003elatitude=%{lat}\\u003cbr\\u003elongitude=%{lon}\\u003cbr\\u003eplace name=%{customdata[0]}\\u003cextra\\u003e\\u003c\\u002fextra\\u003e\",\"lat\":[\"36.1657\"],\"legendgroup\":\"Tennessee\",\"lon\":[\"-86.7781\"],\"marker\":{\"color\":\"#EF553B\",\"symbol\":\"circle\"},\"mode\":\"markers\",\"name\":\"Tennessee\",\"showlegend\":true,\"type\":\"scattergeo\"},{\"customdata\":[[\"Austin\",\"Texas\"]],\"geo\":\"geo\",\"hovertemplate\":\"state=%{customdata[1]}\\u003cbr\\u003elatitude=%{lat}\\u003cbr\\u003elongitude=%{lon}\\u003cbr\\u003eplace name=%{customdata[0]}\\u003cextra\\u003e\\u003c\\u002fextra\\u003e\",\"lat\":[\"30.3264\"],\"legendgroup\":\"Texas\",\"lon\":[\"-97.7713\"],\"marker\":{\"color\":\"#00cc96\",\"symbol\":\"circle\"},\"mode\":\"markers\",\"name\":\"Texas\",\"showlegend\":true,\"type\":\"scattergeo\"},{\"customdata\":[[\"Salt Lake City\",\"Utah\"]],\"geo\":\"geo\",\"hovertemplate\":\"state=%{customdata[1]}\\u003cbr\\u003elatitude=%{lat}\\u003cbr\\u003elongitude=%{lon}\\u003cbr\\u003eplace name=%{customdata[0]}\\u003cextra\\u003e\\u003c\\u002fextra\\u003e\",\"lat\":[\"40.7559\"],\"legendgroup\":\"Utah\",\"lon\":[\"-111.8967\"],\"marker\":{\"color\":\"#ab63fa\",\"symbol\":\"circle\"},\"mode\":\"markers\",\"name\":\"Utah\",\"showlegend\":true,\"type\":\"scattergeo\"},{\"customdata\":[[\"Montpelier\",\"Vermont\"]],\"geo\":\"geo\",\"hovertemplate\":\"state=%{customdata[1]}\\u003cbr\\u003elatitude=%{lat}\\u003cbr\\u003elongitude=%{lon}\\u003cbr\\u003eplace name=%{customdata[0]}\\u003cextra\\u003e\\u003c\\u002fextra\\u003e\",\"lat\":[\"44.1991\"],\"legendgroup\":\"Vermont\",\"lon\":[\"-72.5596\"],\"marker\":{\"color\":\"#FFA15A\",\"symbol\":\"circle\"},\"mode\":\"markers\",\"name\":\"Vermont\",\"showlegend\":true,\"type\":\"scattergeo\"},{\"customdata\":[[\"University Of Richmond\",\"Virginia\"]],\"geo\":\"geo\",\"hovertemplate\":\"state=%{customdata[1]}\\u003cbr\\u003elatitude=%{lat}\\u003cbr\\u003elongitude=%{lon}\\u003cbr\\u003eplace name=%{customdata[0]}\\u003cextra\\u003e\\u003c\\u002fextra\\u003e\",\"lat\":[\"37.5242\"],\"legendgroup\":\"Virginia\",\"lon\":[\"-77.4932\"],\"marker\":{\"color\":\"#19d3f3\",\"symbol\":\"circle\"},\"mode\":\"markers\",\"name\":\"Virginia\",\"showlegend\":true,\"type\":\"scattergeo\"},{\"customdata\":[[\"Olympia\",\"Washington\"]],\"geo\":\"geo\",\"hovertemplate\":\"state=%{customdata[1]}\\u003cbr\\u003elatitude=%{lat}\\u003cbr\\u003elongitude=%{lon}\\u003cbr\\u003eplace name=%{customdata[0]}\\u003cextra\\u003e\\u003c\\u002fextra\\u003e\",\"lat\":[\"47.0129\"],\"legendgroup\":\"Washington\",\"lon\":[\"-122.8763\"],\"marker\":{\"color\":\"#FF6692\",\"symbol\":\"circle\"},\"mode\":\"markers\",\"name\":\"Washington\",\"showlegend\":true,\"type\":\"scattergeo\"},{\"customdata\":[[\"Charleston\",\"West Virginia\"]],\"geo\":\"geo\",\"hovertemplate\":\"state=%{customdata[1]}\\u003cbr\\u003elatitude=%{lat}\\u003cbr\\u003elongitude=%{lon}\\u003cbr\\u003eplace name=%{customdata[0]}\\u003cextra\\u003e\\u003c\\u002fextra\\u003e\",\"lat\":[\"38.349\"],\"legendgroup\":\"West Virginia\",\"lon\":[\"-81.6306\"],\"marker\":{\"color\":\"#B6E880\",\"symbol\":\"circle\"},\"mode\":\"markers\",\"name\":\"West Virginia\",\"showlegend\":true,\"type\":\"scattergeo\"},{\"customdata\":[[\"Madison\",\"Wisconsin\"]],\"geo\":\"geo\",\"hovertemplate\":\"state=%{customdata[1]}\\u003cbr\\u003elatitude=%{lat}\\u003cbr\\u003elongitude=%{lon}\\u003cbr\\u003eplace name=%{customdata[0]}\\u003cextra\\u003e\\u003c\\u002fextra\\u003e\",\"lat\":[\"43.0696\"],\"legendgroup\":\"Wisconsin\",\"lon\":[\"-89.4239\"],\"marker\":{\"color\":\"#FF97FF\",\"symbol\":\"circle\"},\"mode\":\"markers\",\"name\":\"Wisconsin\",\"showlegend\":true,\"type\":\"scattergeo\"},{\"customdata\":[[\"Cheyenne\",\"Wyoming\"]],\"geo\":\"geo\",\"hovertemplate\":\"state=%{customdata[1]}\\u003cbr\\u003elatitude=%{lat}\\u003cbr\\u003elongitude=%{lon}\\u003cbr\\u003eplace name=%{customdata[0]}\\u003cextra\\u003e\\u003c\\u002fextra\\u003e\",\"lat\":[\"41.1437\"],\"legendgroup\":\"Wyoming\",\"lon\":[\"-104.7962\"],\"marker\":{\"color\":\"#FECB52\",\"symbol\":\"circle\"},\"mode\":\"markers\",\"name\":\"Wyoming\",\"showlegend\":true,\"type\":\"scattergeo\"}],                        {\"template\":{\"data\":{\"histogram2dcontour\":[{\"type\":\"histogram2dcontour\",\"colorbar\":{\"outlinewidth\":0,\"ticks\":\"\"},\"colorscale\":[[0.0,\"#0d0887\"],[0.1111111111111111,\"#46039f\"],[0.2222222222222222,\"#7201a8\"],[0.3333333333333333,\"#9c179e\"],[0.4444444444444444,\"#bd3786\"],[0.5555555555555556,\"#d8576b\"],[0.6666666666666666,\"#ed7953\"],[0.7777777777777778,\"#fb9f3a\"],[0.8888888888888888,\"#fdca26\"],[1.0,\"#f0f921\"]]}],\"choropleth\":[{\"type\":\"choropleth\",\"colorbar\":{\"outlinewidth\":0,\"ticks\":\"\"}}],\"histogram2d\":[{\"type\":\"histogram2d\",\"colorbar\":{\"outlinewidth\":0,\"ticks\":\"\"},\"colorscale\":[[0.0,\"#0d0887\"],[0.1111111111111111,\"#46039f\"],[0.2222222222222222,\"#7201a8\"],[0.3333333333333333,\"#9c179e\"],[0.4444444444444444,\"#bd3786\"],[0.5555555555555556,\"#d8576b\"],[0.6666666666666666,\"#ed7953\"],[0.7777777777777778,\"#fb9f3a\"],[0.8888888888888888,\"#fdca26\"],[1.0,\"#f0f921\"]]}],\"heatmap\":[{\"type\":\"heatmap\",\"colorbar\":{\"outlinewidth\":0,\"ticks\":\"\"},\"colorscale\":[[0.0,\"#0d0887\"],[0.1111111111111111,\"#46039f\"],[0.2222222222222222,\"#7201a8\"],[0.3333333333333333,\"#9c179e\"],[0.4444444444444444,\"#bd3786\"],[0.5555555555555556,\"#d8576b\"],[0.6666666666666666,\"#ed7953\"],[0.7777777777777778,\"#fb9f3a\"],[0.8888888888888888,\"#fdca26\"],[1.0,\"#f0f921\"]]}],\"contourcarpet\":[{\"type\":\"contourcarpet\",\"colorbar\":{\"outlinewidth\":0,\"ticks\":\"\"}}],\"contour\":[{\"type\":\"contour\",\"colorbar\":{\"outlinewidth\":0,\"ticks\":\"\"},\"colorscale\":[[0.0,\"#0d0887\"],[0.1111111111111111,\"#46039f\"],[0.2222222222222222,\"#7201a8\"],[0.3333333333333333,\"#9c179e\"],[0.4444444444444444,\"#bd3786\"],[0.5555555555555556,\"#d8576b\"],[0.6666666666666666,\"#ed7953\"],[0.7777777777777778,\"#fb9f3a\"],[0.8888888888888888,\"#fdca26\"],[1.0,\"#f0f921\"]]}],\"surface\":[{\"type\":\"surface\",\"colorbar\":{\"outlinewidth\":0,\"ticks\":\"\"},\"colorscale\":[[0.0,\"#0d0887\"],[0.1111111111111111,\"#46039f\"],[0.2222222222222222,\"#7201a8\"],[0.3333333333333333,\"#9c179e\"],[0.4444444444444444,\"#bd3786\"],[0.5555555555555556,\"#d8576b\"],[0.6666666666666666,\"#ed7953\"],[0.7777777777777778,\"#fb9f3a\"],[0.8888888888888888,\"#fdca26\"],[1.0,\"#f0f921\"]]}],\"mesh3d\":[{\"type\":\"mesh3d\",\"colorbar\":{\"outlinewidth\":0,\"ticks\":\"\"}}],\"scatter\":[{\"fillpattern\":{\"fillmode\":\"overlay\",\"size\":10,\"solidity\":0.2},\"type\":\"scatter\"}],\"parcoords\":[{\"type\":\"parcoords\",\"line\":{\"colorbar\":{\"outlinewidth\":0,\"ticks\":\"\"}}}],\"scatterpolargl\":[{\"type\":\"scatterpolargl\",\"marker\":{\"colorbar\":{\"outlinewidth\":0,\"ticks\":\"\"}}}],\"bar\":[{\"error_x\":{\"color\":\"#2a3f5f\"},\"error_y\":{\"color\":\"#2a3f5f\"},\"marker\":{\"line\":{\"color\":\"#E5ECF6\",\"width\":0.5},\"pattern\":{\"fillmode\":\"overlay\",\"size\":10,\"solidity\":0.2}},\"type\":\"bar\"}],\"scattergeo\":[{\"type\":\"scattergeo\",\"marker\":{\"colorbar\":{\"outlinewidth\":0,\"ticks\":\"\"}}}],\"scatterpolar\":[{\"type\":\"scatterpolar\",\"marker\":{\"colorbar\":{\"outlinewidth\":0,\"ticks\":\"\"}}}],\"histogram\":[{\"marker\":{\"pattern\":{\"fillmode\":\"overlay\",\"size\":10,\"solidity\":0.2}},\"type\":\"histogram\"}],\"scattergl\":[{\"type\":\"scattergl\",\"marker\":{\"colorbar\":{\"outlinewidth\":0,\"ticks\":\"\"}}}],\"scatter3d\":[{\"type\":\"scatter3d\",\"line\":{\"colorbar\":{\"outlinewidth\":0,\"ticks\":\"\"}},\"marker\":{\"colorbar\":{\"outlinewidth\":0,\"ticks\":\"\"}}}],\"scattermap\":[{\"type\":\"scattermap\",\"marker\":{\"colorbar\":{\"outlinewidth\":0,\"ticks\":\"\"}}}],\"scattermapbox\":[{\"type\":\"scattermapbox\",\"marker\":{\"colorbar\":{\"outlinewidth\":0,\"ticks\":\"\"}}}],\"scatterternary\":[{\"type\":\"scatterternary\",\"marker\":{\"colorbar\":{\"outlinewidth\":0,\"ticks\":\"\"}}}],\"scattercarpet\":[{\"type\":\"scattercarpet\",\"marker\":{\"colorbar\":{\"outlinewidth\":0,\"ticks\":\"\"}}}],\"carpet\":[{\"aaxis\":{\"endlinecolor\":\"#2a3f5f\",\"gridcolor\":\"white\",\"linecolor\":\"white\",\"minorgridcolor\":\"white\",\"startlinecolor\":\"#2a3f5f\"},\"baxis\":{\"endlinecolor\":\"#2a3f5f\",\"gridcolor\":\"white\",\"linecolor\":\"white\",\"minorgridcolor\":\"white\",\"startlinecolor\":\"#2a3f5f\"},\"type\":\"carpet\"}],\"table\":[{\"cells\":{\"fill\":{\"color\":\"#EBF0F8\"},\"line\":{\"color\":\"white\"}},\"header\":{\"fill\":{\"color\":\"#C8D4E3\"},\"line\":{\"color\":\"white\"}},\"type\":\"table\"}],\"barpolar\":[{\"marker\":{\"line\":{\"color\":\"#E5ECF6\",\"width\":0.5},\"pattern\":{\"fillmode\":\"overlay\",\"size\":10,\"solidity\":0.2}},\"type\":\"barpolar\"}],\"pie\":[{\"automargin\":true,\"type\":\"pie\"}]},\"layout\":{\"autotypenumbers\":\"strict\",\"colorway\":[\"#636efa\",\"#EF553B\",\"#00cc96\",\"#ab63fa\",\"#FFA15A\",\"#19d3f3\",\"#FF6692\",\"#B6E880\",\"#FF97FF\",\"#FECB52\"],\"font\":{\"color\":\"#2a3f5f\"},\"hovermode\":\"closest\",\"hoverlabel\":{\"align\":\"left\"},\"paper_bgcolor\":\"white\",\"plot_bgcolor\":\"#E5ECF6\",\"polar\":{\"bgcolor\":\"#E5ECF6\",\"angularaxis\":{\"gridcolor\":\"white\",\"linecolor\":\"white\",\"ticks\":\"\"},\"radialaxis\":{\"gridcolor\":\"white\",\"linecolor\":\"white\",\"ticks\":\"\"}},\"ternary\":{\"bgcolor\":\"#E5ECF6\",\"aaxis\":{\"gridcolor\":\"white\",\"linecolor\":\"white\",\"ticks\":\"\"},\"baxis\":{\"gridcolor\":\"white\",\"linecolor\":\"white\",\"ticks\":\"\"},\"caxis\":{\"gridcolor\":\"white\",\"linecolor\":\"white\",\"ticks\":\"\"}},\"coloraxis\":{\"colorbar\":{\"outlinewidth\":0,\"ticks\":\"\"}},\"colorscale\":{\"sequential\":[[0.0,\"#0d0887\"],[0.1111111111111111,\"#46039f\"],[0.2222222222222222,\"#7201a8\"],[0.3333333333333333,\"#9c179e\"],[0.4444444444444444,\"#bd3786\"],[0.5555555555555556,\"#d8576b\"],[0.6666666666666666,\"#ed7953\"],[0.7777777777777778,\"#fb9f3a\"],[0.8888888888888888,\"#fdca26\"],[1.0,\"#f0f921\"]],\"sequentialminus\":[[0.0,\"#0d0887\"],[0.1111111111111111,\"#46039f\"],[0.2222222222222222,\"#7201a8\"],[0.3333333333333333,\"#9c179e\"],[0.4444444444444444,\"#bd3786\"],[0.5555555555555556,\"#d8576b\"],[0.6666666666666666,\"#ed7953\"],[0.7777777777777778,\"#fb9f3a\"],[0.8888888888888888,\"#fdca26\"],[1.0,\"#f0f921\"]],\"diverging\":[[0,\"#8e0152\"],[0.1,\"#c51b7d\"],[0.2,\"#de77ae\"],[0.3,\"#f1b6da\"],[0.4,\"#fde0ef\"],[0.5,\"#f7f7f7\"],[0.6,\"#e6f5d0\"],[0.7,\"#b8e186\"],[0.8,\"#7fbc41\"],[0.9,\"#4d9221\"],[1,\"#276419\"]]},\"xaxis\":{\"gridcolor\":\"white\",\"linecolor\":\"white\",\"ticks\":\"\",\"title\":{\"standoff\":15},\"zerolinecolor\":\"white\",\"automargin\":true,\"zerolinewidth\":2},\"yaxis\":{\"gridcolor\":\"white\",\"linecolor\":\"white\",\"ticks\":\"\",\"title\":{\"standoff\":15},\"zerolinecolor\":\"white\",\"automargin\":true,\"zerolinewidth\":2},\"scene\":{\"xaxis\":{\"backgroundcolor\":\"#E5ECF6\",\"gridcolor\":\"white\",\"linecolor\":\"white\",\"showbackground\":true,\"ticks\":\"\",\"zerolinecolor\":\"white\",\"gridwidth\":2},\"yaxis\":{\"backgroundcolor\":\"#E5ECF6\",\"gridcolor\":\"white\",\"linecolor\":\"white\",\"showbackground\":true,\"ticks\":\"\",\"zerolinecolor\":\"white\",\"gridwidth\":2},\"zaxis\":{\"backgroundcolor\":\"#E5ECF6\",\"gridcolor\":\"white\",\"linecolor\":\"white\",\"showbackground\":true,\"ticks\":\"\",\"zerolinecolor\":\"white\",\"gridwidth\":2}},\"shapedefaults\":{\"line\":{\"color\":\"#2a3f5f\"}},\"annotationdefaults\":{\"arrowcolor\":\"#2a3f5f\",\"arrowhead\":0,\"arrowwidth\":1},\"geo\":{\"bgcolor\":\"white\",\"landcolor\":\"#E5ECF6\",\"subunitcolor\":\"white\",\"showland\":true,\"showlakes\":true,\"lakecolor\":\"white\"},\"title\":{\"x\":0.05},\"mapbox\":{\"style\":\"light\"}}},\"geo\":{\"domain\":{\"x\":[0.0,1.0],\"y\":[0.0,1.0]},\"projection\":{\"type\":\"natural earth\"},\"center\":{}},\"legend\":{\"title\":{\"text\":\"state\"},\"tracegroupgap\":0},\"margin\":{\"t\":60},\"height\":600,\"width\":900},                        {\"responsive\": true}                    )                };            </script>        </div>"
      ],
      "text/plain": [
       "Figure({\n",
       "    'data': [{'customdata': array([['Montgomery', 'Alabama']], dtype=object),\n",
       "              'geo': 'geo',\n",
       "              'hovertemplate': ('state=%{customdata[1]}<br>lati' ... '{customdata[0]}<extra></extra>'),\n",
       "              'lat': array(['32.357'], dtype=object),\n",
       "              'legendgroup': 'Alabama',\n",
       "              'lon': array(['-86.2578'], dtype=object),\n",
       "              'marker': {'color': '#636efa', 'symbol': 'circle'},\n",
       "              'mode': 'markers',\n",
       "              'name': 'Alabama',\n",
       "              'showlegend': True,\n",
       "              'type': 'scattergeo'},\n",
       "             {'customdata': array([['Juneau', 'Alaska']], dtype=object),\n",
       "              'geo': 'geo',\n",
       "              'hovertemplate': ('state=%{customdata[1]}<br>lati' ... '{customdata[0]}<extra></extra>'),\n",
       "              'lat': array(['58.3628'], dtype=object),\n",
       "              'legendgroup': 'Alaska',\n",
       "              'lon': array(['-134.5294'], dtype=object),\n",
       "              'marker': {'color': '#EF553B', 'symbol': 'circle'},\n",
       "              'mode': 'markers',\n",
       "              'name': 'Alaska',\n",
       "              'showlegend': True,\n",
       "              'type': 'scattergeo'},\n",
       "             {'customdata': array([['Phoenix', 'Arizona']], dtype=object),\n",
       "              'geo': 'geo',\n",
       "              'hovertemplate': ('state=%{customdata[1]}<br>lati' ... '{customdata[0]}<extra></extra>'),\n",
       "              'lat': array(['33.704'], dtype=object),\n",
       "              'legendgroup': 'Arizona',\n",
       "              'lon': array(['-112.3518'], dtype=object),\n",
       "              'marker': {'color': '#00cc96', 'symbol': 'circle'},\n",
       "              'mode': 'markers',\n",
       "              'name': 'Arizona',\n",
       "              'showlegend': True,\n",
       "              'type': 'scattergeo'},\n",
       "             {'customdata': array([['Little Rock Air Force Base', 'Arkansas']], dtype=object),\n",
       "              'geo': 'geo',\n",
       "              'hovertemplate': ('state=%{customdata[1]}<br>lati' ... '{customdata[0]}<extra></extra>'),\n",
       "              'lat': array(['34.9074'], dtype=object),\n",
       "              'legendgroup': 'Arkansas',\n",
       "              'lon': array(['-92.1397'], dtype=object),\n",
       "              'marker': {'color': '#ab63fa', 'symbol': 'circle'},\n",
       "              'mode': 'markers',\n",
       "              'name': 'Arkansas',\n",
       "              'showlegend': True,\n",
       "              'type': 'scattergeo'},\n",
       "             {'customdata': array([['Sacramento', 'California']], dtype=object),\n",
       "              'geo': 'geo',\n",
       "              'hovertemplate': ('state=%{customdata[1]}<br>lati' ... '{customdata[0]}<extra></extra>'),\n",
       "              'lat': array(['38.3805'], dtype=object),\n",
       "              'legendgroup': 'California',\n",
       "              'lon': array(['-121.5554'], dtype=object),\n",
       "              'marker': {'color': '#FFA15A', 'symbol': 'circle'},\n",
       "              'mode': 'markers',\n",
       "              'name': 'California',\n",
       "              'showlegend': True,\n",
       "              'type': 'scattergeo'},\n",
       "             {'customdata': array([['Denver', 'Colorado']], dtype=object),\n",
       "              'geo': 'geo',\n",
       "              'hovertemplate': ('state=%{customdata[1]}<br>lati' ... '{customdata[0]}<extra></extra>'),\n",
       "              'lat': array(['39.7263'], dtype=object),\n",
       "              'legendgroup': 'Colorado',\n",
       "              'lon': array(['-104.8568'], dtype=object),\n",
       "              'marker': {'color': '#19d3f3', 'symbol': 'circle'},\n",
       "              'mode': 'markers',\n",
       "              'name': 'Colorado',\n",
       "              'showlegend': True,\n",
       "              'type': 'scattergeo'},\n",
       "             {'customdata': array([['New Hartford', 'Connecticut']], dtype=object),\n",
       "              'geo': 'geo',\n",
       "              'hovertemplate': ('state=%{customdata[1]}<br>lati' ... '{customdata[0]}<extra></extra>'),\n",
       "              'lat': array(['41.8468'], dtype=object),\n",
       "              'legendgroup': 'Connecticut',\n",
       "              'lon': array(['-73.0104'], dtype=object),\n",
       "              'marker': {'color': '#FF6692', 'symbol': 'circle'},\n",
       "              'mode': 'markers',\n",
       "              'name': 'Connecticut',\n",
       "              'showlegend': True,\n",
       "              'type': 'scattergeo'},\n",
       "             {'customdata': array([['Dover', 'Delaware']], dtype=object),\n",
       "              'geo': 'geo',\n",
       "              'hovertemplate': ('state=%{customdata[1]}<br>lati' ... '{customdata[0]}<extra></extra>'),\n",
       "              'lat': array(['39.1564'], dtype=object),\n",
       "              'legendgroup': 'Delaware',\n",
       "              'lon': array(['-75.4955'], dtype=object),\n",
       "              'marker': {'color': '#B6E880', 'symbol': 'circle'},\n",
       "              'mode': 'markers',\n",
       "              'name': 'Delaware',\n",
       "              'showlegend': True,\n",
       "              'type': 'scattergeo'},\n",
       "             {'customdata': array([['Tallahassee', 'Florida']], dtype=object),\n",
       "              'geo': 'geo',\n",
       "              'hovertemplate': ('state=%{customdata[1]}<br>lati' ... '{customdata[0]}<extra></extra>'),\n",
       "              'lat': array(['30.4286'], dtype=object),\n",
       "              'legendgroup': 'Florida',\n",
       "              'lon': array(['-84.2593'], dtype=object),\n",
       "              'marker': {'color': '#FF97FF', 'symbol': 'circle'},\n",
       "              'mode': 'markers',\n",
       "              'name': 'Florida',\n",
       "              'showlegend': True,\n",
       "              'type': 'scattergeo'},\n",
       "             {'customdata': array([['Atlanta', 'Georgia']], dtype=object),\n",
       "              'geo': 'geo',\n",
       "              'hovertemplate': ('state=%{customdata[1]}<br>lati' ... '{customdata[0]}<extra></extra>'),\n",
       "              'lat': array(['33.8444'], dtype=object),\n",
       "              'legendgroup': 'Georgia',\n",
       "              'lon': array(['-84.474'], dtype=object),\n",
       "              'marker': {'color': '#FECB52', 'symbol': 'circle'},\n",
       "              'mode': 'markers',\n",
       "              'name': 'Georgia',\n",
       "              'showlegend': True,\n",
       "              'type': 'scattergeo'},\n",
       "             {'customdata': array([['Honolulu', 'Hawaii']], dtype=object),\n",
       "              'geo': 'geo',\n",
       "              'hovertemplate': ('state=%{customdata[1]}<br>lati' ... '{customdata[0]}<extra></extra>'),\n",
       "              'lat': array(['24.8598'], dtype=object),\n",
       "              'legendgroup': 'Hawaii',\n",
       "              'lon': array(['-168.0218'], dtype=object),\n",
       "              'marker': {'color': '#636efa', 'symbol': 'circle'},\n",
       "              'mode': 'markers',\n",
       "              'name': 'Hawaii',\n",
       "              'showlegend': True,\n",
       "              'type': 'scattergeo'},\n",
       "             {'customdata': array([['Boise', 'Idaho']], dtype=object),\n",
       "              'geo': 'geo',\n",
       "              'hovertemplate': ('state=%{customdata[1]}<br>lati' ... '{customdata[0]}<extra></extra>'),\n",
       "              'lat': array(['43.6038'], dtype=object),\n",
       "              'legendgroup': 'Idaho',\n",
       "              'lon': array(['-116.2729'], dtype=object),\n",
       "              'marker': {'color': '#EF553B', 'symbol': 'circle'},\n",
       "              'mode': 'markers',\n",
       "              'name': 'Idaho',\n",
       "              'showlegend': True,\n",
       "              'type': 'scattergeo'},\n",
       "             {'customdata': array([['Springfield', 'Illinois']], dtype=object),\n",
       "              'geo': 'geo',\n",
       "              'hovertemplate': ('state=%{customdata[1]}<br>lati' ... '{customdata[0]}<extra></extra>'),\n",
       "              'lat': array(['39.8'], dtype=object),\n",
       "              'legendgroup': 'Illinois',\n",
       "              'lon': array(['-89.6495'], dtype=object),\n",
       "              'marker': {'color': '#00cc96', 'symbol': 'circle'},\n",
       "              'mode': 'markers',\n",
       "              'name': 'Illinois',\n",
       "              'showlegend': True,\n",
       "              'type': 'scattergeo'},\n",
       "             {'customdata': array([['Indianapolis', 'Indiana']], dtype=object),\n",
       "              'geo': 'geo',\n",
       "              'hovertemplate': ('state=%{customdata[1]}<br>lati' ... '{customdata[0]}<extra></extra>'),\n",
       "              'lat': array(['39.775'], dtype=object),\n",
       "              'legendgroup': 'Indiana',\n",
       "              'lon': array(['-86.1093'], dtype=object),\n",
       "              'marker': {'color': '#ab63fa', 'symbol': 'circle'},\n",
       "              'mode': 'markers',\n",
       "              'name': 'Indiana',\n",
       "              'showlegend': True,\n",
       "              'type': 'scattergeo'},\n",
       "             {'customdata': array([['West Des Moines', 'Iowa']], dtype=object),\n",
       "              'geo': 'geo',\n",
       "              'hovertemplate': ('state=%{customdata[1]}<br>lati' ... '{customdata[0]}<extra></extra>'),\n",
       "              'lat': array(['41.5805'], dtype=object),\n",
       "              'legendgroup': 'Iowa',\n",
       "              'lon': array(['-93.7447'], dtype=object),\n",
       "              'marker': {'color': '#FFA15A', 'symbol': 'circle'},\n",
       "              'mode': 'markers',\n",
       "              'name': 'Iowa',\n",
       "              'showlegend': True,\n",
       "              'type': 'scattergeo'},\n",
       "             {'customdata': array([['Topeka', 'Kansas']], dtype=object),\n",
       "              'geo': 'geo',\n",
       "              'hovertemplate': ('state=%{customdata[1]}<br>lati' ... '{customdata[0]}<extra></extra>'),\n",
       "              'lat': array(['38.9881'], dtype=object),\n",
       "              'legendgroup': 'Kansas',\n",
       "              'lon': array(['-95.7807'], dtype=object),\n",
       "              'marker': {'color': '#19d3f3', 'symbol': 'circle'},\n",
       "              'mode': 'markers',\n",
       "              'name': 'Kansas',\n",
       "              'showlegend': True,\n",
       "              'type': 'scattergeo'},\n",
       "             {'customdata': array([['Frankfort', 'Kentucky']], dtype=object),\n",
       "              'geo': 'geo',\n",
       "              'hovertemplate': ('state=%{customdata[1]}<br>lati' ... '{customdata[0]}<extra></extra>'),\n",
       "              'lat': array(['38.2281'], dtype=object),\n",
       "              'legendgroup': 'Kentucky',\n",
       "              'lon': array(['-84.8697'], dtype=object),\n",
       "              'marker': {'color': '#FF6692', 'symbol': 'circle'},\n",
       "              'mode': 'markers',\n",
       "              'name': 'Kentucky',\n",
       "              'showlegend': True,\n",
       "              'type': 'scattergeo'},\n",
       "             {'customdata': array([['Baton Rouge', 'Louisiana']], dtype=object),\n",
       "              'geo': 'geo',\n",
       "              'hovertemplate': ('state=%{customdata[1]}<br>lati' ... '{customdata[0]}<extra></extra>'),\n",
       "              'lat': array(['30.4492'], dtype=object),\n",
       "              'legendgroup': 'Louisiana',\n",
       "              'lon': array(['-91.1856'], dtype=object),\n",
       "              'marker': {'color': '#B6E880', 'symbol': 'circle'},\n",
       "              'mode': 'markers',\n",
       "              'name': 'Louisiana',\n",
       "              'showlegend': True,\n",
       "              'type': 'scattergeo'},\n",
       "             {'customdata': array([['Augusta', 'Maine']], dtype=object),\n",
       "              'geo': 'geo',\n",
       "              'hovertemplate': ('state=%{customdata[1]}<br>lati' ... '{customdata[0]}<extra></extra>'),\n",
       "              'lat': array(['44.3232'], dtype=object),\n",
       "              'legendgroup': 'Maine',\n",
       "              'lon': array(['-69.7665'], dtype=object),\n",
       "              'marker': {'color': '#FF97FF', 'symbol': 'circle'},\n",
       "              'mode': 'markers',\n",
       "              'name': 'Maine',\n",
       "              'showlegend': True,\n",
       "              'type': 'scattergeo'},\n",
       "             {'customdata': array([['Annapolis Junction', 'Maryland']], dtype=object),\n",
       "              'geo': 'geo',\n",
       "              'hovertemplate': ('state=%{customdata[1]}<br>lati' ... '{customdata[0]}<extra></extra>'),\n",
       "              'lat': array(['39.1332'], dtype=object),\n",
       "              'legendgroup': 'Maryland',\n",
       "              'lon': array(['-76.7988'], dtype=object),\n",
       "              'marker': {'color': '#FECB52', 'symbol': 'circle'},\n",
       "              'mode': 'markers',\n",
       "              'name': 'Maryland',\n",
       "              'showlegend': True,\n",
       "              'type': 'scattergeo'},\n",
       "             {'customdata': array([['Boston', 'Massachusetts']], dtype=object),\n",
       "              'geo': 'geo',\n",
       "              'hovertemplate': ('state=%{customdata[1]}<br>lati' ... '{customdata[0]}<extra></extra>'),\n",
       "              'lat': array(['42.3706'], dtype=object),\n",
       "              'legendgroup': 'Massachusetts',\n",
       "              'lon': array(['-71.027'], dtype=object),\n",
       "              'marker': {'color': '#636efa', 'symbol': 'circle'},\n",
       "              'mode': 'markers',\n",
       "              'name': 'Massachusetts',\n",
       "              'showlegend': True,\n",
       "              'type': 'scattergeo'},\n",
       "             {'customdata': array([['East Lansing', 'Michigan']], dtype=object),\n",
       "              'geo': 'geo',\n",
       "              'hovertemplate': ('state=%{customdata[1]}<br>lati' ... '{customdata[0]}<extra></extra>'),\n",
       "              'lat': array(['42.7388'], dtype=object),\n",
       "              'legendgroup': 'Michigan',\n",
       "              'lon': array(['-84.4764'], dtype=object),\n",
       "              'marker': {'color': '#EF553B', 'symbol': 'circle'},\n",
       "              'mode': 'markers',\n",
       "              'name': 'Michigan',\n",
       "              'showlegend': True,\n",
       "              'type': 'scattergeo'},\n",
       "             {'customdata': array([['Saint Paul Park', 'Minnesota']], dtype=object),\n",
       "              'geo': 'geo',\n",
       "              'hovertemplate': ('state=%{customdata[1]}<br>lati' ... '{customdata[0]}<extra></extra>'),\n",
       "              'lat': array(['44.8344'], dtype=object),\n",
       "              'legendgroup': 'Minnesota',\n",
       "              'lon': array(['-92.9873'], dtype=object),\n",
       "              'marker': {'color': '#00cc96', 'symbol': 'circle'},\n",
       "              'mode': 'markers',\n",
       "              'name': 'Minnesota',\n",
       "              'showlegend': True,\n",
       "              'type': 'scattergeo'},\n",
       "             {'customdata': array([['Jackson', 'Mississippi']], dtype=object),\n",
       "              'geo': 'geo',\n",
       "              'hovertemplate': ('state=%{customdata[1]}<br>lati' ... '{customdata[0]}<extra></extra>'),\n",
       "              'lat': array(['32.3205'], dtype=object),\n",
       "              'legendgroup': 'Mississippi',\n",
       "              'lon': array(['-90.2076'], dtype=object),\n",
       "              'marker': {'color': '#ab63fa', 'symbol': 'circle'},\n",
       "              'mode': 'markers',\n",
       "              'name': 'Mississippi',\n",
       "              'showlegend': True,\n",
       "              'type': 'scattergeo'},\n",
       "             {'customdata': array([['Jefferson City', 'Missouri']], dtype=object),\n",
       "              'geo': 'geo',\n",
       "              'hovertemplate': ('state=%{customdata[1]}<br>lati' ... '{customdata[0]}<extra></extra>'),\n",
       "              'lat': array(['38.5462'], dtype=object),\n",
       "              'legendgroup': 'Missouri',\n",
       "              'lon': array(['-92.1525'], dtype=object),\n",
       "              'marker': {'color': '#FFA15A', 'symbol': 'circle'},\n",
       "              'mode': 'markers',\n",
       "              'name': 'Missouri',\n",
       "              'showlegend': True,\n",
       "              'type': 'scattergeo'},\n",
       "             {'customdata': array([['Helena', 'Montana']], dtype=object),\n",
       "              'geo': 'geo',\n",
       "              'hovertemplate': ('state=%{customdata[1]}<br>lati' ... '{customdata[0]}<extra></extra>'),\n",
       "              'lat': array(['46.6131'], dtype=object),\n",
       "              'legendgroup': 'Montana',\n",
       "              'lon': array(['-112.0213'], dtype=object),\n",
       "              'marker': {'color': '#19d3f3', 'symbol': 'circle'},\n",
       "              'mode': 'markers',\n",
       "              'name': 'Montana',\n",
       "              'showlegend': True,\n",
       "              'type': 'scattergeo'},\n",
       "             {'customdata': array([['Lincoln', 'Nebraska']], dtype=object),\n",
       "              'geo': 'geo',\n",
       "              'hovertemplate': ('state=%{customdata[1]}<br>lati' ... '{customdata[0]}<extra></extra>'),\n",
       "              'lat': array(['40.8651'], dtype=object),\n",
       "              'legendgroup': 'Nebraska',\n",
       "              'lon': array(['-96.8231'], dtype=object),\n",
       "              'marker': {'color': '#FF6692', 'symbol': 'circle'},\n",
       "              'mode': 'markers',\n",
       "              'name': 'Nebraska',\n",
       "              'showlegend': True,\n",
       "              'type': 'scattergeo'},\n",
       "             {'customdata': array([['Carson City', 'Nevada']], dtype=object),\n",
       "              'geo': 'geo',\n",
       "              'hovertemplate': ('state=%{customdata[1]}<br>lati' ... '{customdata[0]}<extra></extra>'),\n",
       "              'lat': array(['39.1507'], dtype=object),\n",
       "              'legendgroup': 'Nevada',\n",
       "              'lon': array(['-119.7459'], dtype=object),\n",
       "              'marker': {'color': '#B6E880', 'symbol': 'circle'},\n",
       "              'mode': 'markers',\n",
       "              'name': 'Nevada',\n",
       "              'showlegend': True,\n",
       "              'type': 'scattergeo'},\n",
       "             {'customdata': array([['Concord', 'New Hampshire']], dtype=object),\n",
       "              'geo': 'geo',\n",
       "              'hovertemplate': ('state=%{customdata[1]}<br>lati' ... '{customdata[0]}<extra></extra>'),\n",
       "              'lat': array(['43.2185'], dtype=object),\n",
       "              'legendgroup': 'New Hampshire',\n",
       "              'lon': array(['-71.5277'], dtype=object),\n",
       "              'marker': {'color': '#FF97FF', 'symbol': 'circle'},\n",
       "              'mode': 'markers',\n",
       "              'name': 'New Hampshire',\n",
       "              'showlegend': True,\n",
       "              'type': 'scattergeo'},\n",
       "             {'customdata': array([['Trenton', 'New Jersey']], dtype=object),\n",
       "              'geo': 'geo',\n",
       "              'hovertemplate': ('state=%{customdata[1]}<br>lati' ... '{customdata[0]}<extra></extra>'),\n",
       "              'lat': array(['40.2805'], dtype=object),\n",
       "              'legendgroup': 'New Jersey',\n",
       "              'lon': array(['-74.712'], dtype=object),\n",
       "              'marker': {'color': '#FECB52', 'symbol': 'circle'},\n",
       "              'mode': 'markers',\n",
       "              'name': 'New Jersey',\n",
       "              'showlegend': True,\n",
       "              'type': 'scattergeo'},\n",
       "             {'customdata': array([['Santa Fe', 'New Mexico']], dtype=object),\n",
       "              'geo': 'geo',\n",
       "              'hovertemplate': ('state=%{customdata[1]}<br>lati' ... '{customdata[0]}<extra></extra>'),\n",
       "              'lat': array(['35.6975'], dtype=object),\n",
       "              'legendgroup': 'New Mexico',\n",
       "              'lon': array(['-105.9821'], dtype=object),\n",
       "              'marker': {'color': '#636efa', 'symbol': 'circle'},\n",
       "              'mode': 'markers',\n",
       "              'name': 'New Mexico',\n",
       "              'showlegend': True,\n",
       "              'type': 'scattergeo'},\n",
       "             {'customdata': array([['Albany', 'New York']], dtype=object),\n",
       "              'geo': 'geo',\n",
       "              'hovertemplate': ('state=%{customdata[1]}<br>lati' ... '{customdata[0]}<extra></extra>'),\n",
       "              'lat': array(['42.6149'], dtype=object),\n",
       "              'legendgroup': 'New York',\n",
       "              'lon': array(['-73.9708'], dtype=object),\n",
       "              'marker': {'color': '#EF553B', 'symbol': 'circle'},\n",
       "              'mode': 'markers',\n",
       "              'name': 'New York',\n",
       "              'showlegend': True,\n",
       "              'type': 'scattergeo'},\n",
       "             {'customdata': array([['Raleigh', 'North Carolina']], dtype=object),\n",
       "              'geo': 'geo',\n",
       "              'hovertemplate': ('state=%{customdata[1]}<br>lati' ... '{customdata[0]}<extra></extra>'),\n",
       "              'lat': array(['35.7727'], dtype=object),\n",
       "              'legendgroup': 'North Carolina',\n",
       "              'lon': array(['-78.6324'], dtype=object),\n",
       "              'marker': {'color': '#00cc96', 'symbol': 'circle'},\n",
       "              'mode': 'markers',\n",
       "              'name': 'North Carolina',\n",
       "              'showlegend': True,\n",
       "              'type': 'scattergeo'},\n",
       "             {'customdata': array([['Bismarck', 'North Dakota']], dtype=object),\n",
       "              'geo': 'geo',\n",
       "              'hovertemplate': ('state=%{customdata[1]}<br>lati' ... '{customdata[0]}<extra></extra>'),\n",
       "              'lat': array(['46.8234'], dtype=object),\n",
       "              'legendgroup': 'North Dakota',\n",
       "              'lon': array(['-100.7748'], dtype=object),\n",
       "              'marker': {'color': '#ab63fa', 'symbol': 'circle'},\n",
       "              'mode': 'markers',\n",
       "              'name': 'North Dakota',\n",
       "              'showlegend': True,\n",
       "              'type': 'scattergeo'},\n",
       "             {'customdata': array([['Columbus', 'Ohio']], dtype=object),\n",
       "              'geo': 'geo',\n",
       "              'hovertemplate': ('state=%{customdata[1]}<br>lati' ... '{customdata[0]}<extra></extra>'),\n",
       "              'lat': array(['40.0999'], dtype=object),\n",
       "              'legendgroup': 'Ohio',\n",
       "              'lon': array(['-83.0157'], dtype=object),\n",
       "              'marker': {'color': '#FFA15A', 'symbol': 'circle'},\n",
       "              'mode': 'markers',\n",
       "              'name': 'Ohio',\n",
       "              'showlegend': True,\n",
       "              'type': 'scattergeo'},\n",
       "             {'customdata': array([['Oklahoma City', 'Oklahoma']], dtype=object),\n",
       "              'geo': 'geo',\n",
       "              'hovertemplate': ('state=%{customdata[1]}<br>lati' ... '{customdata[0]}<extra></extra>'),\n",
       "              'lat': array(['35.3513'], dtype=object),\n",
       "              'legendgroup': 'Oklahoma',\n",
       "              'lon': array(['-97.4953'], dtype=object),\n",
       "              'marker': {'color': '#19d3f3', 'symbol': 'circle'},\n",
       "              'mode': 'markers',\n",
       "              'name': 'Oklahoma',\n",
       "              'showlegend': True,\n",
       "              'type': 'scattergeo'},\n",
       "             {'customdata': array([['Salem', 'Oregon']], dtype=object),\n",
       "              'geo': 'geo',\n",
       "              'hovertemplate': ('state=%{customdata[1]}<br>lati' ... '{customdata[0]}<extra></extra>'),\n",
       "              'lat': array(['44.949'], dtype=object),\n",
       "              'legendgroup': 'Oregon',\n",
       "              'lon': array(['-123.004'], dtype=object),\n",
       "              'marker': {'color': '#FF6692', 'symbol': 'circle'},\n",
       "              'mode': 'markers',\n",
       "              'name': 'Oregon',\n",
       "              'showlegend': True,\n",
       "              'type': 'scattergeo'},\n",
       "             {'customdata': array([['Harrisburg', 'Pennsylvania']], dtype=object),\n",
       "              'geo': 'geo',\n",
       "              'hovertemplate': ('state=%{customdata[1]}<br>lati' ... '{customdata[0]}<extra></extra>'),\n",
       "              'lat': array(['40.2618'], dtype=object),\n",
       "              'legendgroup': 'Pennsylvania',\n",
       "              'lon': array(['-76.8831'], dtype=object),\n",
       "              'marker': {'color': '#B6E880', 'symbol': 'circle'},\n",
       "              'mode': 'markers',\n",
       "              'name': 'Pennsylvania',\n",
       "              'showlegend': True,\n",
       "              'type': 'scattergeo'},\n",
       "             {'customdata': array([['Providence', 'Rhode Island']], dtype=object),\n",
       "              'geo': 'geo',\n",
       "              'hovertemplate': ('state=%{customdata[1]}<br>lati' ... '{customdata[0]}<extra></extra>'),\n",
       "              'lat': array(['41.8228'], dtype=object),\n",
       "              'legendgroup': 'Rhode Island',\n",
       "              'lon': array(['-71.4145'], dtype=object),\n",
       "              'marker': {'color': '#FF97FF', 'symbol': 'circle'},\n",
       "              'mode': 'markers',\n",
       "              'name': 'Rhode Island',\n",
       "              'showlegend': True,\n",
       "              'type': 'scattergeo'},\n",
       "             {'customdata': array([['West Columbia', 'South Carolina']], dtype=object),\n",
       "              'geo': 'geo',\n",
       "              'hovertemplate': ('state=%{customdata[1]}<br>lati' ... '{customdata[0]}<extra></extra>'),\n",
       "              'lat': array(['33.995'], dtype=object),\n",
       "              'legendgroup': 'South Carolina',\n",
       "              'lon': array(['-81.0888'], dtype=object),\n",
       "              'marker': {'color': '#FECB52', 'symbol': 'circle'},\n",
       "              'mode': 'markers',\n",
       "              'name': 'South Carolina',\n",
       "              'showlegend': True,\n",
       "              'type': 'scattergeo'},\n",
       "             {'customdata': array([['Pierre', 'South Dakota']], dtype=object),\n",
       "              'geo': 'geo',\n",
       "              'hovertemplate': ('state=%{customdata[1]}<br>lati' ... '{customdata[0]}<extra></extra>'),\n",
       "              'lat': array(['44.3695'], dtype=object),\n",
       "              'legendgroup': 'South Dakota',\n",
       "              'lon': array(['-100.3211'], dtype=object),\n",
       "              'marker': {'color': '#636efa', 'symbol': 'circle'},\n",
       "              'mode': 'markers',\n",
       "              'name': 'South Dakota',\n",
       "              'showlegend': True,\n",
       "              'type': 'scattergeo'},\n",
       "             {'customdata': array([['Nashville', 'Tennessee']], dtype=object),\n",
       "              'geo': 'geo',\n",
       "              'hovertemplate': ('state=%{customdata[1]}<br>lati' ... '{customdata[0]}<extra></extra>'),\n",
       "              'lat': array(['36.1657'], dtype=object),\n",
       "              'legendgroup': 'Tennessee',\n",
       "              'lon': array(['-86.7781'], dtype=object),\n",
       "              'marker': {'color': '#EF553B', 'symbol': 'circle'},\n",
       "              'mode': 'markers',\n",
       "              'name': 'Tennessee',\n",
       "              'showlegend': True,\n",
       "              'type': 'scattergeo'},\n",
       "             {'customdata': array([['Austin', 'Texas']], dtype=object),\n",
       "              'geo': 'geo',\n",
       "              'hovertemplate': ('state=%{customdata[1]}<br>lati' ... '{customdata[0]}<extra></extra>'),\n",
       "              'lat': array(['30.3264'], dtype=object),\n",
       "              'legendgroup': 'Texas',\n",
       "              'lon': array(['-97.7713'], dtype=object),\n",
       "              'marker': {'color': '#00cc96', 'symbol': 'circle'},\n",
       "              'mode': 'markers',\n",
       "              'name': 'Texas',\n",
       "              'showlegend': True,\n",
       "              'type': 'scattergeo'},\n",
       "             {'customdata': array([['Salt Lake City', 'Utah']], dtype=object),\n",
       "              'geo': 'geo',\n",
       "              'hovertemplate': ('state=%{customdata[1]}<br>lati' ... '{customdata[0]}<extra></extra>'),\n",
       "              'lat': array(['40.7559'], dtype=object),\n",
       "              'legendgroup': 'Utah',\n",
       "              'lon': array(['-111.8967'], dtype=object),\n",
       "              'marker': {'color': '#ab63fa', 'symbol': 'circle'},\n",
       "              'mode': 'markers',\n",
       "              'name': 'Utah',\n",
       "              'showlegend': True,\n",
       "              'type': 'scattergeo'},\n",
       "             {'customdata': array([['Montpelier', 'Vermont']], dtype=object),\n",
       "              'geo': 'geo',\n",
       "              'hovertemplate': ('state=%{customdata[1]}<br>lati' ... '{customdata[0]}<extra></extra>'),\n",
       "              'lat': array(['44.1991'], dtype=object),\n",
       "              'legendgroup': 'Vermont',\n",
       "              'lon': array(['-72.5596'], dtype=object),\n",
       "              'marker': {'color': '#FFA15A', 'symbol': 'circle'},\n",
       "              'mode': 'markers',\n",
       "              'name': 'Vermont',\n",
       "              'showlegend': True,\n",
       "              'type': 'scattergeo'},\n",
       "             {'customdata': array([['University Of Richmond', 'Virginia']], dtype=object),\n",
       "              'geo': 'geo',\n",
       "              'hovertemplate': ('state=%{customdata[1]}<br>lati' ... '{customdata[0]}<extra></extra>'),\n",
       "              'lat': array(['37.5242'], dtype=object),\n",
       "              'legendgroup': 'Virginia',\n",
       "              'lon': array(['-77.4932'], dtype=object),\n",
       "              'marker': {'color': '#19d3f3', 'symbol': 'circle'},\n",
       "              'mode': 'markers',\n",
       "              'name': 'Virginia',\n",
       "              'showlegend': True,\n",
       "              'type': 'scattergeo'},\n",
       "             {'customdata': array([['Olympia', 'Washington']], dtype=object),\n",
       "              'geo': 'geo',\n",
       "              'hovertemplate': ('state=%{customdata[1]}<br>lati' ... '{customdata[0]}<extra></extra>'),\n",
       "              'lat': array(['47.0129'], dtype=object),\n",
       "              'legendgroup': 'Washington',\n",
       "              'lon': array(['-122.8763'], dtype=object),\n",
       "              'marker': {'color': '#FF6692', 'symbol': 'circle'},\n",
       "              'mode': 'markers',\n",
       "              'name': 'Washington',\n",
       "              'showlegend': True,\n",
       "              'type': 'scattergeo'},\n",
       "             {'customdata': array([['Charleston', 'West Virginia']], dtype=object),\n",
       "              'geo': 'geo',\n",
       "              'hovertemplate': ('state=%{customdata[1]}<br>lati' ... '{customdata[0]}<extra></extra>'),\n",
       "              'lat': array(['38.349'], dtype=object),\n",
       "              'legendgroup': 'West Virginia',\n",
       "              'lon': array(['-81.6306'], dtype=object),\n",
       "              'marker': {'color': '#B6E880', 'symbol': 'circle'},\n",
       "              'mode': 'markers',\n",
       "              'name': 'West Virginia',\n",
       "              'showlegend': True,\n",
       "              'type': 'scattergeo'},\n",
       "             {'customdata': array([['Madison', 'Wisconsin']], dtype=object),\n",
       "              'geo': 'geo',\n",
       "              'hovertemplate': ('state=%{customdata[1]}<br>lati' ... '{customdata[0]}<extra></extra>'),\n",
       "              'lat': array(['43.0696'], dtype=object),\n",
       "              'legendgroup': 'Wisconsin',\n",
       "              'lon': array(['-89.4239'], dtype=object),\n",
       "              'marker': {'color': '#FF97FF', 'symbol': 'circle'},\n",
       "              'mode': 'markers',\n",
       "              'name': 'Wisconsin',\n",
       "              'showlegend': True,\n",
       "              'type': 'scattergeo'},\n",
       "             {'customdata': array([['Cheyenne', 'Wyoming']], dtype=object),\n",
       "              'geo': 'geo',\n",
       "              'hovertemplate': ('state=%{customdata[1]}<br>lati' ... '{customdata[0]}<extra></extra>'),\n",
       "              'lat': array(['41.1437'], dtype=object),\n",
       "              'legendgroup': 'Wyoming',\n",
       "              'lon': array(['-104.7962'], dtype=object),\n",
       "              'marker': {'color': '#FECB52', 'symbol': 'circle'},\n",
       "              'mode': 'markers',\n",
       "              'name': 'Wyoming',\n",
       "              'showlegend': True,\n",
       "              'type': 'scattergeo'}],\n",
       "    'layout': {'geo': {'center': {},\n",
       "                       'domain': {'x': [0.0, 1.0], 'y': [0.0, 1.0]},\n",
       "                       'projection': {'type': 'natural earth'}},\n",
       "               'height': 600,\n",
       "               'legend': {'title': {'text': 'state'}, 'tracegroupgap': 0},\n",
       "               'margin': {'t': 60},\n",
       "               'template': '...',\n",
       "               'width': 900}\n",
       "})"
      ]
     },
     "execution_count": 112,
     "metadata": {},
     "output_type": "execute_result"
    }
   ],
   "source": [
    "#si-exercise\n",
    "\n",
    "import pandas as pd\n",
    "import json\n",
    "# import plotly.express as px\n",
    "import requests\n",
    "\n",
    "\n",
    "# requests.get(\"https://api.zippopotam.us\")\n",
    "\n",
    "capitals = pd.DataFrame([[\"Alabama\",\"Montgomery\",\"AL\"],\n",
    "[\"Alaska\",\"Juneau\",\"AK\"],\n",
    "[\"Arizona\",\"Phoenix\",\"AZ\"],\n",
    "[\"Arkansas\",\"Little Rock\",\"AR\"],\n",
    "[\"California\",\"Sacramento\",\"CA\"],\n",
    "[\"Colorado\",\"Denver\",\"CO\"],\n",
    "[\"Connecticut\",\"Hartford\",\"CT\"],\n",
    "[\"Delaware\",\"Dover\",\"DE\"],\n",
    "[\"Florida\",\"Tallahassee\",\"FL\"],\n",
    "[\"Georgia\",\"Atlanta\",\"GA\"],\n",
    "[\"Hawaii\",\"Honolulu\",\"HI\"],\n",
    "[\"Idaho\",\"Boise\",\"ID\"],\n",
    "[\"Illinois\",\"Springfield\",\"IL\"],\n",
    "[\"Indiana\",\"Indianapolis\",\"IN\"],\n",
    "[\"Iowa\",\"Des Moines\",\"IA\"],\n",
    "[\"Kansas\",\"Topeka\",\"KS\"],\n",
    "[\"Kentucky\",\"Frankfort\",\"KY\"],\n",
    "[\"Louisiana\",\"Baton Rouge\",\"LA\"],\n",
    "[\"Maine\",\"Augusta\",\"ME\"],\n",
    "[\"Maryland\",\"Annapolis\",\"MD\"],\n",
    "[\"Massachusetts\",\"Boston\",\"MA\"],\n",
    "[\"Michigan\",\"Lansing\",\"MI\"],\n",
    "[\"Minnesota\",\"Saint Paul\",\"MN\"],\n",
    "[\"Mississippi\",\"Jackson\",\"MS\"],\n",
    "[\"Missouri\",\"Jefferson City\",\"MO\"],\n",
    "[\"Montana\",\"Helena\",\"MT\"],\n",
    "[\"Nebraska\",\"Lincoln\",\"NE\"],\n",
    "[\"Nevada\",\"Carson City\",\"NV\"],\n",
    "[\"New Hampshire\",\"Concord\",\"NH\"],\n",
    "[\"New Jersey\",\"Trenton\",\"NJ\"],\n",
    "[\"New Mexico\",\"Santa Fe\",\"NM\"],\n",
    "[\"New York\",\"Albany\",\"NY\"],\n",
    "[\"North Carolina\",\"Raleigh\",\"NC\"],\n",
    "[\"North Dakota\",\"Bismarck\",\"ND\"],\n",
    "[\"Ohio\",\"Columbus\",\"OH\"],\n",
    "[\"Oklahoma\",\"Oklahoma City\",\"OK\"],\n",
    "[\"Oregon\",\"Salem\",\"OR\"],\n",
    "[\"Pennsylvania\",\"Harrisburg\",\"PA\"],\n",
    "[\"Rhode Island\",\"Providence\",\"RI\"],\n",
    "[\"South Carolina\",\"Columbia\",\"SC\"],\n",
    "[\"South Dakota\",\"Pierre\",\"SD\"],\n",
    "[\"Tennessee\",\"Nashville\",\"TN\"],\n",
    "[\"Texas\",\"Austin\",\"TX\"],\n",
    "[\"Utah\",\"Salt Lake City\",\"UT\"],\n",
    "[\"Vermont\",\"Montpelier\",\"VT\"],\n",
    "[\"Virginia\",\"Richmond\",\"VA\"],\n",
    "[\"Washington\",\"Olympia\",\"WA\"],\n",
    "[\"West Virginia\",\"Charleston\",\"WV\"],\n",
    "[\"Wisconsin\",\"Madison\",\"WI\"],\n",
    "[\"Wyoming\",\"Cheyenne\",\"WY\"]], columns = ['state', 'capital', 'abbrev'])\n",
    "\n",
    "###\n",
    "### PUT YOUR CODE HERE. FEEL FREE TO USE THE PLOTTING COMMAND BELOW TO COMPLETE THE ASSIGNMENT\n",
    "###\n",
    "\n",
    "\n",
    "capitals2 = []\n",
    "for index, row in capitals.iterrows():\n",
    "    call = \"https://api.zippopotam.us/us/{0}/{1}\".format(row[\"abbrev\"].lower(),row[\"capital\"].lower())\n",
    "    capitals2.append(requests.get(call).text)\n",
    "\n",
    "\n",
    "capitals2 = [json.loads(i) for i in capitals2]\n",
    "\n",
    "data = []\n",
    "for i in capitals2:\n",
    "    temp = pd.DataFrame(i['places']).head(1)\n",
    "    temp['state'] = i['state']\n",
    "    temp['capital'] = i['place name']\n",
    "    temp['abbrev'] = i['state abbreviation']\n",
    "    data.append(temp)\n",
    "\n",
    "final_df = pd.DataFrame(pd.concat(data))\n",
    "\n",
    "import plotly.express as px\n",
    "px.scatter_geo(final_df, 'latitude', 'longitude', \n",
    "               hover_data=['place name', 'state'], \n",
    "               color='state', \n",
    "               projection = 'natural earth',\n",
    "               width = 900,\n",
    "               height = 600,\n",
    "               )\n"
   ]
  }
 ],
 "metadata": {
  "kernelspec": {
   "display_name": "Python 3",
   "language": "python",
   "name": "python3"
  },
  "language_info": {
   "codemirror_mode": {
    "name": "ipython",
    "version": 3
   },
   "file_extension": ".py",
   "mimetype": "text/x-python",
   "name": "python",
   "nbconvert_exporter": "python",
   "pygments_lexer": "ipython3",
   "version": "3.13.3"
  }
 },
 "nbformat": 4,
 "nbformat_minor": 5
}
