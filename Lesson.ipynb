{
 "cells": [
  {
   "cell_type": "markdown",
   "id": "ae46a534-3fb2-431b-9a2e-aced08023ac0",
   "metadata": {},
   "source": [
    "## Web APIs - The Alternative to Scraping"
   ]
  },
  {
   "cell_type": "markdown",
   "id": "2a5393a0-6934-4189-8d87-090f7feea125",
   "metadata": {},
   "source": [
    "Web scraping doesn't always work. Many modern websites are built in a way that makes it particularly hard to scrape. They may do one of the following:\n",
    "\n",
    "- Incorporate \"infinite scrolling\", so that the page that is loaded is not the same as the content you want to scrape\n",
    "- Block scraping through bot detection\n",
    "- Have a website sufficiently complex that scraping is too hard to implement\n",
    "\n",
    "Why would websites actively discourage or even make scraping impossible? For the most part, we can imagine websites as a storefront. The website is designed to provide some good or service in exchange for either money (through purchases) or in exchange for the consumption of advertisements or other forms of compensation. Although these \"storefronts\" are online, they are not costless. \n",
    "\n",
    "Every time a website is requested, the server must send that information to the person/computer/bot that has requested it. This might be very cheap for a single request, but these costs add up when hundreds, thousands, or even millions of requests must be processed. When we scrape a website, we are in essence trying to collect a good (data) without compensating the group who maintains the website. For this reason, many websites will seek to block web scraping whenever they detect it, and will include a statement to this effect in their terms of service.\n",
    "\n",
    "In cases where scraping is not feasible for one reason or another, we will need an alternative way to collect data. Web APIs will be our key to data collection in these situations.\n"
   ]
  },
  {
   "cell_type": "markdown",
   "id": "23fbaebd-86ae-4280-85d3-103a06e42686",
   "metadata": {},
   "source": [
    "## What are web APIs?\n",
    "\n",
    "The acronym **API** stands for **Application Programming Interface**, and is the name for the way in which a program or user may communicate with another program. Using an API enables the creation of explicit mechanisms for input and output of data.\n",
    "\n",
    "A **web API** is simply the API that allows users and programs to interact with a website or web service, so that we can automate or streamline online interactions. APIs are used for the following (and much more!):\n",
    "\n",
    "- 3rd party social media apps\n",
    "- Map interfaces on business websites\n",
    "- Data collection\n",
    "\n",
    "\n",
    "### Comparing APIs to Scraping\n",
    "\n",
    "When using a web API, our process is very different than when we scrape. As discussed earlier, scraping typically occurs at the expense of the service provider, making many websites averse to allowing scraping to take place. On the other hand, when using an API, there is an explicit agreement between the provider of data and the consumer. In many cases, APIs cost money to use, and are designed to compensate the service provider in a transaction reflecting the fact that the consumer no longer seeks to buy a good/service on the website or view advertisements. Instead, the data being transferred is the product to be consumed.\n",
    "\n",
    "While we will use a free and open API to learn during this class, bear in mind that many (if not most) APIs will require the user to register before making requests, and may also require payment. This arrangement allows both users and providers to benefit from the exchange of data.\n"
   ]
  },
  {
   "cell_type": "markdown",
   "id": "77c5c1ae-1764-4b51-bd36-5f5a3ce156cc",
   "metadata": {},
   "source": [
    "## Using a web API\n",
    "\n",
    "To learn about using web APIs, we will experiment with the free location API provided by [zippopotam.us](http://www.zippopotam.us/). We will learn the basics of API use with the simple examples that can be implemented through the Zippopotamus API, and hopefully make some fun graphs while we are at it!\n",
    "\n",
    "Most web APIs are accessed through the use of a URL, just like any other website. We then use the various extensions of the URL to make a request for an API call, rather than to request a specific website. Let's give this a try with the `requests` library, and see what we get back as we request various URLs from Zippopotamus:"
   ]
  },
  {
   "cell_type": "code",
   "execution_count": 16,
   "id": "46fe937a-474d-40e8-8a46-f63f73fa00dd",
   "metadata": {},
   "outputs": [
    {
     "data": {
      "text/plain": [
       "'{\"country\": \"United States\", \"country abbreviation\": \"US\", \"post code\": \"68022\", \"places\": [{\"place name\": \"Elkhorn\", \"longitude\": \"-96.2431\", \"latitude\": \"41.2756\", \"state\": \"Nebraska\", \"state abbreviation\": \"NE\"}]}'"
      ]
     },
     "execution_count": 16,
     "metadata": {},
     "output_type": "execute_result"
    }
   ],
   "source": [
    "import requests\n",
    "\n",
    "requests.get(\"https://api.zippopotam.us/us/68022\").text"
   ]
  },
  {
   "cell_type": "markdown",
   "id": "107b08c6-3ae5-4cfb-98aa-e253d5068529",
   "metadata": {},
   "source": [
    "    '{\"post code\": \"68022\", \"country\": \"United States\", \"country abbreviation\": \"US\", \"places\": [{\"place name\": \"Elkhorn\", \"longitude\": \"-96.2431\", \"state\": \"Nebraska\", \"state abbreviation\": \"NE\", \"latitude\": \"41.2756\"}]}'"
   ]
  },
  {
   "cell_type": "markdown",
   "id": "bdb7f50b-427c-42b5-a43e-566b2cc0823b",
   "metadata": {},
   "source": [
    "Cool! We got some random stuff when we requested a random page from Zippopotamus... What is this? Let's break down our URL to learn more about what is going on:\n",
    "\n",
    " - `https://api.zippopotam.us` is the URL that we will always call when making requests to or from Zippopotamus\n",
    " - `/us` tells Zippopotamus that the location we are referencing is in the United States\n",
    " - `/68022` is the postal code for which we want to extract information from Zippopotamus\n",
    " \n",
    "The data that we receive back from our request is information about the postal code that we want to examine. Before we start learning how to work with our results, let's try another API call:"
   ]
  },
  {
   "cell_type": "markdown",
   "id": "04922d3f-5031-4014-8d45-c5890a32fc14",
   "metadata": {},
   "source": [
    "requests.get(\"https://api.zippopotam.us/us/wa/redmond\").text"
   ]
  },
  {
   "cell_type": "markdown",
   "id": "d01a5dfa-49ee-4835-a3d6-c5e5992a7139",
   "metadata": {},
   "source": [
    "    '{\"country abbreviation\": \"US\", \"places\": [{\"place name\": \"Redmond\", \"longitude\": \"-122.1232\", \"post code\": \"98052\", \"latitude\": \"47.6718\"}, {\"place name\": \"Redmond\", \"longitude\": \"-122.0386\", \"post code\": \"98053\", \"latitude\": \"47.6462\"}, {\"place name\": \"Redmond\", \"longitude\": \"-121.8034\", \"post code\": \"98073\", \"latitude\": \"47.4323\"}], \"country\": \"United States\", \"place name\": \"Redmond\", \"state\": \"Washington\", \"state abbreviation\": \"WA\"}'\n",
    "\n",
    "\n",
    "\n",
    "In this new request, we have the following:\n",
    "\n",
    "- `https://api.zippopotam.us` is the URL that we will always call when making requests to or from Zippopotamus\n",
    "- `/us` tells Zippopotamus that the location we are referencing is in the United States\n",
    "- `/wa` tells Zippopotamus that the location is in Washington state\n",
    "- `/redmond` is the city for which we would like to extract information\n",
    "\n",
    "As might be evident from the differences between the two requests we have made, many APIs are able to access different kinds of information depending on the different requests that we make. We can find information on the city in which a postal code is located, or we can find postal codes within a city of interest! This will allow us to make requests that will generate a map of places that I have lived during my life. Let's try it out."
   ]
  },
  {
   "cell_type": "code",
   "execution_count": 17,
   "id": "03c15d92-7c94-4b38-9ee8-5e595353086f",
   "metadata": {},
   "outputs": [],
   "source": [
    "livedThere = [\n",
    "    {\"country\": \"/us\", \"postal_code\": \"/92056\"},\n",
    "    {\"country\": \"/us\", \"postal_code\": \"/98052\"},\n",
    "    {\"country\": \"/us\", \"postal_code\": \"/84602\"},\n",
    "    {\"country\": \"/br\", \"postal_code\": \"/96225-000\"},\n",
    "    {\"country\": \"/br\", \"postal_code\": \"/96600-000\"},\n",
    "    {\"country\": \"/us\", \"postal_code\": \"/99163\"},\n",
    "    {\"country\": \"/us\", \"postal_code\": \"/68022\"},\n",
    "    {\"country\": \"/us\", \"postal_code\": \"/84102\"},\n",
    "]"
   ]
  },
  {
   "cell_type": "markdown",
   "id": "986d91f3-cd63-4dcc-acdb-b0656a169619",
   "metadata": {},
   "source": [
    "The cell above contains a list of dictionaries. I will iterate over this list to create my API calls:"
   ]
  },
  {
   "cell_type": "code",
   "execution_count": 18,
   "id": "8df503a9-dbad-43c2-ba76-b39fb64ec383",
   "metadata": {},
   "outputs": [
    {
     "name": "stdout",
     "output_type": "stream",
     "text": [
      "https://api.zippopotam.us/us/92056\n",
      "https://api.zippopotam.us/us/98052\n",
      "https://api.zippopotam.us/us/84602\n",
      "https://api.zippopotam.us/br/96225-000\n",
      "https://api.zippopotam.us/br/96600-000\n",
      "https://api.zippopotam.us/us/99163\n",
      "https://api.zippopotam.us/us/68022\n",
      "https://api.zippopotam.us/us/84102\n"
     ]
    }
   ],
   "source": [
    "for i in livedThere:\n",
    "    call = \"https://api.zippopotam.us{0}{1}\".format(i[\"country\"],i[\"postal_code\"])\n",
    "    print(call)"
   ]
  },
  {
   "cell_type": "markdown",
   "id": "054691ba-437e-443e-8b06-a123b9bfb9dd",
   "metadata": {},
   "source": [
    "    https://api.zippopotam.us/us/92056\n",
    "    https://api.zippopotam.us/us/98052\n",
    "    https://api.zippopotam.us/us/84602\n",
    "    https://api.zippopotam.us/br/96225-000\n",
    "    https://api.zippopotam.us/br/96600-000\n",
    "    https://api.zippopotam.us/us/99163\n",
    "    https://api.zippopotam.us/us/68022\n",
    "    https://api.zippopotam.us/us/84102\n",
    "\n",
    "\n",
    "The above code combines my country codes for each location with the postal code and the base-URL to provide my API call. Now it is time to write some code to retrieve each request and store the results in a new list:"
   ]
  },
  {
   "cell_type": "code",
   "execution_count": 46,
   "id": "da4d6a90-afef-45a0-b031-1f69a75c24f5",
   "metadata": {},
   "outputs": [
    {
     "name": "stdout",
     "output_type": "stream",
     "text": [
      "https://api.zippopotam.us/us/92056\n",
      "https://api.zippopotam.us/us/98052\n",
      "https://api.zippopotam.us/us/84602\n",
      "https://api.zippopotam.us/br/96225-000\n",
      "https://api.zippopotam.us/br/96600-000\n",
      "https://api.zippopotam.us/us/99163\n",
      "https://api.zippopotam.us/us/68022\n",
      "https://api.zippopotam.us/us/84102\n",
      "<class 'str'>\n"
     ]
    }
   ],
   "source": [
    "locales = []\n",
    "\n",
    "for i in livedThere:\n",
    "    call = \"https://api.zippopotam.us{0}{1}\".format(i[\"country\"],i[\"postal_code\"])\n",
    "    print(call)\n",
    "    locales.append(requests.get(call).text)\n",
    "    \n",
    "print(type(locales[0]))"
   ]
  },
  {
   "cell_type": "markdown",
   "id": "41cf6d1b-5b6b-4ed2-bc43-abc4a516e10b",
   "metadata": {},
   "source": [
    "    ['{\"post code\": \"92056\", \"country\": \"United States\", \"country abbreviation\": \"US\", \"places\": [{\"place name\": \"Oceanside\", \"longitude\": \"-117.2831\", \"state\": \"California\", \"state abbreviation\": \"CA\", \"latitude\": \"33.1968\"}]}',\n",
    "     '{\"post code\": \"98052\", \"country\": \"United States\", \"country abbreviation\": \"US\", \"places\": [{\"place name\": \"Redmond\", \"longitude\": \"-122.1232\", \"state\": \"Washington\", \"state abbreviation\": \"WA\", \"latitude\": \"47.6718\"}]}',\n",
    "     '{\"post code\": \"84602\", \"country\": \"United States\", \"country abbreviation\": \"US\", \"places\": [{\"place name\": \"Provo\", \"longitude\": \"-111.7325\", \"state\": \"Utah\", \"state abbreviation\": \"UT\", \"latitude\": \"40.3563\"}]}',\n",
    "     '{\"post code\": \"96225-000\", \"country\": \"Brazil\", \"country abbreviation\": \"BR\", \"places\": [{\"place name\": \"S\\\\u00e3o Jos\\\\u00e9 do Norte\", \"longitude\": \"-51.762\", \"state\": \"Rio Grande do Sul\", \"state abbreviation\": \"23\", \"latitude\": \"-31.8009\"}]}',\n",
    "     '{\"post code\": \"96600-000\", \"country\": \"Brazil\", \"country abbreviation\": \"BR\", \"places\": [{\"place name\": \"Cangu\\\\u00e7u\", \"longitude\": \"-52.6682\", \"state\": \"Rio Grande do Sul\", \"state abbreviation\": \"23\", \"latitude\": \"-31.2117\"}]}',\n",
    "     '{\"post code\": \"99163\", \"country\": \"United States\", \"country abbreviation\": \"US\", \"places\": [{\"place name\": \"Pullman\", \"longitude\": \"-117.1729\", \"state\": \"Washington\", \"state abbreviation\": \"WA\", \"latitude\": \"46.7352\"}]}',\n",
    "     '{\"post code\": \"68022\", \"country\": \"United States\", \"country abbreviation\": \"US\", \"places\": [{\"place name\": \"Elkhorn\", \"longitude\": \"-96.2431\", \"state\": \"Nebraska\", \"state abbreviation\": \"NE\", \"latitude\": \"41.2756\"}]}',\n",
    "     '{\"post code\": \"84102\", \"country\": \"United States\", \"country abbreviation\": \"US\", \"places\": [{\"place name\": \"Salt Lake City\", \"longitude\": \"-111.8627\", \"state\": \"Utah\", \"state abbreviation\": \"UT\", \"latitude\": \"40.76\"}]}']\n",
    "\n",
    "\n",
    "\n",
    "Awesome! We have the results! Except, they are really garbled....now we need to take these results and clean them up into a useable format. Let's figure out how."
   ]
  },
  {
   "cell_type": "markdown",
   "id": "aedce013-e281-4f9d-8166-c2f4de568f13",
   "metadata": {},
   "source": [
    "## Processing `requests` results\n",
    "\n",
    "Each response from a web API will typically be returned in a **JSON** object. **JSON** stands for **Java Script Object Notation**, and is the standard format for transmitting information on the internet. While this may sound confusing, JSON is actually very easy for us to handle in Python, because it is structured EXACTLY like a Python dictionary. All we need is a way to take a JSON object and translate it into an official `dict` object.\n",
    "\n",
    "Lucky for us, the `json` library (built right into Python itself!) will make this an easy exercise."
   ]
  },
  {
   "cell_type": "code",
   "execution_count": null,
   "id": "203ef0b1-794d-49f5-9638-b0add95b9f00",
   "metadata": {},
   "outputs": [],
   "source": [
    "import json\n",
    "\n",
    "locales = [json.loads(i) for i in locales]\n",
    "\n",
    "locales"
   ]
  },
  {
   "cell_type": "markdown",
   "id": "64c1b15a-db6e-47e7-abbd-da78c543aa7f",
   "metadata": {},
   "source": [
    "    [{'post code': '92056',\n",
    "      'country': 'United States',\n",
    "      'country abbreviation': 'US',\n",
    "      'places': [{'place name': 'Oceanside',\n",
    "        'longitude': '-117.2831',\n",
    "        'state': 'California',\n",
    "        'state abbreviation': 'CA',\n",
    "        'latitude': '33.1968'}]},\n",
    "     {'post code': '98052',\n",
    "      'country': 'United States',\n",
    "      'country abbreviation': 'US',\n",
    "      'places': [{'place name': 'Redmond',\n",
    "        'longitude': '-122.1232',\n",
    "        'state': 'Washington',\n",
    "        'state abbreviation': 'WA',\n",
    "        'latitude': '47.6718'}]},\n",
    "     {'post code': '84602',\n",
    "      'country': 'United States',\n",
    "      'country abbreviation': 'US',\n",
    "      'places': [{'place name': 'Provo',\n",
    "        'longitude': '-111.7325',\n",
    "        'state': 'Utah',\n",
    "        'state abbreviation': 'UT',\n",
    "        'latitude': '40.3563'}]},\n",
    "     {'post code': '96225-000',\n",
    "      'country': 'Brazil',\n",
    "      'country abbreviation': 'BR',\n",
    "      'places': [{'place name': 'São José do Norte',\n",
    "        'longitude': '-51.762',\n",
    "        'state': 'Rio Grande do Sul',\n",
    "        'state abbreviation': '23',\n",
    "        'latitude': '-31.8009'}]},\n",
    "     {'post code': '96600-000',\n",
    "      'country': 'Brazil',\n",
    "      'country abbreviation': 'BR',\n",
    "      'places': [{'place name': 'Canguçu',\n",
    "        'longitude': '-52.6682',\n",
    "        'state': 'Rio Grande do Sul',\n",
    "        'state abbreviation': '23',\n",
    "        'latitude': '-31.2117'}]},\n",
    "     {'post code': '99163',\n",
    "      'country': 'United States',\n",
    "      'country abbreviation': 'US',\n",
    "      'places': [{'place name': 'Pullman',\n",
    "        'longitude': '-117.1729',\n",
    "        'state': 'Washington',\n",
    "        'state abbreviation': 'WA',\n",
    "        'latitude': '46.7352'}]},\n",
    "     {'post code': '68022',\n",
    "      'country': 'United States',\n",
    "      'country abbreviation': 'US',\n",
    "      'places': [{'place name': 'Elkhorn',\n",
    "        'longitude': '-96.2431',\n",
    "        'state': 'Nebraska',\n",
    "        'state abbreviation': 'NE',\n",
    "        'latitude': '41.2756'}]},\n",
    "     {'post code': '84102',\n",
    "      'country': 'United States',\n",
    "      'country abbreviation': 'US',\n",
    "      'places': [{'place name': 'Salt Lake City',\n",
    "        'longitude': '-111.8627',\n",
    "        'state': 'Utah',\n",
    "        'state abbreviation': 'UT',\n",
    "        'latitude': '40.76'}]}]\n",
    "\n",
    "\n",
    "\n",
    "And we are done making our data into Python data! That was easy! Next, let's just take this list of dictionaries, and make it into a Data Frame. It turns out that we can write a little bit of code to make Data Frames out of our API results through `pandas`:"
   ]
  },
  {
   "cell_type": "code",
   "execution_count": null,
   "id": "760cbf52-b40e-4ef9-84bd-c962495b2347",
   "metadata": {},
   "outputs": [],
   "source": [
    "import pandas as pd\n",
    "\n",
    "locales = pd.DataFrame(locales)\n",
    "\n",
    "data = []\n",
    "for i in locales.index:\n",
    "    temp = pd.DataFrame(locales.loc[i, 'places'])\n",
    "    temp['post_code'] = locales.loc[i, 'post code']\n",
    "    temp['country'] = locales.loc[i, 'country']\n",
    "    temp['country_code'] = locales.loc[i, 'country abbreviation']\n",
    "    data.append(temp)\n",
    "    \n",
    "data = pd.concat(data, axis=0).reset_index(drop=True)\n",
    "\n",
    "data"
   ]
  },
  {
   "cell_type": "markdown",
   "id": "db9476f8-83df-44b1-ab91-7b9abea70544",
   "metadata": {},
   "source": [
    "<div>\n",
    "<style scoped>\n",
    "    .dataframe tbody tr th:only-of-type {\n",
    "        vertical-align: middle;\n",
    "    }\n",
    "\n",
    "    .dataframe tbody tr th {\n",
    "        vertical-align: top;\n",
    "    }\n",
    "\n",
    "    .dataframe thead th {\n",
    "        text-align: right;\n",
    "    }\n",
    "</style>\n",
    "<table border=\"1\" class=\"dataframe\">\n",
    "  <thead>\n",
    "    <tr style=\"text-align: right;\">\n",
    "      <th></th>\n",
    "      <th>place name</th>\n",
    "      <th>longitude</th>\n",
    "      <th>state</th>\n",
    "      <th>state abbreviation</th>\n",
    "      <th>latitude</th>\n",
    "      <th>post_code</th>\n",
    "      <th>country</th>\n",
    "      <th>country_code</th>\n",
    "    </tr>\n",
    "  </thead>\n",
    "  <tbody>\n",
    "    <tr>\n",
    "      <th>0</th>\n",
    "      <td>Oceanside</td>\n",
    "      <td>-117.2831</td>\n",
    "      <td>California</td>\n",
    "      <td>CA</td>\n",
    "      <td>33.1968</td>\n",
    "      <td>92056</td>\n",
    "      <td>United States</td>\n",
    "      <td>US</td>\n",
    "    </tr>\n",
    "    <tr>\n",
    "      <th>1</th>\n",
    "      <td>Redmond</td>\n",
    "      <td>-122.1232</td>\n",
    "      <td>Washington</td>\n",
    "      <td>WA</td>\n",
    "      <td>47.6718</td>\n",
    "      <td>98052</td>\n",
    "      <td>United States</td>\n",
    "      <td>US</td>\n",
    "    </tr>\n",
    "    <tr>\n",
    "      <th>2</th>\n",
    "      <td>Provo</td>\n",
    "      <td>-111.7325</td>\n",
    "      <td>Utah</td>\n",
    "      <td>UT</td>\n",
    "      <td>40.3563</td>\n",
    "      <td>84602</td>\n",
    "      <td>United States</td>\n",
    "      <td>US</td>\n",
    "    </tr>\n",
    "    <tr>\n",
    "      <th>3</th>\n",
    "      <td>São José do Norte</td>\n",
    "      <td>-51.762</td>\n",
    "      <td>Rio Grande do Sul</td>\n",
    "      <td>23</td>\n",
    "      <td>-31.8009</td>\n",
    "      <td>96225-000</td>\n",
    "      <td>Brazil</td>\n",
    "      <td>BR</td>\n",
    "    </tr>\n",
    "    <tr>\n",
    "      <th>4</th>\n",
    "      <td>Canguçu</td>\n",
    "      <td>-52.6682</td>\n",
    "      <td>Rio Grande do Sul</td>\n",
    "      <td>23</td>\n",
    "      <td>-31.2117</td>\n",
    "      <td>96600-000</td>\n",
    "      <td>Brazil</td>\n",
    "      <td>BR</td>\n",
    "    </tr>\n",
    "    <tr>\n",
    "      <th>5</th>\n",
    "      <td>Pullman</td>\n",
    "      <td>-117.1729</td>\n",
    "      <td>Washington</td>\n",
    "      <td>WA</td>\n",
    "      <td>46.7352</td>\n",
    "      <td>99163</td>\n",
    "      <td>United States</td>\n",
    "      <td>US</td>\n",
    "    </tr>\n",
    "    <tr>\n",
    "      <th>6</th>\n",
    "      <td>Elkhorn</td>\n",
    "      <td>-96.2431</td>\n",
    "      <td>Nebraska</td>\n",
    "      <td>NE</td>\n",
    "      <td>41.2756</td>\n",
    "      <td>68022</td>\n",
    "      <td>United States</td>\n",
    "      <td>US</td>\n",
    "    </tr>\n",
    "    <tr>\n",
    "      <th>7</th>\n",
    "      <td>Salt Lake City</td>\n",
    "      <td>-111.8627</td>\n",
    "      <td>Utah</td>\n",
    "      <td>UT</td>\n",
    "      <td>40.76</td>\n",
    "      <td>84102</td>\n",
    "      <td>United States</td>\n",
    "      <td>US</td>\n",
    "    </tr>\n",
    "  </tbody>\n",
    "</table>\n",
    "</div>\n",
    "\n",
    "\n",
    "\n",
    "Now that we have a nice, clean Data Frame containing the information on different locations, we can make a map out of it (we will cover mapping later in this course):"
   ]
  },
  {
   "cell_type": "code",
   "execution_count": null,
   "id": "1027c7a1-d70f-4477-845c-75f637a746bf",
   "metadata": {},
   "outputs": [],
   "source": [
    "import plotly.express as px\n",
    "\n",
    "px.scatter_geo(data, 'latitude', 'longitude', \n",
    "               hover_data=['place name', 'state', 'country'], \n",
    "               color='country', \n",
    "               projection = 'natural earth',\n",
    "               width = 900,\n",
    "               height = 600,\n",
    "               )"
   ]
  },
  {
   "cell_type": "markdown",
   "id": "90377ded-981a-416c-9aa2-20f46a279466",
   "metadata": {},
   "source": [
    "And there you have it! A map of places that I have lived!\n",
    "\n",
    "![](newplot.png)\n",
    "\n",
    "It really looks a lot less impressive on a world map...\n",
    "\n",
    "APIs will allow us to do all sorts of amazing work. Some APIs that are awesome but require accounts are listed below:\n",
    "\n",
    "- [Twitter Realtime Tweet Filter](https://developer.twitter.com/en/docs/tweets/filter-realtime/overview)\n",
    "- [Tracker.gg](https://tracker.gg/)\n",
    "- [Google Maps Distance Matrix](https://developers.google.com/maps/documentation/distance-matrix/intro)\n",
    "\n",
    "With web scraping and APIs at our fingertips, our ability to gather and investigate data is limited only by our ability to come up with interesting research questions."
   ]
  },
  {
   "cell_type": "markdown",
   "id": "61705461-c2bf-46c9-9ed4-d741093b565d",
   "metadata": {},
   "source": [
    "**Solve-it!**\n",
    "\n",
    "In the cell commented with `#si-exercise` is a Data Frame called `capitals` containing capital cities in states across the United States. Use the [Zippopotam.us](https://api.zippopotam.us) API to gather latitude and longitude information on each city, and add columns named `lat` and `lon` containing the latitude and longitude data for each city, respectively. Once you have done that, map all of the cities using their latitude and longitude data on a map with `scope=usa`. Store the map as a variable called `fig`.\n",
    "\n",
    "*Hints:* \n",
    "1. If you use my code from the notes above, you can't use the projection that I used with `scope=\"usa\"`. Get rid of the `projection` argument and replace it with the scope argument.\n",
    "2. You just need to grab a single latitude and longitude for the cities. I recommend using the first one in the list.\n",
    "\n",
    "You will be graded on the following:\n",
    "- Created columns named `lat` and `lon` in the `capitals` Data Frame [1 point]\n",
    "- `lat` contains correct latitude for the city [1 point]\n",
    "- `lon` contains correct longitude for the city [1 point]\n",
    "- Map (store as `fig`) displays capitals based on latitude and longitude values [1 point]"
   ]
  },
  {
   "cell_type": "code",
   "execution_count": 151,
   "id": "a0d72710-b6ed-4b30-83c1-3ae157bbda5e",
   "metadata": {},
   "outputs": [
    {
     "ename": "ValueError",
     "evalue": "Mime type rendering requires nbformat>=4.2.0 but it is not installed",
     "output_type": "error",
     "traceback": [
      "\u001b[31m---------------------------------------------------------------------------\u001b[39m",
      "\u001b[31mValueError\u001b[39m                                Traceback (most recent call last)",
      "\u001b[36mFile \u001b[39m\u001b[32m~\\AppData\\Roaming\\Python\\Python313\\site-packages\\IPython\\core\\formatters.py:984\u001b[39m, in \u001b[36mIPythonDisplayFormatter.__call__\u001b[39m\u001b[34m(self, obj)\u001b[39m\n\u001b[32m    982\u001b[39m method = get_real_method(obj, \u001b[38;5;28mself\u001b[39m.print_method)\n\u001b[32m    983\u001b[39m \u001b[38;5;28;01mif\u001b[39;00m method \u001b[38;5;129;01mis\u001b[39;00m \u001b[38;5;129;01mnot\u001b[39;00m \u001b[38;5;28;01mNone\u001b[39;00m:\n\u001b[32m--> \u001b[39m\u001b[32m984\u001b[39m     \u001b[43mmethod\u001b[49m\u001b[43m(\u001b[49m\u001b[43m)\u001b[49m\n\u001b[32m    985\u001b[39m     \u001b[38;5;28;01mreturn\u001b[39;00m \u001b[38;5;28;01mTrue\u001b[39;00m\n",
      "\u001b[36mFile \u001b[39m\u001b[32mc:\\Users\\katel\\AppData\\Local\\Programs\\Python\\Python313\\Lib\\site-packages\\plotly\\basedatatypes.py:850\u001b[39m, in \u001b[36mBaseFigure._ipython_display_\u001b[39m\u001b[34m(self)\u001b[39m\n\u001b[32m    847\u001b[39m \u001b[38;5;28;01mimport\u001b[39;00m\u001b[38;5;250m \u001b[39m\u001b[34;01mplotly\u001b[39;00m\u001b[34;01m.\u001b[39;00m\u001b[34;01mio\u001b[39;00m\u001b[38;5;250m \u001b[39m\u001b[38;5;28;01mas\u001b[39;00m\u001b[38;5;250m \u001b[39m\u001b[34;01mpio\u001b[39;00m\n\u001b[32m    849\u001b[39m \u001b[38;5;28;01mif\u001b[39;00m pio.renderers.render_on_display \u001b[38;5;129;01mand\u001b[39;00m pio.renderers.default:\n\u001b[32m--> \u001b[39m\u001b[32m850\u001b[39m     \u001b[43mpio\u001b[49m\u001b[43m.\u001b[49m\u001b[43mshow\u001b[49m\u001b[43m(\u001b[49m\u001b[38;5;28;43mself\u001b[39;49m\u001b[43m)\u001b[49m\n\u001b[32m    851\u001b[39m \u001b[38;5;28;01melse\u001b[39;00m:\n\u001b[32m    852\u001b[39m     \u001b[38;5;28mprint\u001b[39m(\u001b[38;5;28mrepr\u001b[39m(\u001b[38;5;28mself\u001b[39m))\n",
      "\u001b[36mFile \u001b[39m\u001b[32mc:\\Users\\katel\\AppData\\Local\\Programs\\Python\\Python313\\Lib\\site-packages\\plotly\\io\\_renderers.py:415\u001b[39m, in \u001b[36mshow\u001b[39m\u001b[34m(fig, renderer, validate, **kwargs)\u001b[39m\n\u001b[32m    410\u001b[39m     \u001b[38;5;28;01mraise\u001b[39;00m \u001b[38;5;167;01mValueError\u001b[39;00m(\n\u001b[32m    411\u001b[39m         \u001b[33m\"\u001b[39m\u001b[33mMime type rendering requires ipython but it is not installed\u001b[39m\u001b[33m\"\u001b[39m\n\u001b[32m    412\u001b[39m     )\n\u001b[32m    414\u001b[39m \u001b[38;5;28;01mif\u001b[39;00m \u001b[38;5;129;01mnot\u001b[39;00m nbformat \u001b[38;5;129;01mor\u001b[39;00m Version(nbformat.__version__) < Version(\u001b[33m\"\u001b[39m\u001b[33m4.2.0\u001b[39m\u001b[33m\"\u001b[39m):\n\u001b[32m--> \u001b[39m\u001b[32m415\u001b[39m     \u001b[38;5;28;01mraise\u001b[39;00m \u001b[38;5;167;01mValueError\u001b[39;00m(\n\u001b[32m    416\u001b[39m         \u001b[33m\"\u001b[39m\u001b[33mMime type rendering requires nbformat>=4.2.0 but it is not installed\u001b[39m\u001b[33m\"\u001b[39m\n\u001b[32m    417\u001b[39m     )\n\u001b[32m    419\u001b[39m display_jupyter_version_warnings()\n\u001b[32m    421\u001b[39m ipython_display.display(bundle, raw=\u001b[38;5;28;01mTrue\u001b[39;00m)\n",
      "\u001b[31mValueError\u001b[39m: Mime type rendering requires nbformat>=4.2.0 but it is not installed"
     ]
    },
    {
     "data": {
      "application/vnd.plotly.v1+json": {
       "config": {
        "plotlyServerURL": "https://plot.ly"
       },
       "data": [
        {
         "lat": {
          "bdata": "BFYOLbItQECRfvs6cC5NQCcxCKwc2kBA+THmriV0QUBiEFg5tDBDQNuK/WX33ENAXCBB8WPsREAVjErqBJRDQMsQx7q4bT5AB1+YTBXsQEDOGVHaG9w4QJOpglFJzUVAZmZmZmbmQ0AzMzMzM+NDQPyp8dJNykRAvJaQD3p+Q0DaG3xhMh1DQPtcbcX+cj5Amggbnl4pRkDi6ZWyDJFDQOXyH9JvL0VAdCSX/5BeRUAm5IOezWpGQBsv3SQGKUBAoImw4elFQ0C8lpAPek5HQILix5i7bkRA7MA5I0qTQ0CHFtnO95tFQJZDi2znI0RA4XoUrkfZQUC7Jw8LtU5FQELPZtXn4kFAYcPTK2VpR0Bpb/CFyQxEQNuK/WX3rEFAtvP91Hh5RkDhC5OpgiFEQAyTqYJR6URAj8L1KFz/QECe76fGSy9GQD55WKg1FUJAFmpN845TPkDwhclUwWBEQBpR2ht8GUZAF0hQ/BjDQkAoDwu1poFHQOkmMQisLENAm+Ydp+iIRUC1N/jCZJJEQA==",
          "dtype": "f8"
         },
         "lon": {
          "bdata": "KjqSy3+QVcAU0ETY8NBgwOauJeSDFlzAFNBE2PAIV8CzDHGsi2NewJ/Nqs/VNlrAOPjCZKpAUsDByqFFtt9SwJT2Bl+YEFXAdZMYBFYeVcCx4emVsgBlwAXFjzF3EV3AIbByaJFpVsD7XG3F/oZVwDJVMCqpb1fALv8h/fbxV8AyVTAqqTdVwM6I0t7gy1bAkxgEVg5xUcDeAgmKHzNTwH0/NV66wVHAH/RsVn0eVcDQ1VbsLz9XwJOpglFJjVbA9ihcj8IJV8Do2az6XAFcwJtVn6utNFjAiIVa07zvXcBZhjjWxeFRwCGwcmiRrVLAtFn1udp+WsA8vVKWIX5SwGN/2T15qFPANjy9UpYxWcAFo5I6AcFUwF1txf6yX1jAx0s3iUHAXsA/xty1hDhTwEoMAiuH2lHAofgx5q5FVMC4rwPnjBRZwCBB8WPMsVXA6Nms+lxxWMCvlGWIY/lbwN21hHzQI1LAyJi7lpBfU8AHX5hMFbhewOM2GsBbaFTAkDF3LSFbVsDQRNjw9DJawA==",
          "dtype": "f8"
         },
         "marker": {
          "color": "blue",
          "size": 8
         },
         "mode": "markers",
         "text": [
          "Montgomery",
          "Juneau",
          "Phoenix",
          "Little Rock",
          "Sacramento",
          "Denver",
          "Hartford",
          "Dover",
          "Tallahassee",
          "Atlanta",
          "Honolulu",
          "Boise",
          "Springfield",
          "Indianapolis",
          "Des Moines",
          "Topeka",
          "Frankfort",
          "Baton Rouge",
          "Augusta",
          "Annapolis",
          "Boston",
          "Lansing",
          "Saint Paul",
          "Jackson",
          "Jefferson City",
          "Helena",
          "Lincoln",
          "Carson City",
          "Concord",
          "Trenton",
          "Santa Fe",
          "Albany",
          "Raleigh",
          "Bismarck",
          "Columbus",
          "Oklahoma City",
          "Salem",
          "Harrisburg",
          "Providence",
          "Columbia",
          "Pierre",
          "Nashville",
          "Austin",
          "Salt Lake City",
          "Montpelier",
          "Richmond",
          "Olympia",
          "Charleston",
          "Madison",
          "Cheyenne"
         ],
         "type": "scattergeo"
        }
       ],
       "layout": {
        "geo": {
         "scope": "usa"
        },
        "height": 600,
        "template": {
         "data": {
          "bar": [
           {
            "error_x": {
             "color": "#2a3f5f"
            },
            "error_y": {
             "color": "#2a3f5f"
            },
            "marker": {
             "line": {
              "color": "#E5ECF6",
              "width": 0.5
             },
             "pattern": {
              "fillmode": "overlay",
              "size": 10,
              "solidity": 0.2
             }
            },
            "type": "bar"
           }
          ],
          "barpolar": [
           {
            "marker": {
             "line": {
              "color": "#E5ECF6",
              "width": 0.5
             },
             "pattern": {
              "fillmode": "overlay",
              "size": 10,
              "solidity": 0.2
             }
            },
            "type": "barpolar"
           }
          ],
          "carpet": [
           {
            "aaxis": {
             "endlinecolor": "#2a3f5f",
             "gridcolor": "white",
             "linecolor": "white",
             "minorgridcolor": "white",
             "startlinecolor": "#2a3f5f"
            },
            "baxis": {
             "endlinecolor": "#2a3f5f",
             "gridcolor": "white",
             "linecolor": "white",
             "minorgridcolor": "white",
             "startlinecolor": "#2a3f5f"
            },
            "type": "carpet"
           }
          ],
          "choropleth": [
           {
            "colorbar": {
             "outlinewidth": 0,
             "ticks": ""
            },
            "type": "choropleth"
           }
          ],
          "contour": [
           {
            "colorbar": {
             "outlinewidth": 0,
             "ticks": ""
            },
            "colorscale": [
             [
              0,
              "#0d0887"
             ],
             [
              0.1111111111111111,
              "#46039f"
             ],
             [
              0.2222222222222222,
              "#7201a8"
             ],
             [
              0.3333333333333333,
              "#9c179e"
             ],
             [
              0.4444444444444444,
              "#bd3786"
             ],
             [
              0.5555555555555556,
              "#d8576b"
             ],
             [
              0.6666666666666666,
              "#ed7953"
             ],
             [
              0.7777777777777778,
              "#fb9f3a"
             ],
             [
              0.8888888888888888,
              "#fdca26"
             ],
             [
              1,
              "#f0f921"
             ]
            ],
            "type": "contour"
           }
          ],
          "contourcarpet": [
           {
            "colorbar": {
             "outlinewidth": 0,
             "ticks": ""
            },
            "type": "contourcarpet"
           }
          ],
          "heatmap": [
           {
            "colorbar": {
             "outlinewidth": 0,
             "ticks": ""
            },
            "colorscale": [
             [
              0,
              "#0d0887"
             ],
             [
              0.1111111111111111,
              "#46039f"
             ],
             [
              0.2222222222222222,
              "#7201a8"
             ],
             [
              0.3333333333333333,
              "#9c179e"
             ],
             [
              0.4444444444444444,
              "#bd3786"
             ],
             [
              0.5555555555555556,
              "#d8576b"
             ],
             [
              0.6666666666666666,
              "#ed7953"
             ],
             [
              0.7777777777777778,
              "#fb9f3a"
             ],
             [
              0.8888888888888888,
              "#fdca26"
             ],
             [
              1,
              "#f0f921"
             ]
            ],
            "type": "heatmap"
           }
          ],
          "histogram": [
           {
            "marker": {
             "pattern": {
              "fillmode": "overlay",
              "size": 10,
              "solidity": 0.2
             }
            },
            "type": "histogram"
           }
          ],
          "histogram2d": [
           {
            "colorbar": {
             "outlinewidth": 0,
             "ticks": ""
            },
            "colorscale": [
             [
              0,
              "#0d0887"
             ],
             [
              0.1111111111111111,
              "#46039f"
             ],
             [
              0.2222222222222222,
              "#7201a8"
             ],
             [
              0.3333333333333333,
              "#9c179e"
             ],
             [
              0.4444444444444444,
              "#bd3786"
             ],
             [
              0.5555555555555556,
              "#d8576b"
             ],
             [
              0.6666666666666666,
              "#ed7953"
             ],
             [
              0.7777777777777778,
              "#fb9f3a"
             ],
             [
              0.8888888888888888,
              "#fdca26"
             ],
             [
              1,
              "#f0f921"
             ]
            ],
            "type": "histogram2d"
           }
          ],
          "histogram2dcontour": [
           {
            "colorbar": {
             "outlinewidth": 0,
             "ticks": ""
            },
            "colorscale": [
             [
              0,
              "#0d0887"
             ],
             [
              0.1111111111111111,
              "#46039f"
             ],
             [
              0.2222222222222222,
              "#7201a8"
             ],
             [
              0.3333333333333333,
              "#9c179e"
             ],
             [
              0.4444444444444444,
              "#bd3786"
             ],
             [
              0.5555555555555556,
              "#d8576b"
             ],
             [
              0.6666666666666666,
              "#ed7953"
             ],
             [
              0.7777777777777778,
              "#fb9f3a"
             ],
             [
              0.8888888888888888,
              "#fdca26"
             ],
             [
              1,
              "#f0f921"
             ]
            ],
            "type": "histogram2dcontour"
           }
          ],
          "mesh3d": [
           {
            "colorbar": {
             "outlinewidth": 0,
             "ticks": ""
            },
            "type": "mesh3d"
           }
          ],
          "parcoords": [
           {
            "line": {
             "colorbar": {
              "outlinewidth": 0,
              "ticks": ""
             }
            },
            "type": "parcoords"
           }
          ],
          "pie": [
           {
            "automargin": true,
            "type": "pie"
           }
          ],
          "scatter": [
           {
            "fillpattern": {
             "fillmode": "overlay",
             "size": 10,
             "solidity": 0.2
            },
            "type": "scatter"
           }
          ],
          "scatter3d": [
           {
            "line": {
             "colorbar": {
              "outlinewidth": 0,
              "ticks": ""
             }
            },
            "marker": {
             "colorbar": {
              "outlinewidth": 0,
              "ticks": ""
             }
            },
            "type": "scatter3d"
           }
          ],
          "scattercarpet": [
           {
            "marker": {
             "colorbar": {
              "outlinewidth": 0,
              "ticks": ""
             }
            },
            "type": "scattercarpet"
           }
          ],
          "scattergeo": [
           {
            "marker": {
             "colorbar": {
              "outlinewidth": 0,
              "ticks": ""
             }
            },
            "type": "scattergeo"
           }
          ],
          "scattergl": [
           {
            "marker": {
             "colorbar": {
              "outlinewidth": 0,
              "ticks": ""
             }
            },
            "type": "scattergl"
           }
          ],
          "scattermap": [
           {
            "marker": {
             "colorbar": {
              "outlinewidth": 0,
              "ticks": ""
             }
            },
            "type": "scattermap"
           }
          ],
          "scattermapbox": [
           {
            "marker": {
             "colorbar": {
              "outlinewidth": 0,
              "ticks": ""
             }
            },
            "type": "scattermapbox"
           }
          ],
          "scatterpolar": [
           {
            "marker": {
             "colorbar": {
              "outlinewidth": 0,
              "ticks": ""
             }
            },
            "type": "scatterpolar"
           }
          ],
          "scatterpolargl": [
           {
            "marker": {
             "colorbar": {
              "outlinewidth": 0,
              "ticks": ""
             }
            },
            "type": "scatterpolargl"
           }
          ],
          "scatterternary": [
           {
            "marker": {
             "colorbar": {
              "outlinewidth": 0,
              "ticks": ""
             }
            },
            "type": "scatterternary"
           }
          ],
          "surface": [
           {
            "colorbar": {
             "outlinewidth": 0,
             "ticks": ""
            },
            "colorscale": [
             [
              0,
              "#0d0887"
             ],
             [
              0.1111111111111111,
              "#46039f"
             ],
             [
              0.2222222222222222,
              "#7201a8"
             ],
             [
              0.3333333333333333,
              "#9c179e"
             ],
             [
              0.4444444444444444,
              "#bd3786"
             ],
             [
              0.5555555555555556,
              "#d8576b"
             ],
             [
              0.6666666666666666,
              "#ed7953"
             ],
             [
              0.7777777777777778,
              "#fb9f3a"
             ],
             [
              0.8888888888888888,
              "#fdca26"
             ],
             [
              1,
              "#f0f921"
             ]
            ],
            "type": "surface"
           }
          ],
          "table": [
           {
            "cells": {
             "fill": {
              "color": "#EBF0F8"
             },
             "line": {
              "color": "white"
             }
            },
            "header": {
             "fill": {
              "color": "#C8D4E3"
             },
             "line": {
              "color": "white"
             }
            },
            "type": "table"
           }
          ]
         },
         "layout": {
          "annotationdefaults": {
           "arrowcolor": "#2a3f5f",
           "arrowhead": 0,
           "arrowwidth": 1
          },
          "autotypenumbers": "strict",
          "coloraxis": {
           "colorbar": {
            "outlinewidth": 0,
            "ticks": ""
           }
          },
          "colorscale": {
           "diverging": [
            [
             0,
             "#8e0152"
            ],
            [
             0.1,
             "#c51b7d"
            ],
            [
             0.2,
             "#de77ae"
            ],
            [
             0.3,
             "#f1b6da"
            ],
            [
             0.4,
             "#fde0ef"
            ],
            [
             0.5,
             "#f7f7f7"
            ],
            [
             0.6,
             "#e6f5d0"
            ],
            [
             0.7,
             "#b8e186"
            ],
            [
             0.8,
             "#7fbc41"
            ],
            [
             0.9,
             "#4d9221"
            ],
            [
             1,
             "#276419"
            ]
           ],
           "sequential": [
            [
             0,
             "#0d0887"
            ],
            [
             0.1111111111111111,
             "#46039f"
            ],
            [
             0.2222222222222222,
             "#7201a8"
            ],
            [
             0.3333333333333333,
             "#9c179e"
            ],
            [
             0.4444444444444444,
             "#bd3786"
            ],
            [
             0.5555555555555556,
             "#d8576b"
            ],
            [
             0.6666666666666666,
             "#ed7953"
            ],
            [
             0.7777777777777778,
             "#fb9f3a"
            ],
            [
             0.8888888888888888,
             "#fdca26"
            ],
            [
             1,
             "#f0f921"
            ]
           ],
           "sequentialminus": [
            [
             0,
             "#0d0887"
            ],
            [
             0.1111111111111111,
             "#46039f"
            ],
            [
             0.2222222222222222,
             "#7201a8"
            ],
            [
             0.3333333333333333,
             "#9c179e"
            ],
            [
             0.4444444444444444,
             "#bd3786"
            ],
            [
             0.5555555555555556,
             "#d8576b"
            ],
            [
             0.6666666666666666,
             "#ed7953"
            ],
            [
             0.7777777777777778,
             "#fb9f3a"
            ],
            [
             0.8888888888888888,
             "#fdca26"
            ],
            [
             1,
             "#f0f921"
            ]
           ]
          },
          "colorway": [
           "#636efa",
           "#EF553B",
           "#00cc96",
           "#ab63fa",
           "#FFA15A",
           "#19d3f3",
           "#FF6692",
           "#B6E880",
           "#FF97FF",
           "#FECB52"
          ],
          "font": {
           "color": "#2a3f5f"
          },
          "geo": {
           "bgcolor": "white",
           "lakecolor": "white",
           "landcolor": "#E5ECF6",
           "showlakes": true,
           "showland": true,
           "subunitcolor": "white"
          },
          "hoverlabel": {
           "align": "left"
          },
          "hovermode": "closest",
          "mapbox": {
           "style": "light"
          },
          "paper_bgcolor": "white",
          "plot_bgcolor": "#E5ECF6",
          "polar": {
           "angularaxis": {
            "gridcolor": "white",
            "linecolor": "white",
            "ticks": ""
           },
           "bgcolor": "#E5ECF6",
           "radialaxis": {
            "gridcolor": "white",
            "linecolor": "white",
            "ticks": ""
           }
          },
          "scene": {
           "xaxis": {
            "backgroundcolor": "#E5ECF6",
            "gridcolor": "white",
            "gridwidth": 2,
            "linecolor": "white",
            "showbackground": true,
            "ticks": "",
            "zerolinecolor": "white"
           },
           "yaxis": {
            "backgroundcolor": "#E5ECF6",
            "gridcolor": "white",
            "gridwidth": 2,
            "linecolor": "white",
            "showbackground": true,
            "ticks": "",
            "zerolinecolor": "white"
           },
           "zaxis": {
            "backgroundcolor": "#E5ECF6",
            "gridcolor": "white",
            "gridwidth": 2,
            "linecolor": "white",
            "showbackground": true,
            "ticks": "",
            "zerolinecolor": "white"
           }
          },
          "shapedefaults": {
           "line": {
            "color": "#2a3f5f"
           }
          },
          "ternary": {
           "aaxis": {
            "gridcolor": "white",
            "linecolor": "white",
            "ticks": ""
           },
           "baxis": {
            "gridcolor": "white",
            "linecolor": "white",
            "ticks": ""
           },
           "bgcolor": "#E5ECF6",
           "caxis": {
            "gridcolor": "white",
            "linecolor": "white",
            "ticks": ""
           }
          },
          "title": {
           "x": 0.05
          },
          "xaxis": {
           "automargin": true,
           "gridcolor": "white",
           "linecolor": "white",
           "ticks": "",
           "title": {
            "standoff": 15
           },
           "zerolinecolor": "white",
           "zerolinewidth": 2
          },
          "yaxis": {
           "automargin": true,
           "gridcolor": "white",
           "linecolor": "white",
           "ticks": "",
           "title": {
            "standoff": 15
           },
           "zerolinecolor": "white",
           "zerolinewidth": 2
          }
         }
        },
        "width": 900
       }
      },
      "text/html": [
       "<div>                        <script type=\"text/javascript\">window.PlotlyConfig = {MathJaxConfig: 'local'};</script>\n",
       "        <script charset=\"utf-8\" src=\"https://cdn.plot.ly/plotly-3.1.1.min.js\" integrity=\"sha256-HUEFyfiTnZJxCxur99FjbKYTvKSzwDaD3/x5TqHpFu4=\" crossorigin=\"anonymous\"></script>                <div id=\"0cc39a0d-d558-41b0-a7f8-48234ce13f13\" class=\"plotly-graph-div\" style=\"height:600px; width:900px;\"></div>            <script type=\"text/javascript\">                window.PLOTLYENV=window.PLOTLYENV || {};                                if (document.getElementById(\"0cc39a0d-d558-41b0-a7f8-48234ce13f13\")) {                    Plotly.newPlot(                        \"0cc39a0d-d558-41b0-a7f8-48234ce13f13\",                        [{\"lat\":{\"dtype\":\"f8\",\"bdata\":\"BFYOLbItQECRfvs6cC5NQCcxCKwc2kBA+THmriV0QUBiEFg5tDBDQNuK\\u002fWX33ENAXCBB8WPsREAVjErqBJRDQMsQx7q4bT5AB1+YTBXsQEDOGVHaG9w4QJOpglFJzUVAZmZmZmbmQ0AzMzMzM+NDQPyp8dJNykRAvJaQD3p+Q0DaG3xhMh1DQPtcbcX+cj5Amggbnl4pRkDi6ZWyDJFDQOXyH9JvL0VAdCSX\\u002f5BeRUAm5IOezWpGQBsv3SQGKUBAoImw4elFQ0C8lpAPek5HQILix5i7bkRA7MA5I0qTQ0CHFtnO95tFQJZDi2znI0RA4XoUrkfZQUC7Jw8LtU5FQELPZtXn4kFAYcPTK2VpR0Bpb\\u002fCFyQxEQNuK\\u002fWX3rEFAtvP91Hh5RkDhC5OpgiFEQAyTqYJR6URAj8L1KFz\\u002fQECe76fGSy9GQD55WKg1FUJAFmpN845TPkDwhclUwWBEQBpR2ht8GUZAF0hQ\\u002fBjDQkAoDwu1poFHQOkmMQisLENAm+Ydp+iIRUC1N\\u002fjCZJJEQA==\"},\"lon\":{\"dtype\":\"f8\",\"bdata\":\"KjqSy3+QVcAU0ETY8NBgwOauJeSDFlzAFNBE2PAIV8CzDHGsi2NewJ\\u002fNqs\\u002fVNlrAOPjCZKpAUsDByqFFtt9SwJT2Bl+YEFXAdZMYBFYeVcCx4emVsgBlwAXFjzF3EV3AIbByaJFpVsD7XG3F\\u002foZVwDJVMCqpb1fALv8h\\u002ffbxV8AyVTAqqTdVwM6I0t7gy1bAkxgEVg5xUcDeAgmKHzNTwH0\\u002fNV66wVHAH\\u002fRsVn0eVcDQ1VbsLz9XwJOpglFJjVbA9ihcj8IJV8Do2az6XAFcwJtVn6utNFjAiIVa07zvXcBZhjjWxeFRwCGwcmiRrVLAtFn1udp+WsA8vVKWIX5SwGN\\u002f2T15qFPANjy9UpYxWcAFo5I6AcFUwF1txf6yX1jAx0s3iUHAXsA\\u002fxty1hDhTwEoMAiuH2lHAofgx5q5FVMC4rwPnjBRZwCBB8WPMsVXA6Nms+lxxWMCvlGWIY\\u002flbwN21hHzQI1LAyJi7lpBfU8AHX5hMFbhewOM2GsBbaFTAkDF3LSFbVsDQRNjw9DJawA==\"},\"marker\":{\"color\":\"blue\",\"size\":8},\"mode\":\"markers\",\"text\":[\"Montgomery\",\"Juneau\",\"Phoenix\",\"Little Rock\",\"Sacramento\",\"Denver\",\"Hartford\",\"Dover\",\"Tallahassee\",\"Atlanta\",\"Honolulu\",\"Boise\",\"Springfield\",\"Indianapolis\",\"Des Moines\",\"Topeka\",\"Frankfort\",\"Baton Rouge\",\"Augusta\",\"Annapolis\",\"Boston\",\"Lansing\",\"Saint Paul\",\"Jackson\",\"Jefferson City\",\"Helena\",\"Lincoln\",\"Carson City\",\"Concord\",\"Trenton\",\"Santa Fe\",\"Albany\",\"Raleigh\",\"Bismarck\",\"Columbus\",\"Oklahoma City\",\"Salem\",\"Harrisburg\",\"Providence\",\"Columbia\",\"Pierre\",\"Nashville\",\"Austin\",\"Salt Lake City\",\"Montpelier\",\"Richmond\",\"Olympia\",\"Charleston\",\"Madison\",\"Cheyenne\"],\"type\":\"scattergeo\"}],                        {\"template\":{\"data\":{\"histogram2dcontour\":[{\"type\":\"histogram2dcontour\",\"colorbar\":{\"outlinewidth\":0,\"ticks\":\"\"},\"colorscale\":[[0.0,\"#0d0887\"],[0.1111111111111111,\"#46039f\"],[0.2222222222222222,\"#7201a8\"],[0.3333333333333333,\"#9c179e\"],[0.4444444444444444,\"#bd3786\"],[0.5555555555555556,\"#d8576b\"],[0.6666666666666666,\"#ed7953\"],[0.7777777777777778,\"#fb9f3a\"],[0.8888888888888888,\"#fdca26\"],[1.0,\"#f0f921\"]]}],\"choropleth\":[{\"type\":\"choropleth\",\"colorbar\":{\"outlinewidth\":0,\"ticks\":\"\"}}],\"histogram2d\":[{\"type\":\"histogram2d\",\"colorbar\":{\"outlinewidth\":0,\"ticks\":\"\"},\"colorscale\":[[0.0,\"#0d0887\"],[0.1111111111111111,\"#46039f\"],[0.2222222222222222,\"#7201a8\"],[0.3333333333333333,\"#9c179e\"],[0.4444444444444444,\"#bd3786\"],[0.5555555555555556,\"#d8576b\"],[0.6666666666666666,\"#ed7953\"],[0.7777777777777778,\"#fb9f3a\"],[0.8888888888888888,\"#fdca26\"],[1.0,\"#f0f921\"]]}],\"heatmap\":[{\"type\":\"heatmap\",\"colorbar\":{\"outlinewidth\":0,\"ticks\":\"\"},\"colorscale\":[[0.0,\"#0d0887\"],[0.1111111111111111,\"#46039f\"],[0.2222222222222222,\"#7201a8\"],[0.3333333333333333,\"#9c179e\"],[0.4444444444444444,\"#bd3786\"],[0.5555555555555556,\"#d8576b\"],[0.6666666666666666,\"#ed7953\"],[0.7777777777777778,\"#fb9f3a\"],[0.8888888888888888,\"#fdca26\"],[1.0,\"#f0f921\"]]}],\"contourcarpet\":[{\"type\":\"contourcarpet\",\"colorbar\":{\"outlinewidth\":0,\"ticks\":\"\"}}],\"contour\":[{\"type\":\"contour\",\"colorbar\":{\"outlinewidth\":0,\"ticks\":\"\"},\"colorscale\":[[0.0,\"#0d0887\"],[0.1111111111111111,\"#46039f\"],[0.2222222222222222,\"#7201a8\"],[0.3333333333333333,\"#9c179e\"],[0.4444444444444444,\"#bd3786\"],[0.5555555555555556,\"#d8576b\"],[0.6666666666666666,\"#ed7953\"],[0.7777777777777778,\"#fb9f3a\"],[0.8888888888888888,\"#fdca26\"],[1.0,\"#f0f921\"]]}],\"surface\":[{\"type\":\"surface\",\"colorbar\":{\"outlinewidth\":0,\"ticks\":\"\"},\"colorscale\":[[0.0,\"#0d0887\"],[0.1111111111111111,\"#46039f\"],[0.2222222222222222,\"#7201a8\"],[0.3333333333333333,\"#9c179e\"],[0.4444444444444444,\"#bd3786\"],[0.5555555555555556,\"#d8576b\"],[0.6666666666666666,\"#ed7953\"],[0.7777777777777778,\"#fb9f3a\"],[0.8888888888888888,\"#fdca26\"],[1.0,\"#f0f921\"]]}],\"mesh3d\":[{\"type\":\"mesh3d\",\"colorbar\":{\"outlinewidth\":0,\"ticks\":\"\"}}],\"scatter\":[{\"fillpattern\":{\"fillmode\":\"overlay\",\"size\":10,\"solidity\":0.2},\"type\":\"scatter\"}],\"parcoords\":[{\"type\":\"parcoords\",\"line\":{\"colorbar\":{\"outlinewidth\":0,\"ticks\":\"\"}}}],\"scatterpolargl\":[{\"type\":\"scatterpolargl\",\"marker\":{\"colorbar\":{\"outlinewidth\":0,\"ticks\":\"\"}}}],\"bar\":[{\"error_x\":{\"color\":\"#2a3f5f\"},\"error_y\":{\"color\":\"#2a3f5f\"},\"marker\":{\"line\":{\"color\":\"#E5ECF6\",\"width\":0.5},\"pattern\":{\"fillmode\":\"overlay\",\"size\":10,\"solidity\":0.2}},\"type\":\"bar\"}],\"scattergeo\":[{\"type\":\"scattergeo\",\"marker\":{\"colorbar\":{\"outlinewidth\":0,\"ticks\":\"\"}}}],\"scatterpolar\":[{\"type\":\"scatterpolar\",\"marker\":{\"colorbar\":{\"outlinewidth\":0,\"ticks\":\"\"}}}],\"histogram\":[{\"marker\":{\"pattern\":{\"fillmode\":\"overlay\",\"size\":10,\"solidity\":0.2}},\"type\":\"histogram\"}],\"scattergl\":[{\"type\":\"scattergl\",\"marker\":{\"colorbar\":{\"outlinewidth\":0,\"ticks\":\"\"}}}],\"scatter3d\":[{\"type\":\"scatter3d\",\"line\":{\"colorbar\":{\"outlinewidth\":0,\"ticks\":\"\"}},\"marker\":{\"colorbar\":{\"outlinewidth\":0,\"ticks\":\"\"}}}],\"scattermap\":[{\"type\":\"scattermap\",\"marker\":{\"colorbar\":{\"outlinewidth\":0,\"ticks\":\"\"}}}],\"scattermapbox\":[{\"type\":\"scattermapbox\",\"marker\":{\"colorbar\":{\"outlinewidth\":0,\"ticks\":\"\"}}}],\"scatterternary\":[{\"type\":\"scatterternary\",\"marker\":{\"colorbar\":{\"outlinewidth\":0,\"ticks\":\"\"}}}],\"scattercarpet\":[{\"type\":\"scattercarpet\",\"marker\":{\"colorbar\":{\"outlinewidth\":0,\"ticks\":\"\"}}}],\"carpet\":[{\"aaxis\":{\"endlinecolor\":\"#2a3f5f\",\"gridcolor\":\"white\",\"linecolor\":\"white\",\"minorgridcolor\":\"white\",\"startlinecolor\":\"#2a3f5f\"},\"baxis\":{\"endlinecolor\":\"#2a3f5f\",\"gridcolor\":\"white\",\"linecolor\":\"white\",\"minorgridcolor\":\"white\",\"startlinecolor\":\"#2a3f5f\"},\"type\":\"carpet\"}],\"table\":[{\"cells\":{\"fill\":{\"color\":\"#EBF0F8\"},\"line\":{\"color\":\"white\"}},\"header\":{\"fill\":{\"color\":\"#C8D4E3\"},\"line\":{\"color\":\"white\"}},\"type\":\"table\"}],\"barpolar\":[{\"marker\":{\"line\":{\"color\":\"#E5ECF6\",\"width\":0.5},\"pattern\":{\"fillmode\":\"overlay\",\"size\":10,\"solidity\":0.2}},\"type\":\"barpolar\"}],\"pie\":[{\"automargin\":true,\"type\":\"pie\"}]},\"layout\":{\"autotypenumbers\":\"strict\",\"colorway\":[\"#636efa\",\"#EF553B\",\"#00cc96\",\"#ab63fa\",\"#FFA15A\",\"#19d3f3\",\"#FF6692\",\"#B6E880\",\"#FF97FF\",\"#FECB52\"],\"font\":{\"color\":\"#2a3f5f\"},\"hovermode\":\"closest\",\"hoverlabel\":{\"align\":\"left\"},\"paper_bgcolor\":\"white\",\"plot_bgcolor\":\"#E5ECF6\",\"polar\":{\"bgcolor\":\"#E5ECF6\",\"angularaxis\":{\"gridcolor\":\"white\",\"linecolor\":\"white\",\"ticks\":\"\"},\"radialaxis\":{\"gridcolor\":\"white\",\"linecolor\":\"white\",\"ticks\":\"\"}},\"ternary\":{\"bgcolor\":\"#E5ECF6\",\"aaxis\":{\"gridcolor\":\"white\",\"linecolor\":\"white\",\"ticks\":\"\"},\"baxis\":{\"gridcolor\":\"white\",\"linecolor\":\"white\",\"ticks\":\"\"},\"caxis\":{\"gridcolor\":\"white\",\"linecolor\":\"white\",\"ticks\":\"\"}},\"coloraxis\":{\"colorbar\":{\"outlinewidth\":0,\"ticks\":\"\"}},\"colorscale\":{\"sequential\":[[0.0,\"#0d0887\"],[0.1111111111111111,\"#46039f\"],[0.2222222222222222,\"#7201a8\"],[0.3333333333333333,\"#9c179e\"],[0.4444444444444444,\"#bd3786\"],[0.5555555555555556,\"#d8576b\"],[0.6666666666666666,\"#ed7953\"],[0.7777777777777778,\"#fb9f3a\"],[0.8888888888888888,\"#fdca26\"],[1.0,\"#f0f921\"]],\"sequentialminus\":[[0.0,\"#0d0887\"],[0.1111111111111111,\"#46039f\"],[0.2222222222222222,\"#7201a8\"],[0.3333333333333333,\"#9c179e\"],[0.4444444444444444,\"#bd3786\"],[0.5555555555555556,\"#d8576b\"],[0.6666666666666666,\"#ed7953\"],[0.7777777777777778,\"#fb9f3a\"],[0.8888888888888888,\"#fdca26\"],[1.0,\"#f0f921\"]],\"diverging\":[[0,\"#8e0152\"],[0.1,\"#c51b7d\"],[0.2,\"#de77ae\"],[0.3,\"#f1b6da\"],[0.4,\"#fde0ef\"],[0.5,\"#f7f7f7\"],[0.6,\"#e6f5d0\"],[0.7,\"#b8e186\"],[0.8,\"#7fbc41\"],[0.9,\"#4d9221\"],[1,\"#276419\"]]},\"xaxis\":{\"gridcolor\":\"white\",\"linecolor\":\"white\",\"ticks\":\"\",\"title\":{\"standoff\":15},\"zerolinecolor\":\"white\",\"automargin\":true,\"zerolinewidth\":2},\"yaxis\":{\"gridcolor\":\"white\",\"linecolor\":\"white\",\"ticks\":\"\",\"title\":{\"standoff\":15},\"zerolinecolor\":\"white\",\"automargin\":true,\"zerolinewidth\":2},\"scene\":{\"xaxis\":{\"backgroundcolor\":\"#E5ECF6\",\"gridcolor\":\"white\",\"linecolor\":\"white\",\"showbackground\":true,\"ticks\":\"\",\"zerolinecolor\":\"white\",\"gridwidth\":2},\"yaxis\":{\"backgroundcolor\":\"#E5ECF6\",\"gridcolor\":\"white\",\"linecolor\":\"white\",\"showbackground\":true,\"ticks\":\"\",\"zerolinecolor\":\"white\",\"gridwidth\":2},\"zaxis\":{\"backgroundcolor\":\"#E5ECF6\",\"gridcolor\":\"white\",\"linecolor\":\"white\",\"showbackground\":true,\"ticks\":\"\",\"zerolinecolor\":\"white\",\"gridwidth\":2}},\"shapedefaults\":{\"line\":{\"color\":\"#2a3f5f\"}},\"annotationdefaults\":{\"arrowcolor\":\"#2a3f5f\",\"arrowhead\":0,\"arrowwidth\":1},\"geo\":{\"bgcolor\":\"white\",\"landcolor\":\"#E5ECF6\",\"subunitcolor\":\"white\",\"showland\":true,\"showlakes\":true,\"lakecolor\":\"white\"},\"title\":{\"x\":0.05},\"mapbox\":{\"style\":\"light\"}}},\"geo\":{\"scope\":\"usa\"},\"width\":900,\"height\":600},                        {\"responsive\": true}                    )                };            </script>        </div>"
      ],
      "text/plain": [
       "Figure({\n",
       "    'data': [{'lat': {'bdata': ('BFYOLbItQECRfvs6cC5NQCcxCKwc2k' ... 'isLENAm+Ydp+iIRUC1N/jCZJJEQA=='),\n",
       "                      'dtype': 'f8'},\n",
       "              'lon': {'bdata': ('KjqSy3+QVcAU0ETY8NBgwOauJeSDFl' ... 'BbaFTAkDF3LSFbVsDQRNjw9DJawA=='),\n",
       "                      'dtype': 'f8'},\n",
       "              'marker': {'color': 'blue', 'size': 8},\n",
       "              'mode': 'markers',\n",
       "              'text': array(['Montgomery', 'Juneau', 'Phoenix', 'Little Rock', 'Sacramento',\n",
       "                             'Denver', 'Hartford', 'Dover', 'Tallahassee', 'Atlanta', 'Honolulu',\n",
       "                             'Boise', 'Springfield', 'Indianapolis', 'Des Moines', 'Topeka',\n",
       "                             'Frankfort', 'Baton Rouge', 'Augusta', 'Annapolis', 'Boston', 'Lansing',\n",
       "                             'Saint Paul', 'Jackson', 'Jefferson City', 'Helena', 'Lincoln',\n",
       "                             'Carson City', 'Concord', 'Trenton', 'Santa Fe', 'Albany', 'Raleigh',\n",
       "                             'Bismarck', 'Columbus', 'Oklahoma City', 'Salem', 'Harrisburg',\n",
       "                             'Providence', 'Columbia', 'Pierre', 'Nashville', 'Austin',\n",
       "                             'Salt Lake City', 'Montpelier', 'Richmond', 'Olympia', 'Charleston',\n",
       "                             'Madison', 'Cheyenne'], dtype=object),\n",
       "              'type': 'scattergeo'}],\n",
       "    'layout': {'geo': {'scope': 'usa'}, 'height': 600, 'template': '...', 'width': 900}\n",
       "})"
      ]
     },
     "execution_count": 151,
     "metadata": {},
     "output_type": "execute_result"
    }
   ],
   "source": [
    "#si-exercise\n",
    "\n",
    "import pandas as pd\n",
    "import json\n",
    "# import plotly.express as px\n",
    "import requests\n",
    "\n",
    "\n",
    "# requests.get(\"https://api.zippopotam.us\")\n",
    "\n",
    "capitals = pd.DataFrame([[\"Alabama\",\"Montgomery\",\"AL\"],\n",
    "[\"Alaska\",\"Juneau\",\"AK\"],\n",
    "[\"Arizona\",\"Phoenix\",\"AZ\"],\n",
    "[\"Arkansas\",\"Little Rock\",\"AR\"],\n",
    "[\"California\",\"Sacramento\",\"CA\"],\n",
    "[\"Colorado\",\"Denver\",\"CO\"],\n",
    "[\"Connecticut\",\"Hartford\",\"CT\"],\n",
    "[\"Delaware\",\"Dover\",\"DE\"],\n",
    "[\"Florida\",\"Tallahassee\",\"FL\"],\n",
    "[\"Georgia\",\"Atlanta\",\"GA\"],\n",
    "[\"Hawaii\",\"Honolulu\",\"HI\"],\n",
    "[\"Idaho\",\"Boise\",\"ID\"],\n",
    "[\"Illinois\",\"Springfield\",\"IL\"],\n",
    "[\"Indiana\",\"Indianapolis\",\"IN\"],\n",
    "[\"Iowa\",\"Des Moines\",\"IA\"],\n",
    "[\"Kansas\",\"Topeka\",\"KS\"],\n",
    "[\"Kentucky\",\"Frankfort\",\"KY\"],\n",
    "[\"Louisiana\",\"Baton Rouge\",\"LA\"],\n",
    "[\"Maine\",\"Augusta\",\"ME\"],\n",
    "[\"Maryland\",\"Annapolis\",\"MD\"],\n",
    "[\"Massachusetts\",\"Boston\",\"MA\"],\n",
    "[\"Michigan\",\"Lansing\",\"MI\"],\n",
    "[\"Minnesota\",\"Saint Paul\",\"MN\"],\n",
    "[\"Mississippi\",\"Jackson\",\"MS\"],\n",
    "[\"Missouri\",\"Jefferson City\",\"MO\"],\n",
    "[\"Montana\",\"Helena\",\"MT\"],\n",
    "[\"Nebraska\",\"Lincoln\",\"NE\"],\n",
    "[\"Nevada\",\"Carson City\",\"NV\"],\n",
    "[\"New Hampshire\",\"Concord\",\"NH\"],\n",
    "[\"New Jersey\",\"Trenton\",\"NJ\"],\n",
    "[\"New Mexico\",\"Santa Fe\",\"NM\"],\n",
    "[\"New York\",\"Albany\",\"NY\"],\n",
    "[\"North Carolina\",\"Raleigh\",\"NC\"],\n",
    "[\"North Dakota\",\"Bismarck\",\"ND\"],\n",
    "[\"Ohio\",\"Columbus\",\"OH\"],\n",
    "[\"Oklahoma\",\"Oklahoma City\",\"OK\"],\n",
    "[\"Oregon\",\"Salem\",\"OR\"],\n",
    "[\"Pennsylvania\",\"Harrisburg\",\"PA\"],\n",
    "[\"Rhode Island\",\"Providence\",\"RI\"],\n",
    "[\"South Carolina\",\"Columbia\",\"SC\"],\n",
    "[\"South Dakota\",\"Pierre\",\"SD\"],\n",
    "[\"Tennessee\",\"Nashville\",\"TN\"],\n",
    "[\"Texas\",\"Austin\",\"TX\"],\n",
    "[\"Utah\",\"Salt Lake City\",\"UT\"],\n",
    "[\"Vermont\",\"Montpelier\",\"VT\"],\n",
    "[\"Virginia\",\"Richmond\",\"VA\"],\n",
    "[\"Washington\",\"Olympia\",\"WA\"],\n",
    "[\"West Virginia\",\"Charleston\",\"WV\"],\n",
    "[\"Wisconsin\",\"Madison\",\"WI\"],\n",
    "[\"Wyoming\",\"Cheyenne\",\"WY\"]], columns = ['state', 'capital', 'abbrev'])\n",
    "\n",
    "###\n",
    "### PUT YOUR CODE HERE. FEEL FREE TO USE THE PLOTTING COMMAND BELOW TO COMPLETE THE ASSIGNMENT\n",
    "###\n",
    "\n",
    "\n",
    "capitals2 = []\n",
    "for index, row in capitals.iterrows():\n",
    "    call = \"https://api.zippopotam.us/us/{0}/{1}\".format(row[\"abbrev\"].lower(),row[\"capital\"].lower())\n",
    "    capitals2.append(requests.get(call).text)\n",
    "\n",
    "\n",
    "capitals2 = [json.loads(i) for i in capitals2]\n",
    "\n",
    "data = []\n",
    "for i in capitals2:\n",
    "    temp = pd.DataFrame(i['places']).head(1)\n",
    "    temp['state'] = i['state']\n",
    "    temp['capital'] = i['place name']\n",
    "    temp['abbrev'] = i['state abbreviation']\n",
    "    data.append(temp)\n",
    "\n",
    "\n",
    "final_df = pd.DataFrame(pd.concat(data))\n",
    "capitals = capitals.merge(final_df[['abbrev','latitude','longitude']], on = ['abbrev'], how = 'left')\n",
    "capitals.rename(columns={'latitude':'lat','longitude':'lon'}, inplace=True)\n",
    "\n",
    "capitals['lat'] = capitals['lat'].astype(float)\n",
    "capitals['lon'] = capitals['lon'].astype(float)\n",
    "\n",
    "import plotly.graph_objs as go\n",
    "\n",
    "# import plotly.express as px\n",
    "fig = go.Figure(data=go.Scattergeo(\n",
    "    lon = capitals['lon'],\n",
    "    lat = capitals['lat'],\n",
    "    text = capitals['capital'],  # hover info\n",
    "    mode = 'markers',\n",
    "    marker=dict(\n",
    "        size=8,\n",
    "        color='blue'\n",
    "    )\n",
    "))\n",
    "\n",
    "fig.update_layout(\n",
    "    geo=dict(scope='usa'),\n",
    "    width=900,\n",
    "    height=600\n",
    ")\n"
   ]
  },
  {
   "cell_type": "code",
   "execution_count": 152,
   "id": "ae833280",
   "metadata": {},
   "outputs": [
    {
     "name": "stderr",
     "output_type": "stream",
     "text": [
      "test_map (__main__.testCases.test_map) ... ok\n",
      "\n",
      "----------------------------------------------------------------------\n",
      "Ran 1 test in 0.003s\n",
      "\n",
      "OK\n"
     ]
    },
    {
     "data": {
      "text/plain": [
       "<unittest.runner.TextTestResult run=1 errors=0 failures=0>"
      ]
     },
     "execution_count": 152,
     "metadata": {},
     "output_type": "execute_result"
    }
   ],
   "source": [
    "\n",
    "\n",
    "# import unittest\n",
    "# import json\n",
    "# from io import StringIO\n",
    "# import plotly\n",
    "# import plotly.graph_objs as go\n",
    "\n",
    "# import plotly.express as px\n",
    "# capitals['lat'] = capitals['lat'].astype(float)\n",
    "# capitals['lon'] = capitals['lon'].astype(float)\n",
    "\n",
    "# fig = go.Figure(data=go.Scattergeo(\n",
    "#     lon = capitals['lon'],\n",
    "#     lat = capitals['lat'],\n",
    "#     text = capitals['capital'],  # hover info\n",
    "#     mode = 'markers',\n",
    "#     marker=dict(\n",
    "#         size=8,\n",
    "#         color='blue'\n",
    "#     )\n",
    "# ))\n",
    "\n",
    "# fig.update_layout(\n",
    "#     geo=dict(scope='usa'),\n",
    "#     width=900,\n",
    "#     height=600\n",
    "# )\n",
    "\n",
    "answer = 'state,capital,abbrev,lat,lon\\r\\nAlabama,Montgomery,AL,32.357,-86.2578\\r\\nAlaska,Juneau,AK,58.3628,-134.5294\\r\\nArizona,Phoenix,AZ,33.704,-112.3518\\r\\nArkansas,Little Rock,AR,34.9074,-92.1397\\r\\nCalifornia,Sacramento,CA,38.3805,-121.5554\\r\\nColorado,Denver,CO,39.7263,-104.8568\\r\\nConnecticut,Hartford,CT,41.8468,-73.0104\\r\\nDelaware,Dover,DE,39.1564,-75.4955\\r\\nFlorida,Tallahassee,FL,30.4286,-84.2593\\r\\nGeorgia,Atlanta,GA,33.8444,-84.474\\r\\nHawaii,Honolulu,HI,24.8598,-168.0218\\r\\nIdaho,Boise,ID,43.6038,-116.2729\\r\\nIllinois,Springfield,IL,39.8,-89.6495\\r\\nIndiana,Indianapolis,IN,39.775,-86.1093\\r\\nIowa,Des Moines,IA,41.5805,-93.7447\\r\\nKansas,Topeka,KS,38.9881,-95.7807\\r\\nKentucky,Frankfort,KY,38.2281,-84.8697\\r\\nLouisiana,Baton Rouge,LA,30.4492,-91.1856\\r\\nMaine,Augusta,ME,44.3232,-69.7665\\r\\nMaryland,Annapolis,MD,39.1332,-76.7988\\r\\nMassachusetts,Boston,MA,42.3706,-71.027\\r\\nMichigan,Lansing,MI,42.7388,-84.4764\\r\\nMinnesota,Saint Paul,MN,44.8344,-92.9873\\r\\nMississippi,Jackson,MS,32.3205,-90.2076\\r\\nMissouri,Jefferson City,MO,38.5462,-92.1525\\r\\nMontana,Helena,MT,46.6131,-112.0213\\r\\nNebraska,Lincoln,NE,40.8651,-96.8231\\r\\nNevada,Carson City,NV,39.1507,-119.7459\\r\\nNew Hampshire,Concord,NH,43.2185,-71.5277\\r\\nNew Jersey,Trenton,NJ,40.2805,-74.712\\r\\nNew Mexico,Santa Fe,NM,35.6975,-105.9821\\r\\nNew York,Albany,NY,42.6149,-73.9708\\r\\nNorth Carolina,Raleigh,NC,35.7727,-78.6324\\r\\nNorth Dakota,Bismarck,ND,46.8234,-100.7748\\r\\nOhio,Columbus,OH,40.0999,-83.0157\\r\\nOklahoma,Oklahoma City,OK,35.3513,-97.4953\\r\\nOregon,Salem,OR,44.949,-123.004\\r\\nPennsylvania,Harrisburg,PA,40.2618,-76.8831\\r\\nRhode Island,Providence,RI,41.8228,-71.4145\\r\\nSouth Carolina,Columbia,SC,33.995,-81.0888\\r\\nSouth Dakota,Pierre,SD,44.3695,-100.3211\\r\\nTennessee,Nashville,TN,36.1657,-86.7781\\r\\nTexas,Austin,TX,30.3264,-97.7713\\r\\nUtah,Salt Lake City,UT,40.7559,-111.8967\\r\\nVermont,Montpelier,VT,44.1991,-72.5596\\r\\nVirginia,Richmond,VA,37.5242,-77.4932\\r\\nWashington,Olympia,WA,47.0129,-122.8763\\r\\nWest Virginia,Charleston,WV,38.349,-81.6306\\r\\nWisconsin,Madison,WI,43.0696,-89.4239\\r\\nWyoming,Cheyenne,WY,41.1437,-104.7962\\r\\n'\n",
    "truth = pd.read_csv(StringIO(answer))\n",
    "\n",
    "class testCases(unittest.TestCase):\n",
    "\n",
    "    def test_map(self):\n",
    "        test1 = isinstance(fig, plotly.graph_objs._figure.Figure)\n",
    "        test2 = bool(fig.layout['geo']['scope'] == 'usa')\n",
    "        test3 = isinstance(fig.data[0], plotly.graph_objs._scattergeo.Scattergeo)\n",
    "        test4 = bool(len(fig.data[0]['lat']) == 50)\n",
    "        self.assertTrue(test1 & test2 & test3 & test4,\n",
    "                        msg = \"Make sure that 'fig' is a working Plotly geographic scatterplot and contains the \"\n",
    "                              \"correct data!\")\n",
    "        \n",
    "suite = unittest.TestLoader().loadTestsFromTestCase(testCases)\n",
    "    \n",
    "# Run the tests with verbosity so you can see results\n",
    "runner = unittest.TextTestRunner(verbosity=2)\n",
    "runner.run(suite)"
   ]
  },
  {
   "cell_type": "code",
   "execution_count": 149,
   "id": "4728fb8f",
   "metadata": {},
   "outputs": [
    {
     "name": "stdout",
     "output_type": "stream",
     "text": [
      "50\n"
     ]
    }
   ],
   "source": [
    "print(len(capitals))\n"
   ]
  }
 ],
 "metadata": {
  "kernelspec": {
   "display_name": "Python 3",
   "language": "python",
   "name": "python3"
  },
  "language_info": {
   "codemirror_mode": {
    "name": "ipython",
    "version": 3
   },
   "file_extension": ".py",
   "mimetype": "text/x-python",
   "name": "python",
   "nbconvert_exporter": "python",
   "pygments_lexer": "ipython3",
   "version": "3.13.3"
  }
 },
 "nbformat": 4,
 "nbformat_minor": 5
}
